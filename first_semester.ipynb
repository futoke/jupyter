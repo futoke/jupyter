{
 "cells": [
  {
   "cell_type": "code",
   "execution_count": null,
   "metadata": {
    "jupyter": {
     "source_hidden": true
    }
   },
   "outputs": [],
   "source": [
    "from IPython.core.interactiveshell import InteractiveShell\n",
    "InteractiveShell.ast_node_interactivity = \"all\""
   ]
  },
  {
   "cell_type": "markdown",
   "metadata": {},
   "source": [
    "# Основы языка Python"
   ]
  },
  {
   "cell_type": "markdown",
   "metadata": {
    "id": "aEBi9M-ABZg9"
   },
   "source": [
    "## Самая первая программа на Python"
   ]
  },
  {
   "cell_type": "code",
   "execution_count": null,
   "metadata": {
    "id": "W40-i1jZBF0U"
   },
   "outputs": [],
   "source": [
    "print('Hello world')"
   ]
  },
  {
   "cell_type": "markdown",
   "metadata": {
    "id": "gAUwBnbDCgr3"
   },
   "source": [
    "## Целые числа"
   ]
  },
  {
   "cell_type": "markdown",
   "metadata": {},
   "source": [
    "### Основные операции над целыми числами"
   ]
  },
  {
   "cell_type": "code",
   "execution_count": null,
   "metadata": {
    "id": "vYeUakEBDCpi"
   },
   "outputs": [],
   "source": [
    "2 + 2\n",
    "50 - 5*6\n",
    "(50 - 5*6) / 4 # Здесь результат будет во float.\n",
    "abs(-12)"
   ]
  },
  {
   "cell_type": "markdown",
   "metadata": {
    "id": "RvippCOiDogD"
   },
   "source": [
    "### Целочисленное деление"
   ]
  },
  {
   "cell_type": "code",
   "execution_count": null,
   "metadata": {
    "id": "W_lFty8NDjJS"
   },
   "outputs": [],
   "source": [
    "34 // 11"
   ]
  },
  {
   "cell_type": "markdown",
   "metadata": {
    "id": "QmaLhAiGDxNG"
   },
   "source": [
    "### Остаток от деления"
   ]
  },
  {
   "cell_type": "code",
   "execution_count": null,
   "metadata": {
    "id": "HUAF5xyzDzwv"
   },
   "outputs": [],
   "source": [
    "34 % 11\n",
    "divmod(34, 11)"
   ]
  },
  {
   "cell_type": "markdown",
   "metadata": {
    "id": "ip5DWSX1EDps"
   },
   "source": [
    "### Возведение в степень"
   ]
  },
  {
   "cell_type": "code",
   "execution_count": null,
   "metadata": {
    "id": "ZyhYSWkeEGYg"
   },
   "outputs": [],
   "source": [
    "2 ** 2457 # Степень может быть любая\n",
    "pow(2, 345)\n",
    "0 ** 0\n",
    "pow(0, 0)"
   ]
  },
  {
   "cell_type": "markdown",
   "metadata": {},
   "source": [
    "### Представление целых чисел"
   ]
  },
  {
   "cell_type": "code",
   "execution_count": null,
   "metadata": {},
   "outputs": [],
   "source": [
    "bin(7) # Бинарное значение\n",
    "hex(291) # Шестнадцатеричное значение\n",
    "oct(555) # Восьмеричное значение\n",
    "int(0b10101010)\n",
    "\n",
    "1_000_000_000"
   ]
  },
  {
   "cell_type": "markdown",
   "metadata": {
    "id": "G6Enji2EF4mP"
   },
   "source": [
    "### Битовые операции над целыми числами"
   ]
  },
  {
   "cell_type": "code",
   "execution_count": null,
   "metadata": {
    "colab": {
     "base_uri": "https://localhost:8080/"
    },
    "id": "7G8U8ZgiF9Em",
    "outputId": "82d360f7-d49f-41be-c7b5-0208f52cab62"
   },
   "outputs": [],
   "source": [
    "7 & 11\n",
    "7 | 11\n",
    "7 ^ 11\n",
    "8 << 2\n",
    "8 >> 2\n",
    "~16\n",
    "-7 | -11"
   ]
  },
  {
   "cell_type": "markdown",
   "metadata": {},
   "source": [
    "### Тип булеан"
   ]
  },
  {
   "cell_type": "code",
   "execution_count": null,
   "metadata": {},
   "outputs": [],
   "source": [
    "True\n",
    "False\n",
    "bool(1)\n",
    "bool(-1)\n",
    "bool(1_234_567)"
   ]
  },
  {
   "cell_type": "code",
   "execution_count": null,
   "metadata": {},
   "outputs": [],
   "source": [
    "not True\n",
    "not False\n",
    "not not True\n",
    "True or False\n",
    "True and False"
   ]
  },
  {
   "cell_type": "markdown",
   "metadata": {
    "id": "HbYidDIBHIdd"
   },
   "source": [
    "### Битовая магия"
   ]
  },
  {
   "cell_type": "code",
   "execution_count": 36,
   "metadata": {
    "colab": {
     "base_uri": "https://localhost:8080/"
    },
    "id": "ACnz619RHKyh",
    "outputId": "ec8000f6-ba69-45cf-9e2f-ba70423e2673"
   },
   "outputs": [
    {
     "data": {
      "text/plain": [
       "False"
      ]
     },
     "execution_count": 36,
     "metadata": {},
     "output_type": "execute_result"
    },
    {
     "data": {
      "text/plain": [
       "True"
      ]
     },
     "execution_count": 36,
     "metadata": {},
     "output_type": "execute_result"
    },
    {
     "data": {
      "text/plain": [
       "'0b011100'"
      ]
     },
     "execution_count": 36,
     "metadata": {},
     "output_type": "execute_result"
    },
    {
     "data": {
      "text/plain": [
       "'0b010100'"
      ]
     },
     "execution_count": 36,
     "metadata": {},
     "output_type": "execute_result"
    },
    {
     "data": {
      "text/plain": [
       "'0b011100'"
      ]
     },
     "execution_count": 36,
     "metadata": {},
     "output_type": "execute_result"
    }
   ],
   "source": [
    "bool(0b10100 & (1 << 3)) # Проверить бит по позиции\n",
    "bool(0b10100 & (1 << 4))\n",
    "\n",
    "format(0b10100 | (1 << 3),  '#08b') # Установить бит в единицу по позиции\n",
    "format(0b10100 & ~(1 << 3), '#08b') # Установить бит в ноль по позиции\n",
    "format(0b10100 ^ (1 << 3),  '#08b') # Инвертировать бит по позиции"
   ]
  },
  {
   "cell_type": "code",
   "execution_count": null,
   "metadata": {
    "id": "O_nb_oilLAUm"
   },
   "outputs": [],
   "source": [
    "# Поменять местами переменные без буфера.\n",
    "x = 5\n",
    "y = 10\n",
    "x ^= y\n",
    "y ^= x\n",
    "x ^= y\n",
    "print(x, y)"
   ]
  },
  {
   "cell_type": "markdown",
   "metadata": {
    "id": "ZLrXjUkCRlIe"
   },
   "source": [
    "## Вещественные числа"
   ]
  },
  {
   "cell_type": "markdown",
   "metadata": {},
   "source": [
    "[Стандарт представления вещественных чисел IEEE-754](https://en.wikipedia.org/wiki/IEEE_754)"
   ]
  },
  {
   "cell_type": "code",
   "execution_count": null,
   "metadata": {
    "id": "l3yyGwy2Rq0R"
   },
   "outputs": [],
   "source": [
    "3.45e5\n",
    "5.45E-5\n",
    "-0.12e-13\n",
    "float('+Inf')\n",
    "float('-Inf\n",
    "float('NaN')"
   ]
  },
  {
   "cell_type": "code",
   "execution_count": 37,
   "metadata": {
    "id": "b5ZB2y_kScJa"
   },
   "outputs": [
    {
     "name": "stdout",
     "output_type": "stream",
     "text": [
      "True\n"
     ]
    }
   ],
   "source": [
    "a = 10\n",
    "print(0 < a < float('+Inf'))"
   ]
  },
  {
   "cell_type": "code",
   "execution_count": 38,
   "metadata": {
    "id": "Q5zl69x_So8g"
   },
   "outputs": [
    {
     "data": {
      "text/plain": [
       "5.551115123125783e-17"
      ]
     },
     "execution_count": 38,
     "metadata": {},
     "output_type": "execute_result"
    }
   ],
   "source": [
    "0.1 + 0.1 + 0.1 - 0.3"
   ]
  },
  {
   "cell_type": "markdown",
   "metadata": {
    "id": "4Lbwupg0P-Km"
   },
   "source": [
    "### Округление для float"
   ]
  },
  {
   "cell_type": "code",
   "execution_count": 39,
   "metadata": {
    "id": "qWN-4ABAg0Rk"
   },
   "outputs": [
    {
     "data": {
      "text/plain": [
       "4"
      ]
     },
     "execution_count": 39,
     "metadata": {},
     "output_type": "execute_result"
    },
    {
     "data": {
      "text/plain": [
       "3.77"
      ]
     },
     "execution_count": 39,
     "metadata": {},
     "output_type": "execute_result"
    },
    {
     "data": {
      "text/plain": [
       "3"
      ]
     },
     "execution_count": 39,
     "metadata": {},
     "output_type": "execute_result"
    },
    {
     "data": {
      "text/plain": [
       "4"
      ]
     },
     "execution_count": 39,
     "metadata": {},
     "output_type": "execute_result"
    }
   ],
   "source": [
    "from math import ceil, floor\n",
    "\n",
    "round(3.7654)\n",
    "round(3.7654, 2)\n",
    "\n",
    "floor(3.6578)\n",
    "ceil(3.6578)"
   ]
  },
  {
   "cell_type": "markdown",
   "metadata": {
    "id": "0APEknWRiJAx"
   },
   "source": [
    "### Математические функции"
   ]
  },
  {
   "cell_type": "code",
   "execution_count": null,
   "metadata": {
    "id": "GbGlpdi_im41"
   },
   "outputs": [],
   "source": [
    "import math\n",
    "dir(math)"
   ]
  },
  {
   "cell_type": "code",
   "execution_count": null,
   "metadata": {
    "id": "gJxa4r5oiOJn"
   },
   "outputs": [],
   "source": [
    "from math import sqrt, sin, log, pi, e"
   ]
  },
  {
   "cell_type": "code",
   "execution_count": null,
   "metadata": {
    "id": "bPsJ9ujPqatR"
   },
   "outputs": [],
   "source": [
    "sin(pi/4)"
   ]
  },
  {
   "cell_type": "code",
   "execution_count": null,
   "metadata": {
    "id": "Q0tFMQeDqhtw"
   },
   "outputs": [],
   "source": [
    "log(e/2)"
   ]
  },
  {
   "cell_type": "code",
   "execution_count": null,
   "metadata": {
    "id": "Cs0-lgODqoU3"
   },
   "outputs": [],
   "source": [
    "sqrt(35)"
   ]
  },
  {
   "cell_type": "code",
   "execution_count": null,
   "metadata": {
    "id": "sbCUcU3iq3J7"
   },
   "outputs": [],
   "source": [
    "sqrt(-35)"
   ]
  },
  {
   "cell_type": "markdown",
   "metadata": {
    "id": "w9l4NkMXSu3I"
   },
   "source": [
    "Точные вещесвенные числа: модуль Decimal"
   ]
  },
  {
   "cell_type": "code",
   "execution_count": null,
   "metadata": {
    "id": "Jah12ND_TOhD"
   },
   "outputs": [],
   "source": [
    "from decimal import Decimal, getcontext\n",
    "\n",
    "getcontext().prec = 27       # Точность в знаках после запятой"
   ]
  },
  {
   "cell_type": "code",
   "execution_count": null,
   "metadata": {
    "id": "EvCn5rIYTm40"
   },
   "outputs": [],
   "source": [
    "Decimal(10)"
   ]
  },
  {
   "cell_type": "code",
   "execution_count": null,
   "metadata": {
    "id": "B5tovW9aVFJW"
   },
   "outputs": [],
   "source": [
    "Decimal('3.14')"
   ]
  },
  {
   "cell_type": "code",
   "execution_count": null,
   "metadata": {
    "id": "SdonUrZuVJI4"
   },
   "outputs": [],
   "source": [
    "Decimal(3.14)"
   ]
  },
  {
   "cell_type": "code",
   "execution_count": null,
   "metadata": {
    "id": "VAo9yrinVLRR"
   },
   "outputs": [],
   "source": [
    "Decimal((0, (3, 1, 4), -2))"
   ]
  },
  {
   "cell_type": "code",
   "execution_count": null,
   "metadata": {
    "id": "5IOBYxIFVM7c"
   },
   "outputs": [],
   "source": [
    "Decimal(str(2.0 ** 0.5))"
   ]
  },
  {
   "cell_type": "code",
   "execution_count": null,
   "metadata": {
    "id": "ATdkfEaHVO8u"
   },
   "outputs": [],
   "source": [
    "Decimal(2) ** Decimal('0.5')"
   ]
  },
  {
   "cell_type": "code",
   "execution_count": null,
   "metadata": {
    "id": "HNiaCeVtVATe"
   },
   "outputs": [],
   "source": [
    "Decimal('NaN')"
   ]
  },
  {
   "cell_type": "code",
   "execution_count": null,
   "metadata": {
    "id": "rOXo4Bu_VQhu"
   },
   "outputs": [],
   "source": [
    "Decimal('-Infinity')"
   ]
  },
  {
   "cell_type": "markdown",
   "metadata": {
    "id": "vjS70PPQEZLg"
   },
   "source": [
    "Комплексные числа"
   ]
  },
  {
   "cell_type": "code",
   "execution_count": null,
   "metadata": {
    "id": "aMCkfacGEb-c"
   },
   "outputs": [],
   "source": [
    "4j + (3j + 3)"
   ]
  },
  {
   "cell_type": "markdown",
   "metadata": {},
   "source": [
    "# "
   ]
  }
 ],
 "metadata": {
  "colab": {
   "provenance": []
  },
  "kernelspec": {
   "display_name": "Python 3 (ipykernel)",
   "language": "python",
   "name": "python3"
  },
  "language_info": {
   "codemirror_mode": {
    "name": "ipython",
    "version": 3
   },
   "file_extension": ".py",
   "mimetype": "text/x-python",
   "name": "python",
   "nbconvert_exporter": "python",
   "pygments_lexer": "ipython3",
   "version": "3.11.4"
  }
 },
 "nbformat": 4,
 "nbformat_minor": 4
}
