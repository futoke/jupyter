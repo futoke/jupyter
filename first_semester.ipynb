{
 "cells": [
  {
   "cell_type": "code",
   "execution_count": null,
   "metadata": {
    "jupyter": {
     "source_hidden": true
    }
   },
   "outputs": [],
   "source": [
    "from IPython.core.interactiveshell import InteractiveShell\n",
    "InteractiveShell.ast_node_interactivity = \"all\""
   ]
  },
  {
   "cell_type": "markdown",
   "metadata": {},
   "source": [
    "# Основы языка Python"
   ]
  },
  {
   "cell_type": "markdown",
   "metadata": {
    "id": "aEBi9M-ABZg9"
   },
   "source": [
    "## Самая первая программа на Python"
   ]
  },
  {
   "cell_type": "code",
   "execution_count": null,
   "metadata": {
    "id": "W40-i1jZBF0U"
   },
   "outputs": [],
   "source": [
    "print('Hello world')"
   ]
  },
  {
   "cell_type": "markdown",
   "metadata": {
    "id": "gAUwBnbDCgr3"
   },
   "source": [
    "## Целые числа"
   ]
  },
  {
   "cell_type": "markdown",
   "metadata": {},
   "source": [
    "### Основные операции над целыми числами"
   ]
  },
  {
   "cell_type": "code",
   "execution_count": null,
   "metadata": {
    "id": "vYeUakEBDCpi"
   },
   "outputs": [],
   "source": [
    "2 + 2\n",
    "50 - 5*6\n",
    "(50 - 5*6) / 4 # Здесь результат будет во float.\n",
    "abs(-12)\n",
    "+42\n",
    "-42"
   ]
  },
  {
   "cell_type": "markdown",
   "metadata": {
    "id": "RvippCOiDogD"
   },
   "source": [
    "### Целочисленное деление"
   ]
  },
  {
   "cell_type": "code",
   "execution_count": null,
   "metadata": {
    "id": "W_lFty8NDjJS"
   },
   "outputs": [],
   "source": [
    "34 // 11"
   ]
  },
  {
   "cell_type": "markdown",
   "metadata": {
    "id": "QmaLhAiGDxNG"
   },
   "source": [
    "### Остаток от деления"
   ]
  },
  {
   "cell_type": "code",
   "execution_count": null,
   "metadata": {
    "id": "HUAF5xyzDzwv"
   },
   "outputs": [],
   "source": [
    "34 % 11\n",
    "divmod(34, 11)"
   ]
  },
  {
   "cell_type": "markdown",
   "metadata": {
    "id": "ip5DWSX1EDps"
   },
   "source": [
    "### Возведение в степень"
   ]
  },
  {
   "cell_type": "code",
   "execution_count": null,
   "metadata": {
    "id": "ZyhYSWkeEGYg"
   },
   "outputs": [],
   "source": [
    "2 ** 2457 # Степень может быть любая\n",
    "pow(2, 345)\n",
    "0 ** 0\n",
    "pow(0, 0)"
   ]
  },
  {
   "cell_type": "markdown",
   "metadata": {},
   "source": [
    "### Представление целых чисел"
   ]
  },
  {
   "cell_type": "code",
   "execution_count": null,
   "metadata": {},
   "outputs": [],
   "source": [
    "bin(7) # Бинарное значение\n",
    "hex(291) # Шестнадцатеричное значение\n",
    "oct(555) # Восьмеричное значение\n",
    "int(0b10101010)\n",
    "\n",
    "1_000_000_000"
   ]
  },
  {
   "cell_type": "markdown",
   "metadata": {
    "id": "G6Enji2EF4mP"
   },
   "source": [
    "### Битовые операции над целыми числами"
   ]
  },
  {
   "cell_type": "code",
   "execution_count": null,
   "metadata": {
    "colab": {
     "base_uri": "https://localhost:8080/"
    },
    "id": "7G8U8ZgiF9Em",
    "outputId": "82d360f7-d49f-41be-c7b5-0208f52cab62"
   },
   "outputs": [],
   "source": [
    "7 & 11\n",
    "7 | 11\n",
    "7 ^ 11\n",
    "8 << 2\n",
    "8 >> 2\n",
    "~16\n",
    "-7 | -11"
   ]
  },
  {
   "cell_type": "markdown",
   "metadata": {},
   "source": [
    "### Булев тип"
   ]
  },
  {
   "cell_type": "code",
   "execution_count": null,
   "metadata": {},
   "outputs": [],
   "source": [
    "True\n",
    "False\n",
    "bool(1)\n",
    "bool(-1)\n",
    "bool(1_234_567)"
   ]
  },
  {
   "cell_type": "code",
   "execution_count": null,
   "metadata": {},
   "outputs": [],
   "source": [
    "not True\n",
    "not False\n",
    "not not True\n",
    "True or False\n",
    "True and False"
   ]
  },
  {
   "cell_type": "markdown",
   "metadata": {
    "id": "HbYidDIBHIdd"
   },
   "source": [
    "### Битовая магия"
   ]
  },
  {
   "cell_type": "code",
   "execution_count": null,
   "metadata": {
    "colab": {
     "base_uri": "https://localhost:8080/"
    },
    "id": "ACnz619RHKyh",
    "outputId": "ec8000f6-ba69-45cf-9e2f-ba70423e2673"
   },
   "outputs": [],
   "source": [
    "bool(0b10100 & (1 << 3)) # Проверить бит по позиции\n",
    "bool(0b10100 & (1 << 4))\n",
    "\n",
    "format(0b10100 | (1 << 3),  '#08b') # Установить бит в единицу по позиции\n",
    "format(0b10100 & ~(1 << 3), '#08b') # Установить бит в ноль по позиции\n",
    "format(0b10100 ^ (1 << 3),  '#08b') # Инвертировать бит по позиции"
   ]
  },
  {
   "cell_type": "code",
   "execution_count": null,
   "metadata": {
    "id": "O_nb_oilLAUm"
   },
   "outputs": [],
   "source": [
    "# Поменять местами переменные без буфера.\n",
    "x = 5\n",
    "y = 10\n",
    "x ^= y\n",
    "y ^= x\n",
    "x ^= y\n",
    "print(x, y)"
   ]
  },
  {
   "cell_type": "markdown",
   "metadata": {
    "id": "ZLrXjUkCRlIe"
   },
   "source": [
    "## Вещественные числа"
   ]
  },
  {
   "cell_type": "markdown",
   "metadata": {},
   "source": [
    "[Стандарт представления вещественных чисел IEEE-754](https://en.wikipedia.org/wiki/IEEE_754)"
   ]
  },
  {
   "cell_type": "code",
   "execution_count": null,
   "metadata": {
    "id": "l3yyGwy2Rq0R"
   },
   "outputs": [],
   "source": [
    "3.45e5\n",
    "5.45E-5\n",
    "-0.12e-13\n",
    "float('+Inf')\n",
    "float('-Inf\n",
    "float('NaN')"
   ]
  },
  {
   "cell_type": "code",
   "execution_count": null,
   "metadata": {
    "id": "b5ZB2y_kScJa"
   },
   "outputs": [],
   "source": [
    "a = 10\n",
    "print(0 < a < float('+Inf'))"
   ]
  },
  {
   "cell_type": "code",
   "execution_count": null,
   "metadata": {
    "id": "Q5zl69x_So8g"
   },
   "outputs": [],
   "source": [
    "0.1 + 0.1 + 0.1 - 0.3"
   ]
  },
  {
   "cell_type": "markdown",
   "metadata": {
    "id": "4Lbwupg0P-Km"
   },
   "source": [
    "### Округление для float"
   ]
  },
  {
   "cell_type": "code",
   "execution_count": null,
   "metadata": {
    "id": "qWN-4ABAg0Rk"
   },
   "outputs": [],
   "source": [
    "from math import ceil, floor\n",
    "\n",
    "round(3.7654)\n",
    "round(3.7654, 2)\n",
    "\n",
    "floor(3.6578)\n",
    "ceil(3.6578)"
   ]
  },
  {
   "cell_type": "markdown",
   "metadata": {
    "id": "0APEknWRiJAx"
   },
   "source": [
    "### Математические функции"
   ]
  },
  {
   "cell_type": "code",
   "execution_count": null,
   "metadata": {
    "id": "GbGlpdi_im41"
   },
   "outputs": [],
   "source": [
    "import math\n",
    "\n",
    "dir(math)"
   ]
  },
  {
   "cell_type": "code",
   "execution_count": null,
   "metadata": {
    "id": "gJxa4r5oiOJn"
   },
   "outputs": [],
   "source": [
    "from math import sqrt, sin, log, pi, e\n",
    "\n",
    "sin(pi/4)\n",
    "log(e/2)\n",
    "sqrt(35)\n",
    "sqrt(-35)"
   ]
  },
  {
   "cell_type": "markdown",
   "metadata": {
    "id": "w9l4NkMXSu3I"
   },
   "source": [
    "### Точные вещесвенные числа: модуль Decimal"
   ]
  },
  {
   "cell_type": "code",
   "execution_count": null,
   "metadata": {
    "id": "Jah12ND_TOhD"
   },
   "outputs": [],
   "source": [
    "from decimal import Decimal, getcontext\n",
    "\n",
    "getcontext().prec = 27       # Точность в знаках после запятой"
   ]
  },
  {
   "cell_type": "code",
   "execution_count": null,
   "metadata": {
    "id": "EvCn5rIYTm40"
   },
   "outputs": [],
   "source": [
    "Decimal(10)\n",
    "Decimal('3.14')\n",
    "Decimal(3.14)\n",
    "Decimal((0, (3, 1, 4), -2))\n",
    "Decimal(str(2.0 ** 0.5))\n",
    "Decimal(2) ** Decimal('0.5')\n",
    "Decimal(1/7)\n",
    "Decimal('NaN')\n",
    "Decimal('-Infinity')"
   ]
  },
  {
   "cell_type": "markdown",
   "metadata": {
    "id": "vjS70PPQEZLg"
   },
   "source": [
    "### Комплексные числа"
   ]
  },
  {
   "cell_type": "code",
   "execution_count": null,
   "metadata": {
    "id": "aMCkfacGEb-c"
   },
   "outputs": [],
   "source": [
    "4j + (3j + 3)"
   ]
  },
  {
   "cell_type": "markdown",
   "metadata": {},
   "source": [
    "## Переменные, ссылки, объекты"
   ]
  },
  {
   "cell_type": "markdown",
   "metadata": {},
   "source": [
    "*Все в питоне есть объект*"
   ]
  },
  {
   "cell_type": "markdown",
   "metadata": {},
   "source": [
    "![image.png](data:image/png;base64,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)"
   ]
  },
  {
   "cell_type": "markdown",
   "metadata": {},
   "source": [
    "1. Переменная – это ссылка на объект, на один объект может быть много ссылок\n",
    "2. У объекта есть тип (число, строка, список и т.д.)\n",
    "3. Тип можно поменять, ссылка будет указывать на новый объект, старый будет уничтожен"
   ]
  },
  {
   "cell_type": "code",
   "execution_count": 54,
   "metadata": {},
   "outputs": [
    {
     "name": "stdout",
     "output_type": "stream",
     "text": [
      "5\n",
      "5560000.0\n"
     ]
    }
   ],
   "source": [
    "a = 5\n",
    "print(a)\n",
    "a = 5.56E6\n",
    "print(a)"
   ]
  }
 ],
 "metadata": {
  "colab": {
   "provenance": []
  },
  "kernelspec": {
   "display_name": "Python 3 (ipykernel)",
   "language": "python",
   "name": "python3"
  },
  "language_info": {
   "codemirror_mode": {
    "name": "ipython",
    "version": 3
   },
   "file_extension": ".py",
   "mimetype": "text/x-python",
   "name": "python",
   "nbconvert_exporter": "python",
   "pygments_lexer": "ipython3",
   "version": "3.11.4"
  }
 },
 "nbformat": 4,
 "nbformat_minor": 4
}
