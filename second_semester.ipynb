{
 "cells": [
  {
   "cell_type": "markdown",
   "metadata": {
    "id": "DV67ODRnmi0o"
   },
   "source": [
    "## Фукнции как объекты первого класса"
   ]
  },
  {
   "cell_type": "code",
   "execution_count": null,
   "metadata": {},
   "outputs": [],
   "source": [
    "from IPython.core.interactiveshell import InteractiveShell\n",
    "InteractiveShell.ast_node_interactivity = \"all\""
   ]
  },
  {
   "cell_type": "code",
   "execution_count": null,
   "metadata": {
    "id": "M8jn-LVOlzgg"
   },
   "outputs": [],
   "source": [
    "def to_upper(text):\n",
    "\treturn text.upper()\n",
    "\n",
    "print(to_upper('Hello'))\n",
    "\n",
    "to_up = to_upper\n",
    "\n",
    "print (to_up('Hello'))"
   ]
  },
  {
   "cell_type": "markdown",
   "metadata": {
    "id": "tltBIjfrpoQu"
   },
   "source": [
    "В функции можно передавать функции"
   ]
  },
  {
   "cell_type": "code",
   "execution_count": null,
   "metadata": {
    "colab": {
     "base_uri": "https://localhost:8080/"
    },
    "id": "Y9KluugRooY7",
    "outputId": "ab938a8c-52af-4f96-dcb1-63da52e8e01f"
   },
   "outputs": [],
   "source": [
    "def shout(text):\n",
    "    return text.upper()\n",
    "\n",
    "\n",
    "def whisper(text):\n",
    "    return text.lower()\n",
    "\n",
    "\n",
    "def greet(func):\n",
    "    greeting = func(\n",
    "        'Hi, I am created by a function passed as an argument.'\n",
    "    )\n",
    "    print (greeting)\n",
    "\n",
    "greet(shout)\n",
    "greet(whisper)"
   ]
  },
  {
   "cell_type": "markdown",
   "metadata": {
    "id": "1GdSlpigptdm"
   },
   "source": [
    "Из функций можно возвращать функции"
   ]
  },
  {
   "cell_type": "code",
   "execution_count": null,
   "metadata": {
    "colab": {
     "base_uri": "https://localhost:8080/",
     "height": 240
    },
    "id": "EDupdhJepQxU",
    "outputId": "d05c8c36-bd3d-4807-b115-688a4a629946"
   },
   "outputs": [],
   "source": [
    "def create_adder(x):\n",
    "    def adder(y):\n",
    "        return x + y\n",
    "\n",
    "    return adder\n",
    "\n",
    "add_15 = create_adder(15)\n",
    "\n",
    "print (add_15(10))\n",
    "\n",
    "# print(adder(10)) # Ошибка\n",
    "# print(create_adder.adder(10)) # Ошибка\n",
    "print(create_adder(15)(10))"
   ]
  },
  {
   "cell_type": "markdown",
   "metadata": {
    "id": "-aZJELOg0RyW"
   },
   "source": [
    "Если очень надо"
   ]
  },
  {
   "cell_type": "code",
   "execution_count": null,
   "metadata": {
    "colab": {
     "base_uri": "https://localhost:8080/"
    },
    "id": "e2ZWrOOp0mpM",
    "outputId": "9e84f89b-a358-4c02-c35f-82bb0bc173fb"
   },
   "outputs": [],
   "source": [
    "import types\n",
    "\n",
    "\n",
    "def outer(x):\n",
    "    def inner():\n",
    "        print('Inner function')\n",
    "\n",
    "    return inner\n",
    "\n",
    "\n",
    "types.FunctionType(outer.__code__.co_consts[1], globals())()"
   ]
  },
  {
   "cell_type": "markdown",
   "metadata": {
    "id": "C5Oi_t_eBaWL"
   },
   "source": [
    "Это называется вложенные фукнции"
   ]
  },
  {
   "cell_type": "code",
   "execution_count": null,
   "metadata": {
    "colab": {
     "base_uri": "https://localhost:8080/"
    },
    "id": "LLUMMt0s3HV4",
    "outputId": "c21f929b-786c-42af-fd91-722d2ea1ee2f"
   },
   "outputs": [],
   "source": [
    "def outer_func(text):\n",
    "\tdef inner_func():\n",
    "\t\tprint(text)\n",
    "\n",
    "\tinner_func()\n",
    "\n",
    "if __name__ == '__main__':\n",
    "\touter_func('Hey!')"
   ]
  },
  {
   "cell_type": "markdown",
   "metadata": {
    "id": "lh2K9DwOCaY6"
   },
   "source": [
    "# Замыкания"
   ]
  },
  {
   "cell_type": "code",
   "execution_count": null,
   "metadata": {
    "colab": {
     "base_uri": "https://localhost:8080/"
    },
    "id": "ddqHxRggEDZR",
    "outputId": "4acdd727-e278-4759-ecd2-03a08ff33a30"
   },
   "outputs": [],
   "source": [
    "def closure(text):\n",
    "    def inner_func():\n",
    "        print(text)\n",
    "\n",
    "    return inner_func\n",
    "\n",
    "if __name__ == '__main__':\n",
    "    my_func = closure('Hey!')\n",
    "    my_func() # inner_func нет в области видимости, но мы ей пользуемся, т.к.\n",
    "              # есть копия ссылки в outer_func"
   ]
  },
  {
   "cell_type": "code",
   "execution_count": null,
   "metadata": {
    "colab": {
     "base_uri": "https://localhost:8080/"
    },
    "id": "QVYJwFLpE8UO",
    "outputId": "2069ed50-f444-4fa6-c9de-db4ee24274b1"
   },
   "outputs": [],
   "source": [
    "%%python\n",
    "\n",
    "import logging\n",
    "logging.basicConfig(filename='app.log', level=logging.INFO)\n",
    "\n",
    "\n",
    "def logger(func):\n",
    "    def log_func(*args):\n",
    "        logging.info(\n",
    "            f'Running \"{func.__name__}\" with arguments {args}'\n",
    "        )\n",
    "        print(func(*args))\n",
    "\n",
    "    return log_func\n",
    "\n",
    "\n",
    "def add(x, y):\n",
    "    return x + y\n",
    "\n",
    "\n",
    "def sub(x, y):\n",
    "    return x - y\n",
    "\n",
    "add_logger = logger(add)\n",
    "sub_logger = logger(sub)\n",
    "\n",
    "add_logger(3, 3)\n",
    "add_logger(4, 5)\n",
    "\n",
    "sub_logger(10, 5)\n",
    "sub_logger(20, 10)"
   ]
  },
  {
   "cell_type": "code",
   "execution_count": null,
   "metadata": {
    "colab": {
     "base_uri": "https://localhost:8080/"
    },
    "id": "6-3igeIjFtjJ",
    "outputId": "6bc61e22-2d0a-4c90-9444-4b5519f9deba"
   },
   "outputs": [],
   "source": [
    "from pathlib import Path\n",
    "print(Path('app.log').read_text())"
   ]
  },
  {
   "cell_type": "markdown",
   "metadata": {
    "id": "w0inOyJPNYb-"
   },
   "source": [
    "# Декораторы"
   ]
  },
  {
   "cell_type": "code",
   "execution_count": null,
   "metadata": {
    "id": "NxxQ97rhNa7J"
   },
   "outputs": [],
   "source": [
    "def hello_decorator(func):\n",
    "    def wrapper():\n",
    "        print('Hello, this is before function execution')\n",
    "        func()\n",
    "        print('This is after function execution')\n",
    "\n",
    "    return wrapper\n",
    "\n",
    "def function_to_be_used():\n",
    "    print('This is inside the function!')\n",
    "\n",
    "function_to_be_used = hello_decorator(function_to_be_used)\n",
    "\n",
    "function_to_be_used()"
   ]
  },
  {
   "cell_type": "code",
   "execution_count": null,
   "metadata": {
    "colab": {
     "base_uri": "https://localhost:8080/"
    },
    "id": "KfDzEyNdN7gc",
    "outputId": "e808f055-9b3e-43e4-81ef-e3d303c402d3"
   },
   "outputs": [],
   "source": [
    "import time\n",
    "import math\n",
    "\n",
    "\n",
    "def calculate_time(func):\n",
    "    def wrapper(*args, **kwargs):\n",
    "\n",
    "        begin = time.time()\n",
    "        func(*args, **kwargs)\n",
    "        end = time.time()\n",
    "\n",
    "        print(f'Total time taken in {func.__name__}: {end - begin}')\n",
    "\n",
    "    return wrapper\n",
    "\n",
    "\n",
    "@calculate_time\n",
    "def factorial(num):\n",
    "    time.sleep(2)\n",
    "    print(math.factorial(num))\n",
    "\n",
    "factorial(100)"
   ]
  },
  {
   "cell_type": "markdown",
   "metadata": {
    "id": "c2s2hXpbqZXG"
   },
   "source": [
    "Еще пример:"
   ]
  },
  {
   "cell_type": "code",
   "execution_count": null,
   "metadata": {
    "id": "InRGfjm4PPOn"
   },
   "outputs": [],
   "source": [
    "def param_decorator(func):\n",
    "    def wrapper(*args, **kwargs):\n",
    "\n",
    "        print('Before execution')\n",
    "        returned_value = func(*args, **kwargs)\n",
    "        print('After execution')\n",
    "\n",
    "        return returned_value\n",
    "\n",
    "    return wrapper\n",
    "\n",
    "\n",
    "@param_decorator\n",
    "def sum_two_numbers(a, b):\n",
    "    print('Inside the function')\n",
    "    return a + b\n",
    "\n",
    "a, b = 1, 2\n",
    "\n",
    "print(f'Sum = {sum_two_numbers(a, b)}')"
   ]
  },
  {
   "cell_type": "markdown",
   "metadata": {
    "id": "tjGfntCcOnG_"
   },
   "source": [
    "## Декораторы с параметрами"
   ]
  },
  {
   "cell_type": "markdown",
   "metadata": {
    "id": "tK9PADkzsYlY"
   },
   "source": [
    "Еще раз для понимания\n",
    "```python\n",
    "@some_decorator\n",
    "def some_method():\n",
    "    pass\n",
    "```\n",
    "Эквивалентно:\n",
    "```python\n",
    "some_method = some_decorator(some_method)\n",
    "```\n",
    "В то время как:\n",
    "```python\n",
    "@some_decorator()\n",
    "def some_method():\n",
    "    pass\n",
    "```\n",
    "Эквивалентно:\n",
    "```python\n",
    "some_method = some_decorator()(some_method)\n",
    "```"
   ]
  },
  {
   "cell_type": "code",
   "execution_count": null,
   "metadata": {},
   "outputs": [],
   "source": [
    "# Декоратор с параметрами\n",
    "def repeat(times):  # Это внешняя функция-декоратор, которая принимает параметры\n",
    "    def decorator(func):  # Это обычный декоратор\n",
    "        def wrapper(*args, **kwargs):  # Обёртка для декорируемой функции\n",
    "            for _ in range(times):  # Повторяем выполнение функции указанное количество раз\n",
    "                result = func(*args, **kwargs)\n",
    "            return result\n",
    "        return wrapper\n",
    "    return decorator\n",
    "\n",
    "# Применение декоратора с параметром\n",
    "@repeat(times=3)  # Передаём параметр \"times\"\n",
    "def greet(name):\n",
    "    print(f\"Привет, {name}!\")\n",
    "\n",
    "# Вызов функции\n",
    "greet(\"Андрей\")"
   ]
  },
  {
   "cell_type": "markdown",
   "metadata": {},
   "source": [
    "Более сложный пример"
   ]
  },
  {
   "cell_type": "code",
   "execution_count": null,
   "metadata": {
    "colab": {
     "base_uri": "https://localhost:8080/",
     "height": 400
    },
    "id": "8rQuv7x-dZXo",
    "outputId": "eefd094f-8275-41ad-aca4-8835b7773efb"
   },
   "outputs": [],
   "source": [
    "def dec(operator='+'):\n",
    "    def features(fn):\n",
    "        def add_some_decorations(a, b):\n",
    "            res = fn(a, b)\n",
    "            print(f'Function: {fn.__name__}({a}, {b})')\n",
    "            print('Operator: ', operator)\n",
    "            print(f'{fn.__doc__}: {a} and {b}')\n",
    "            expr = f'{a}{operator}{b}'\n",
    "            eval(expr)\n",
    "            print(f'Return: {a} {operator} {b}')\n",
    "            print(f'Output: {res}')\n",
    "            return res\n",
    "        return add_some_decorations\n",
    "    return features\n",
    "\n",
    "\n",
    "# Ошибка!!!\n",
    "# @dec(operator='+')\n",
    "# def add(a, b, c):\n",
    "#     \"\"\"Addition of 2 arguments\"\"\"\n",
    "#     return a + b + c\n",
    "\n",
    "\n",
    "@dec()\n",
    "def add(a, b):\n",
    "    \"\"\"Addition of 2 arguments\"\"\"\n",
    "    return a + b\n",
    "\n",
    "\n",
    "# @dec(operator='+')\n",
    "# def add(a, b):\n",
    "#     \"\"\"Addition of 2 arguments\"\"\"\n",
    "#     return a + b\n",
    "\n",
    "\n",
    "@dec(operator='-')\n",
    "def sub(a, b):\n",
    "    \"\"\"Subtraction of 2 arguments\"\"\"\n",
    "    return a - b\n",
    "\n",
    "\n",
    "print(add(5, 2))\n",
    "print(sub(1, 4))"
   ]
  },
  {
   "cell_type": "markdown",
   "metadata": {},
   "source": [
    "Продвинутый уровень"
   ]
  },
  {
   "cell_type": "code",
   "execution_count": null,
   "metadata": {
    "colab": {
     "base_uri": "https://localhost:8080/"
    },
    "id": "wTbLQFdnfPuH",
    "outputId": "cb75471f-20dd-42a0-e568-d47f1ad419b0"
   },
   "outputs": [],
   "source": [
    "from functools import wraps\n",
    "\n",
    "\n",
    "def repeat(times):\n",
    "    \"\"\" call a function a number of times \"\"\"\n",
    "    def decorate(fn):\n",
    "        @wraps(fn)\n",
    "        def wrapper(*args, **kwargs):\n",
    "            for _ in range(times):\n",
    "                result = fn(*args, **kwargs)\n",
    "            return result\n",
    "        return wrapper\n",
    "    return decorate\n",
    "\n",
    "\n",
    "@repeat(10)\n",
    "def say(message):\n",
    "    print(message)\n",
    "\n",
    "\n",
    "say('Hello')"
   ]
  },
  {
   "cell_type": "markdown",
   "metadata": {
    "id": "jOVYw7BIgYnv"
   },
   "source": [
    "Без использования фабрики декораторов `@wraps` имя функции `example` будет заменено на  `wrapper`, а строка документации декорируемой функции `example` была бы потеряна."
   ]
  },
  {
   "cell_type": "code",
   "execution_count": null,
   "metadata": {
    "colab": {
     "base_uri": "https://localhost:8080/",
     "height": 71
    },
    "id": "NfXxC3xsf9V-",
    "outputId": "7c155770-2fcd-411d-abf3-bdea89fbbadb"
   },
   "outputs": [],
   "source": [
    "from functools import wraps\n",
    "\n",
    "\n",
    "def my_decorator(f):\n",
    "    \"\"\"my doc\"\"\"\n",
    "    @wraps(f)\n",
    "    def wrapper(*args, **kwds):\n",
    "        print('Calling decorated function')\n",
    "        return f(*args, **kwds)\n",
    "    return wrapper\n",
    "\n",
    "\n",
    "@my_decorator\n",
    "def example():\n",
    "    \"\"\"Docstring\"\"\"\n",
    "    print('Called example function')\n",
    "\n",
    "\n",
    "example()\n",
    "example.__name__\n",
    "example.__doc__"
   ]
  },
  {
   "cell_type": "markdown",
   "metadata": {
    "id": "MBJ1AOFZQdJz"
   },
   "source": [
    "## Цепочка декораторов"
   ]
  },
  {
   "cell_type": "code",
   "execution_count": null,
   "metadata": {
    "colab": {
     "base_uri": "https://localhost:8080/"
    },
    "id": "t731_ie7QgD6",
    "outputId": "78a6c7c9-fd3d-418b-ea83-fef8e4d5f63a"
   },
   "outputs": [],
   "source": [
    "def decor1(func):\n",
    "\tdef wrapper():\n",
    "\t\tx = func()\n",
    "\t\treturn x * x\n",
    "\treturn wrapper\n",
    "\n",
    "\n",
    "def decor(func):\n",
    "\tdef wrapper():\n",
    "\t\tx = func()\n",
    "\t\treturn 2 * x\n",
    "\treturn wrapper\n",
    "\n",
    "@decor1\n",
    "@decor\n",
    "def num():\n",
    "\treturn 10\n",
    "\n",
    "@decor\n",
    "@decor1\n",
    "def num2():\n",
    "\treturn 10\n",
    "\n",
    "print(num())\n",
    "print(num2())"
   ]
  },
  {
   "cell_type": "markdown",
   "metadata": {
    "id": "rxz6fBUER_EC"
   },
   "source": [
    "Пример: хранение промежуточных результатов (простейшее кэширование)"
   ]
  },
  {
   "cell_type": "code",
   "execution_count": null,
   "metadata": {
    "colab": {
     "base_uri": "https://localhost:8080/"
    },
    "id": "Mb9835A9SHFF",
    "outputId": "0ef27e95-ab78-41b1-b317-fe4c6fddaca6"
   },
   "outputs": [],
   "source": [
    "def my_factorial(num):\n",
    "    if num == 1:\n",
    "        return 1\n",
    "    else:\n",
    "        return num * my_factorial(num - 1)\n",
    "\n",
    "\n",
    "print(my_factorial(5))\n",
    "print(my_factorial(5))"
   ]
  },
  {
   "cell_type": "code",
   "execution_count": null,
   "metadata": {
    "colab": {
     "base_uri": "https://localhost:8080/"
    },
    "id": "-n2mdPMWSd_R",
    "outputId": "6fccf3cd-fd52-42d8-8da0-a3bf4570e7f9"
   },
   "outputs": [],
   "source": [
    "memory = {}\n",
    "def memoize_factorial(f):\n",
    "    def wrapper(num):\n",
    "        if num not in memory:\n",
    "            memory[num] = f(num)\n",
    "            print('result saved in memory')\n",
    "        else:\n",
    "            print('returning result from saved memory')\n",
    "        print(f'number {num}, memory contains {memory}')\n",
    "        return memory[num]\n",
    "\n",
    "    return wrapper\n",
    "\n",
    "\n",
    "@memoize_factorial\n",
    "def facto(num):\n",
    "    if num == 1:\n",
    "        return 1\n",
    "    else:\n",
    "        return num * facto(num - 1)\n",
    "\n",
    "print(facto(5))\n",
    "print(facto(5))"
   ]
  },
  {
   "cell_type": "markdown",
   "metadata": {
    "id": "TwZcARMcUohv"
   },
   "source": [
    "# Введение в объектно-ориентированное программирование\n",
    "\n",
    "\n",
    "\n",
    "![image.png](data:image/png;base64,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)"
   ]
  },
  {
   "cell_type": "raw",
   "metadata": {},
   "source": [
    "Добавить сюда про методы в виде лямбда функций: https://realpython.com/python-lambda/"
   ]
  },
  {
   "cell_type": "markdown",
   "metadata": {
    "id": "8zdY9Cy4VUP9"
   },
   "source": [
    "## Создание класса"
   ]
  },
  {
   "cell_type": "code",
   "execution_count": null,
   "metadata": {
    "colab": {
     "base_uri": "https://localhost:8080/"
    },
    "id": "MIVlfC1zVHyf",
    "outputId": "1dd2bf0a-2e41-4e0d-8ebc-9980b3b6a28a"
   },
   "outputs": [],
   "source": [
    "class Point2D:\n",
    "    \"\"\"Точка на плоскости.\"\"\"\n",
    "    # pass\n",
    "    ...\n",
    "\n",
    "\n",
    "if __name__ == '__main__':\n",
    "    # Создание объекта (экземпляра класса).\n",
    "    p = Point2D()\n",
    "\n",
    "    print(p)\n",
    "    print(type(p))"
   ]
  },
  {
   "cell_type": "code",
   "execution_count": null,
   "metadata": {
    "id": "WCsfBhV3Vox3"
   },
   "outputs": [],
   "source": [
    "import math\n",
    "\n",
    "\n",
    "class Point2D:\n",
    "    \"\"\"Точка на плоскости.\"\"\"\n",
    "\n",
    "    def __init__(self, x, y):\n",
    "        self.x = x\n",
    "        self.y = y\n",
    "\n",
    "    def get_distance(self):\n",
    "        \"\"\"Вернуть расстояние до начала координат.\"\"\"\n",
    "        # return (self.x**2 + self.y**2) ** 0.5\n",
    "        return math.hypot(self.x, self.y)\n",
    "\n",
    "\n",
    "if __name__ == '__main__':\n",
    "    p = Point2D(3, 4)\n",
    "\n",
    "    print(p)\n",
    "    print(p.x, p.y)\n",
    "\n",
    "    print(f'Расстояние до начала координат: {p.get_distance():.2f}')"
   ]
  },
  {
   "cell_type": "markdown",
   "metadata": {
    "id": "SIlok1A3Wy80"
   },
   "source": [
    "## Строковое представление классов"
   ]
  },
  {
   "cell_type": "code",
   "execution_count": null,
   "metadata": {
    "colab": {
     "base_uri": "https://localhost:8080/"
    },
    "id": "FDT7SXavW15b",
    "outputId": "4c58d22a-55be-4c2b-debe-41642fc09834"
   },
   "outputs": [],
   "source": [
    "class Point2D:\n",
    "    \"\"\"Точка на плоскости.\"\"\"\n",
    "\n",
    "    def __init__(self, x, y):\n",
    "        self.x = x\n",
    "        self.y = y\n",
    "\n",
    "    def __str__(self):\n",
    "        \"\"\"Вернуть строку в виде 'Точка 2D (x, y)'.\"\"\"\n",
    "        return f'Точка 2D ({self.x}, {self.y})'\n",
    "\n",
    "    def __repr__(self):\n",
    "        return 'Meow'\n",
    "\n",
    "    def get_distance(self):\n",
    "        \"\"\"Вернуть расстояние до начала координат.\"\"\"\n",
    "        # return (self.x**2 + self.y**2) ** 0.5\n",
    "        return math.hypot(self.x, self.y)\n",
    "\n",
    "p = Point2D(3, 4)\n",
    "print(p)\n",
    "\n",
    "if __name__ == '__main__':\n",
    "    p"
   ]
  },
  {
   "cell_type": "markdown",
   "metadata": {
    "id": "e11TRND4XkXM"
   },
   "source": [
    "## Перегрузка операторов"
   ]
  },
  {
   "cell_type": "code",
   "execution_count": null,
   "metadata": {
    "colab": {
     "base_uri": "https://localhost:8080/"
    },
    "id": "tnhlyV4wXm_N",
    "outputId": "e4f9e7a4-07ca-46ec-f817-ee451fcbde06"
   },
   "outputs": [],
   "source": [
    "class Point2D:\n",
    "    \"\"\"Точка на плоскости.\"\"\"\n",
    "\n",
    "    def __init__(self, x, y):\n",
    "        self.x = x\n",
    "        self.y = y\n",
    "\n",
    "    def __str__(self):\n",
    "        \"\"\"Вернуть строку в виде 'Точка 2D (x, y)'.\"\"\"\n",
    "        return f'Точка 2D ({self.x}, {self.y})'\n",
    "\n",
    "    def __add__(self, other):\n",
    "        \"\"\"Создать новый объект как сумму координат 'self' и 'other'.\"\"\"\n",
    "\n",
    "        # return Point2D(self.x + other.x, self.y + other.y)\n",
    "        return self.__class__(self.x + other.x, self.y + other.y)\n",
    "\n",
    "    def __sub__(self, other):\n",
    "        \"\"\"Создать новый объект как разность координат 'self' и 'other'.\"\"\"\n",
    "        return self.__class__(self.x - other.x, self.y - other.y)\n",
    "\n",
    "    def __neg__(self):\n",
    "        \"\"\"Вернуть новый объект, инвертировав координаты.\"\"\"\n",
    "        return self.__class__(-self.x, -self.y)\n",
    "\n",
    "    def __eq__(self, other):\n",
    "        \"\"\"Вернуть ответ, являются ли точки одинаковыми.\"\"\"\n",
    "        return self.x == other.x and self.y == other.y\n",
    "\n",
    "    def __ne__(self, other):\n",
    "        \"\"\"Вернуть ответ, являются ли точки разными.\n",
    "        Используем реализованную операцию ==.\n",
    "        \"\"\"\n",
    "        return not (self == other)\n",
    "\n",
    "    def get_distance(self):\n",
    "        \"\"\"Вернуть расстояние до начала координат.\"\"\"\n",
    "        # return (self.x**2 + self.y**2) ** 0.5\n",
    "        return math.hypot(self.x, self.y)\n",
    "\n",
    "if __name__ == '__main__':\n",
    "\n",
    "    p1 = Point2D(0, 5)\n",
    "    p2 = Point2D(-5, 10)\n",
    "\n",
    "    print(p1 + p2)\n",
    "    print(p1 - p2)\n",
    "    print(-p2)\n",
    "    print(p1 == p2, p1 != p2)"
   ]
  },
  {
   "cell_type": "markdown",
   "metadata": {
    "id": "vGaBLy8SYnsx"
   },
   "source": [
    "| Операция                        | Синтаксис                 | Функция                               |\n",
    "|---------------------------------|---------------------------|---------------------------------------|\n",
    "|                                 | **Арифметические**            |                                       |\n",
    "| Отрицание                       | -a                        | `__neg__`(a)                            |\n",
    "| “Не” отрицание                  | +a                        | `__pos__`(a)                            |\n",
    "| Сложение                        | a + b                     | `__add__(a, b)`                         |\n",
    "| Вычитание                       | a - b                     | `__sub__(a, b)`                         |\n",
    "| Умножение                       | a * b                     | `__mul__(a, b)`                         |\n",
    "| Деление                         | a / b                     | `__truediv__(a, b)`                     |\n",
    "| Целочисленное деление           | a // b                    | `__floordiv__(a, b)`                    |\n",
    "| Остаток от деления              | a % b                     | `__mod__(a, b)`                         |\n",
    "| Возведение в степень            | a ** b                    | `__pow__(a, b)`                         |\n",
    "|                                 | **Индексация и срезы**        |                                       |\n",
    "| Доступ по индексу               | obj[k]                    | `__getitem__(obj, k)`                   |\n",
    "| Присвоение по индексу           | obj[k] = v                | `__setitem__(obj, k, v)`                |\n",
    "| Удаление по индексу             | del obj[k]                | `__delitem__(obj, k)`                   |\n",
    "| Срез                            | seq[i:j]                  | `__getitem__(seq, slice(i, j))`         |\n",
    "| Присвоение срезу                | seq[i:j] = values         | `__setitem__(seq, slice(i, j), values)` |\n",
    "| Удаление среза                  | del seq[i:j]              | `__delitem__(seq, slice(i, j))`         |\n",
    "| Конкатенация                    | seq1 + seq2               | `__concat__(seq1, seq2)`                |\n",
    "|                                 | **Идентификация и сравнение**|                                       |\n",
    "| Идентификация                   | a is b                    | `__is__(a, b)`                          |\n",
    "|                                 | a is not b                | `__is_not__(a, b)`                      |\n",
    "| Проверка на вхождение           | obj in seq                | `__contains__(seq, obj`)                |\n",
    "| Преобразование в логический тип | bool(obj)                 | `__truth__(obj)`                        |\n",
    "| Равенство                       | a == b                    | `__eq__(a, b)`                          |\n",
    "| Неравенство                     | a != b                    | `__ne__(a, b)`                          |\n",
    "| Сравнение                       | a < b                     | `__lt__(a, b)`                          |\n",
    "|                                 | a > b                     | `__gt__(a, b)`                          |\n",
    "|                                 | a <= b                    | `__le__(a, b)`                          |\n",
    "|                                 | a >= b                    | `__ge__(a, b)`                          |"
   ]
  },
  {
   "cell_type": "markdown",
   "metadata": {
    "id": "gTtFoAAVaXpr"
   },
   "source": [
    "## Проверка типов"
   ]
  },
  {
   "cell_type": "code",
   "execution_count": null,
   "metadata": {
    "colab": {
     "base_uri": "https://localhost:8080/",
     "height": 329
    },
    "id": "0PYEJZcSaU2J",
    "outputId": "5f76e77a-293f-4432-a0c5-03e829f7eb9f"
   },
   "outputs": [],
   "source": [
    "p1 = Point2D(0, 5)\n",
    "p2 = Point2D(-5, 10)\n",
    "\n",
    "print(p1 + 2)"
   ]
  },
  {
   "cell_type": "code",
   "execution_count": null,
   "metadata": {
    "colab": {
     "base_uri": "https://localhost:8080/",
     "height": 365
    },
    "id": "vuOHGzrgajsB",
    "outputId": "ad25f1fb-8ee1-412d-a5ba-dc10dbc83a0e"
   },
   "outputs": [],
   "source": [
    "class Point2D:\n",
    "    \"\"\"Точка на плоскости.\"\"\"\n",
    "\n",
    "    def __init__(self, x, y):\n",
    "        self.x = x\n",
    "        self.y = y\n",
    "\n",
    "    def __str__(self):\n",
    "        \"\"\"Вернуть строку в виде 'Точка 2D (x, y)'.\"\"\"\n",
    "        return f'Точка 2D ({self.x}, {self.y})'\n",
    "\n",
    "    def __add__(self, other):\n",
    "        \"\"\"Создать новый объект как сумму координат self и other.\"\"\"\n",
    "\n",
    "        if isinstance(other, self.__class__):\n",
    "            # return Point2D(self.x + other.x, self.y + other.y)\n",
    "            return self.__class__(self.x + other.x, self.y + other.y)\n",
    "        elif isinstance(other, int | float):  # Это для 3.10+\n",
    "            self.x += other\n",
    "            self.y += other\n",
    "            return self\n",
    "        else:\n",
    "            raise TypeError(\n",
    "                f'Не могу добавить {self.__class__} к {type(other)}'\n",
    "            )\n",
    "\n",
    "\n",
    "if __name__ == '__main__':\n",
    "\n",
    "    p1 = Point2D(0, 5)\n",
    "    p2 = Point2D(-5, 10)\n",
    "\n",
    "    print(p1 + 2)\n",
    "    print(p1 + 5.0)\n",
    "    print(p1 + 'я строка')"
   ]
  },
  {
   "cell_type": "code",
   "execution_count": null,
   "metadata": {},
   "outputs": [],
   "source": []
  },
  {
   "cell_type": "markdown",
   "metadata": {
    "id": "gbcQyDBccmxt"
   },
   "source": [
    "## Атрибуты объекта и атрибуты класса\n",
    "\n",
    "Реализованные ранее члены класса принадлежат объекту, т.е. получить к ним доступ можно только предварительно создав экземпляр класса (англ. Instance Methods). В ряде случаев существует необходимость иметь поле или метод, доступный через имя самого класса (например, для атрибутов, относящихся ко всему классу целиком, а не конкретному экземпляру).\n",
    "\n",
    "В Python для этого предназначены:\n",
    "\n",
    "* *Поля и методы класса* (англ. Class Methods):\n",
    "\n",
    "    Методы класса принимают в качестве первого параметра `cls` (вместо `self` в обычных методах) - класс, на котором был вызван метод. Данный тип методов может использоваться, когда не требуется привязка к экземпляру объекта, но при этом нужно иметь информацию о классе, на котором он был вызван (например, дополнительные методы инициализации).\n",
    "\n",
    "    Поля класса указываются без указания `self`. Методы класса обозначаются декоратором `@classmethod`.\n",
    "\n",
    "* *Статические методы* (англ. Static Methods):\n",
    "\n",
    "    Статические методы ничего не знают о классе или об объекте, на котором они вызываются, просто принимая параметры без какого-либо специального аргумента типа `self` и могут быть вызваны, как через сам класс, так и через его экземпляр. Данный тип методов может использоваться, когда функция логически принадлежит классу, но не использует сам объект или класс при выполнении.\n",
    "\n",
    "    Статические методы обозначаются декоратором `@staticmethod`."
   ]
  },
  {
   "cell_type": "code",
   "execution_count": null,
   "metadata": {
    "colab": {
     "base_uri": "https://localhost:8080/"
    },
    "id": "Pyct2f_id0-E",
    "outputId": "acc150dd-7284-40d2-c9e1-1678902c7bf6"
   },
   "outputs": [],
   "source": [
    "class Point2D:\n",
    "    \"\"\"Точка на плоскости.\"\"\"\n",
    "\n",
    "    # Поле класса (доступно без создания экземпляра).\n",
    "    # Хранит количество экземпляров класса и является общей (!)\n",
    "    # для всех объектов этого класса.\n",
    "    instances_count = 0\n",
    "\n",
    "    def __init__(self, x, y):\n",
    "        self.x = x\n",
    "        self.y = y\n",
    "\n",
    "        # При инициализации нового экземпляра= увеличиваем количество\n",
    "        # созданных экземпляров.\n",
    "        Point2D.instances_count += 1\n",
    "\n",
    "    def __str__(self):\n",
    "        \"\"\"Вернуть строку в виде 'Точка 2D (x, y)'.\"\"\"\n",
    "        return f'Точка 2D ({self.x}, {self.y})'\n",
    "\n",
    "    def __add__(self, other):\n",
    "        \"\"\"Сложить self и other.\n",
    "\n",
    "        Параметры:\n",
    "            - other (Point2D): вернуть новый объект-сумму;\n",
    "            - other (int, float): сдвинуть точку на other по x и y;\n",
    "            - other (другой тип): возбудить исключение TypeError.\n",
    "        \"\"\"\n",
    "        if isinstance(other, self.__class__):\n",
    "            return self.__class__(self.x + other.x, self.y + other.y)\n",
    "        elif isinstance(other, (int, float)):\n",
    "            self.x += other\n",
    "            self.y += other\n",
    "            return self\n",
    "        else:\n",
    "            raise TypeError(\n",
    "                f'Не могу сложить {self.__class__} и {type(other)}'\n",
    "            )\n",
    "\n",
    "    # Теперь операция сложения будет коммутативной.\n",
    "    def __radd__(self, other):\n",
    "        return self + other\n",
    "\n",
    "    # def __iadd__(self, other):\n",
    "    #     pass\n",
    "\n",
    "    def __sub__(self, other):\n",
    "        \"\"\"Создать новый объект как разность координат self и other.\"\"\"\n",
    "        return Point2D(self.x - other.x, self.y - other.y)\n",
    "\n",
    "    def __neg__(self):\n",
    "        \"\"\"Вернуть новый объект, инвертировав координаты.\"\"\"\n",
    "        return self.__class__(-self.x, -self.y)\n",
    "\n",
    "    def __eq__(self, other):\n",
    "        \"\"\"Вернуть ответ, являются ли точки одинаковыми.\"\"\"\n",
    "        return self.x == other.x and self.y == other.y\n",
    "\n",
    "    def __ne__(self, other):\n",
    "        \"\"\"Вернуть ответ, являются ли точки разными.\n",
    "        Используем реализованную операцию ==.\n",
    "        \"\"\"\n",
    "        return not (self == other)\n",
    "\n",
    "    @staticmethod\n",
    "    def sum(*points):\n",
    "        \"\"\"Вернуть сумму точек 'points' как новый объект.\n",
    "        Статический метод: принадлежит классу, но ничего о нем не знает.\n",
    "        \"\"\"\n",
    "        assert len(points) > 0, 'Количество суммируемых точек равно 0!'\n",
    "\n",
    "        # res = points[0]\n",
    "        # for point in points[1:]:\n",
    "        #     res += point\n",
    "\n",
    "        # return res\n",
    "\n",
    "        return sum(points)\n",
    "\n",
    "    @classmethod\n",
    "    def from_string(cls, str_value):\n",
    "        \"\"\"Создать экземпляр класса из строки 'str_value'.\n",
    "\n",
    "        Классовый метод, доступен для вызова как:\n",
    "            Point2D.from_string(...)\n",
    "\n",
    "        Параметры:\n",
    "            - cls: ссылка на класс (Point2D);\n",
    "            - str_value: строка вида \"float, float\".\n",
    "\n",
    "        Результат:\n",
    "            - Экземпляр класса cls (Point2D).\n",
    "        \"\"\"\n",
    "        # values = [float(x) for x in str_value.split(',')]\n",
    "        values = list(map(float, str_value.split(',')))\n",
    "\n",
    "        assert len(values) == 2\n",
    "\n",
    "        return cls(*values)\n",
    "\n",
    "if __name__ == '__main__':\n",
    "\n",
    "    p1 = Point2D(0, 5)\n",
    "    p2 = Point2D(-5, 10)\n",
    "    p3 = Point2D.from_string('5, 6')\n",
    "\n",
    "    print(p1 + p3)\n",
    "\n",
    "    print(Point2D.instances_count)  # p1, p2, p3, p1 + p2\n",
    "\n",
    "    # Сложение точек через статический метод\n",
    "    p4 = Point2D.sum(p1, p2, p3, Point2D(0, -21))\n",
    "    print(p4)\n",
    "\n",
    "    print(Point2D.instances_count)\n",
    "\n"
   ]
  },
  {
   "cell_type": "markdown",
   "metadata": {
    "id": "2OXVCA_8yInW"
   },
   "source": [
    "!!! Задание для самостоятельного изучения: системы работы с документацией (pydoc, pyment, doxygen и т.д.) !!!"
   ]
  },
  {
   "cell_type": "markdown",
   "metadata": {
    "id": "sDlgZH4TTN_R"
   },
   "source": [
    "Интересный пример: от базового класса `object` наследуются магические методы `__matmul__`, `__rmatmul__` и `__imatmul__`, которые определяют бинарный оператор `@`, который нигде в Python не используется. Как следует из названия, он нужен для перемножения матриц, что реализовано только в сторонних библиотеках, в первую очередь в библиотеке `numpy`. То есть в версии Python 3.5 изменили саму базовую модель языка только для удобства сторонних библиотек.\n",
    "\n",
    "Но мы также можем использовать данный оператор для своих нужд."
   ]
  },
  {
   "cell_type": "code",
   "execution_count": null,
   "metadata": {
    "colab": {
     "base_uri": "https://localhost:8080/"
    },
    "id": "bcLG2XQGUK5y",
    "outputId": "064fdb11-6643-49ee-eb40-2fe1dafc5db8"
   },
   "outputs": [],
   "source": [
    "class Fun:\n",
    "\n",
    "    def __init__(self, arg):\n",
    "        self.arg = arg\n",
    "\n",
    "    def __matmul__(self, other):\n",
    "        return self.arg * other.arg\n",
    "\n",
    "\n",
    "fun = Fun(5)\n",
    "funny = Fun(10)\n",
    "\n",
    "print(fun @ funny)"
   ]
  },
  {
   "cell_type": "markdown",
   "metadata": {
    "id": "m0dfAyu202pn"
   },
   "source": [
    "## Инкапсуляция\n",
    "\n",
    "В ряде языков, например, С++, существует четкое разделение членов класса на закрытые, защищенные и публичные.\n",
    "\n",
    "В Python все члены класса являются общедоступными, хотя существует возможность эмуляции закрытых. Концепция отсутствия закрытых атрибутов в Python описывается фразой одного из разработчиков языка: «Мы все взрослые люди. Если программист хочет выстрелить себе в ногу -- нужно предоставить ему возможность это сделать».\n",
    "\n",
    "Несмотря на это, в Python принято следующее соглашение:\n",
    "\n",
    "1. Атрибут, который должен быть не общедоступным (_англ._ Non-Public) обозначается при помощи ведущего подчеркивания `_`:\n",
    "\n",
    "    Пример: `_spam` для поля или `_get_count()` для метода.\n",
    "\n",
    "    Данный синтаксис указывает на то, что атрибут:\n",
    "\n",
    "    - используется для внутренней реализации класса и не предназначен для использования извне;\n",
    "    - должен быть использован/изменен только если разработчик-пользователь класса  **абсолютно уверен**  в этом.\n",
    "\n",
    "    При этом атрибут с `_` доступен извне, как и обычный public-атрибут класса.\n",
    "\n",
    "2. Атрибут, который должен быть закрытым (_англ._ Private), обозначается при помощи ведущего двойного подчеркивания `__`:\n",
    "\n",
    "    Пример: `__spam` для поля или `__get_count()` для метода.\n",
    "\n",
    "    Данный синтаксис указывает на то, что атрибут:\n",
    "\n",
    "    - используется для внутренней реализации класса и не предназначен для использования извне;\n",
    "    - **не должен**  быть использован/изменен разработчиком-пользователем класса.\n",
    "\n",
    "    При этом атрибут с `__` оказывается недоступным извне, используя технику [сокрытия имен](https://en.wikipedia.org/wiki/Name_mangling) (_англ._ Name Mangling). Несмотря на это, в отличие от ряда языков (например, Java) такие «закрытые» члены класса также можно изменять, но более сложным способом -- их можно увидеть, используя функцию `dir()`."
   ]
  },
  {
   "cell_type": "code",
   "execution_count": null,
   "metadata": {
    "colab": {
     "base_uri": "https://localhost:8080/"
    },
    "id": "0k7FZZw12MSm",
    "outputId": "36419c26-4889-436f-c389-78e26d5920c9"
   },
   "outputs": [],
   "source": [
    "class Test:\n",
    "    # def __mangled_name(self): ...\n",
    "\n",
    "    # def normal_name(self): ...\n",
    "\n",
    "    def __mangled_name(self):\n",
    "        pass\n",
    "\n",
    "    def normal_name(self):\n",
    "        pass\n",
    "\n",
    "t = Test()\n",
    "# print([attr for attr in dir(t) if 'name' in attr])\n",
    "# print(*(attr for attr in dir(t) if 'name' in attr))\n",
    "\n",
    "test = Test()\n",
    "test._Test__mangled_name()\n"
   ]
  },
  {
   "cell_type": "code",
   "execution_count": null,
   "metadata": {
    "colab": {
     "base_uri": "https://localhost:8080/"
    },
    "id": "xI4n5sCH24L1",
    "outputId": "c93c018d-ca60-472a-e8f2-f14176bfe328"
   },
   "outputs": [],
   "source": [
    "import math\n",
    "\n",
    "\n",
    "class Circle:\n",
    "    \"\"\"Окружность.\"\"\"\n",
    "\n",
    "    def __init__(self, x=0, y=0, r=1):\n",
    "        self.x = x\n",
    "        self.y = y\n",
    "        self.r = r\n",
    "\n",
    "    def length(self):\n",
    "        \"\"\"Вернуть длину окружности.\"\"\"\n",
    "        return 2*math.pi * self.r\n",
    "\n",
    "    def square(self):\n",
    "        \"\"\"Вернуть площадь окружности.\"\"\"\n",
    "        return math.pi * self.r**2\n",
    "\n",
    "    def __str__(self):\n",
    "        return f'Окружность ({self.x}; {self.y}) радиус={self.r}'\n",
    "\n",
    "\n",
    "if __name__ == '__main__':\n",
    "    c = Circle(3, 4, 1)\n",
    "    print(c)\n",
    "    print(c.length(), c.square())"
   ]
  },
  {
   "cell_type": "code",
   "execution_count": null,
   "metadata": {
    "colab": {
     "base_uri": "https://localhost:8080/",
     "height": 365
    },
    "id": "Whe0oPXP3nLL",
    "outputId": "64573a54-9400-4172-f8e0-3d9cdfc91cb1"
   },
   "outputs": [],
   "source": [
    "import math\n",
    "\n",
    "\n",
    "class Circle:\n",
    "    \"\"\"Окружность.\"\"\"\n",
    "\n",
    "    def __init__(self, x=0, y=0, r=0):\n",
    "        self.x = x\n",
    "        self.y = y\n",
    "\n",
    "        self.set_r(r)\n",
    "\n",
    "    def length(self):\n",
    "        \"\"\"Вернуть длину окружности.\"\"\"\n",
    "        return 2*math.pi * self._r\n",
    "\n",
    "    def square(self):\n",
    "        \"\"\"Вернуть площадь окружности.\"\"\"\n",
    "        return math.pi * self._r**2\n",
    "\n",
    "    def get_r(self):\n",
    "        \"\"\"Вернуть радиус.\"\"\"\n",
    "        return self._r\n",
    "\n",
    "    def set_r(self, r):\n",
    "        \"\"\"Установить радиус в значение 'r'.\"\"\"\n",
    "\n",
    "        assert r > 0, 'Радиус должен быть положительным!'\n",
    "        self._r = r\n",
    "\n",
    "    def __str__(self):\n",
    "        return f'Окружность ({self.x}; {self.y}) радиус={self._r}'\n",
    "\n",
    "\n",
    "if __name__ == '__main__':\n",
    "\n",
    "    c = Circle(3, 4, 1)\n",
    "\n",
    "    print(c)\n",
    "    print(c.length(), c.square())\n",
    "    c.set_r(-1)"
   ]
  },
  {
   "cell_type": "markdown",
   "metadata": {
    "id": "ZZnyKpqy5rDS"
   },
   "source": [
    "# Наследование\n",
    "\n",
    "В Python все классы наследуются от класса object, обладающего некоторыми атрибутами по умолчанию (например, `__init__`, `__doc__`, `__str__` и т.д.).\n",
    "\n",
    "Дочерние классы могут изменять поведение атрибутов класса-родителя, переопределив (*англ.* Override) их. При этом, обычно, дочерний класс дополняет родительский метод, добавив свой код после кода родителя (используя функцию `super()`, предоставляющую ссылку на родительский класс).\n",
    "\n",
    "Каждый класс также может получить информацию о своих «родителях» через метод `__bases__()` или `isinstance()`.\n",
    "\n",
    "*Полиморфизм* позволяет интерпретировать любой объект, как экземпляр не только текущего класса, но и любого из его базовых классов. В компилируемых языках программирования полиморфизм достигается за счет создания виртуальных методов, которые в отличие от невиртуальных можно перегрузить в классе-потомке. В Python все методы являются виртуальными и, соответственно, доступными для перезагрузки.\n",
    "\n",
    "Повторное использование кода существует в двух видах:\n",
    "\n",
    "1. Наследование (отношение «является»);\n",
    "2. Модель включения/делегации (отношение «имеет»)."
   ]
  },
  {
   "cell_type": "markdown",
   "metadata": {
    "id": "zWf44dNd6CED"
   },
   "source": [
    "## Отношение «является»"
   ]
  },
  {
   "cell_type": "code",
   "execution_count": null,
   "metadata": {
    "colab": {
     "base_uri": "https://localhost:8080/"
    },
    "id": "-L5miF-r6GT5",
    "outputId": "917d1449-7bb9-417a-958a-d24321cdbad2"
   },
   "outputs": [],
   "source": [
    "class Customer:\n",
    "    \"\"\"Клиент телефонной компании.\"\"\"\n",
    "\n",
    "    def __init__(self, name, balance=0):\n",
    "        self.name = name\n",
    "        self._balance = balance\n",
    "\n",
    "    def __str__(self):\n",
    "        return f'Клиент \"{self.name}\". Баланс: {self.balance} руб.'\n",
    "\n",
    "    @property\n",
    "    def balance(self):\n",
    "        \"\"\"Вернуть баланс клиента.\n",
    "\n",
    "        Свойство 'balance' доступно только для чтения:\n",
    "        давать доступ на изменение его напрямую было бы неправильно.\n",
    "        \"\"\"\n",
    "        return self._balance\n",
    "\n",
    "    def record_payment(self, amount_paid):\n",
    "        \"\"\"Пополнить баланс клиента на 'amount_paid' руб.\"\"\"\n",
    "\n",
    "        assert amount_paid > 0, 'Сумма пополнения должна быть > 0!'\n",
    "        self._balance += amount_paid\n",
    "\n",
    "    def record_call(self, call_type, minutes):\n",
    "        \"\"\"Списать стоимость звонка с баланса клиента.\n",
    "\n",
    "        Параметры:\n",
    "            - call_type (str): тип звонка:\n",
    "                \"Г\": городской;\n",
    "                \"М\": мобильный;\n",
    "\n",
    "            - minutes (float): количество минут разговора.\n",
    "        \"\"\"\n",
    "\n",
    "        # Здесь не заработает, потому что по умолчанию python 3.8\n",
    "        # как изменить на произвольную версию, будет рассказано дальше.\n",
    "        match call_type:\n",
    "            case 'Г':\n",
    "                self._balance -= minutes * 5\n",
    "            case 'М':\n",
    "                self._balance -= minutes\n",
    "\n",
    "        # if call_type == 'Г':\n",
    "        #     self._balance -= minutes * 5\n",
    "        # elif call_type == 'М':\n",
    "        #     self._balance -= minutes\n",
    "\n",
    "\n",
    "if __name__ == '__main__':\n",
    "\n",
    "    ivan = Customer('Иван Петров')\n",
    "    elena = Customer('Елена Миронова', 100)\n",
    "\n",
    "    ivan.record_call('Г', 20)\n",
    "    ivan.record_call('М', 5)\n",
    "    elena.record_call('М', 10)\n",
    "\n",
    "    ivan.record_payment(155)\n",
    "\n",
    "    print(ivan)\n",
    "    print(elena)"
   ]
  },
  {
   "cell_type": "markdown",
   "metadata": {},
   "source": [
    "У клиента появляется тарифный план"
   ]
  },
  {
   "cell_type": "code",
   "execution_count": null,
   "metadata": {
    "colab": {
     "base_uri": "https://localhost:8080/"
    },
    "id": "VHaSEBjl8wOn",
    "outputId": "25f33969-e16f-4df7-ab11-a6a7644dbf09"
   },
   "outputs": [],
   "source": [
    "class Customer:\n",
    "    \"\"\"Клиент телефонной компании.\"\"\"\n",
    "\n",
    "    def __init__(self, name, balance=0, call_plan='Повременный'):\n",
    "        self.name = name\n",
    "        self._balance = balance\n",
    "        self.call_plan = call_plan  # \"Повременный\" по умолчанию.\n",
    "\n",
    "    # Обратите внимание на отсутствие оператора конкатенации!\n",
    "    def __str__(self):\n",
    "        return (f'Клиент \"{self.name}\". Баланс: \"{self.balance}\" руб.'\n",
    "                f'Тариф: \"{self.call_plan}\"')\n",
    "\n",
    "    @property\n",
    "    def balance(self):\n",
    "        \"\"\"Вернуть баланс клиента.\n",
    "\n",
    "        Свойство 'balance' доступно только для чтения:\n",
    "        давать доступ на изменение его напрямую было бы неправильно.\n",
    "        \"\"\"\n",
    "        return self._balance\n",
    "\n",
    "    def record_payment(self, amount_paid):\n",
    "        \"\"\"Пополнить баланс клиента на 'amount_paid' руб.\"\"\"\n",
    "        assert amount_paid > 0, \"Сумма пополнения должна быть > 0!\"\n",
    "        self._balance += amount_paid\n",
    "\n",
    "    def record_call(self, call_type, minutes):\n",
    "        \"\"\"Списать стоимость звонка с баланса клиента.\n",
    "\n",
    "        Параметры:\n",
    "            - call_type (str): тип звонка:\n",
    "                \"Г\": городской;\n",
    "                \"М\": мобильный;\n",
    "\n",
    "            - minutes (float): количество минут разговора.\n",
    "        \"\"\"\n",
    "        # В реальности, эти значения могут читаться из базы данных.\n",
    "        if self.call_plan == 'Повременный':\n",
    "            # Фиксированная стоимость минуты в зависимости от типа звонка\n",
    "            if call_type == 'Г':\n",
    "                self._balance -= minutes * 5\n",
    "            elif call_type == 'М':\n",
    "                self._balance -= minutes\n",
    "\n",
    "        elif self.call_plan == 'После10В2РазаДешевле':\n",
    "            # После 10 минут звонка на городской номер\n",
    "            # каждая вторая минута бесплатно.\n",
    "            if call_type == 'Г':\n",
    "                bonus_minutes = (minutes - 10) // 2 if minutes > 10 else 0\n",
    "                # if minutes > 10:\n",
    "                #     bonus_minutes = (minutes - 10) // 2\n",
    "                # else:\n",
    "                #     bonus_minutes = 0\n",
    "                self._balance -= (minutes - bonus_minutes) * 5\n",
    "            elif call_type == 'М':\n",
    "                self._balance -= minutes * 1\n",
    "\n",
    "        elif self.call_plan == 'ПлатиМеньшеДо5Минут':\n",
    "            # До 5 минут разговора в 2 раза дешевле тарифа 'Повременный',\n",
    "            # после - в 2 раза дороже.\n",
    "            LIMIT_CHEAP = 5\n",
    "            if minutes > LIMIT_CHEAP:\n",
    "                cheap_minutes = LIMIT_CHEAP\n",
    "                expensive_minutes = minutes - LIMIT_CHEAP\n",
    "            else:\n",
    "                cheap_minutes = minutes\n",
    "                expensive_minutes = 0\n",
    "\n",
    "            if call_type == 'Г':\n",
    "                self._balance -= cheap_minutes*2.5 + expensive_minutes*10\n",
    "            elif call_type == 'М':\n",
    "                self._balance -= cheap_minutes*0.5 + expensive_minutes*2\n",
    "\n",
    "\n",
    "if __name__ == '__main__':\n",
    "\n",
    "    ivan = Customer('Иван Петров', 100)\n",
    "    elena = Customer('Елена Миронова', 100, call_plan='После10В2РазаДешевле')\n",
    "    irina = Customer('Ирина Ефимова', 100, call_plan='После10В2РазаДешевле')\n",
    "    sergey = Customer('Сергей Васильев', 100, call_plan='ПлатиМеньшеДо5Минут')\n",
    "\n",
    "    ivan.record_call('Г', 20)\n",
    "    elena.record_call('Г', 20)\n",
    "    irina.record_call('М', 20)\n",
    "    sergey.record_call('Г', 20)\n",
    "\n",
    "    print(ivan)\n",
    "    print(elena)\n",
    "    print(irina)\n",
    "    print(sergey)\n"
   ]
  },
  {
   "cell_type": "markdown",
   "metadata": {},
   "source": [
    "Варинат 1: базовый класс Клиент, от которого наследуются клиенты с разными тарифными планами"
   ]
  },
  {
   "cell_type": "code",
   "execution_count": null,
   "metadata": {
    "colab": {
     "base_uri": "https://localhost:8080/"
    },
    "id": "8UqCqSs7UVw6",
    "outputId": "80d6ee0e-eec8-43cf-f559-a6e22f0ca860"
   },
   "outputs": [],
   "source": [
    "class Customer:\n",
    "    \"\"\"Клиент телефонной компании.\n",
    "\n",
    "    Расходы данного клиента ведутся на повременной основе.\n",
    "    \"\"\"\n",
    "\n",
    "    def __init__(self, name, balance=0):\n",
    "        self.name = name\n",
    "        self._balance = balance\n",
    "\n",
    "    def __str__(self):\n",
    "        return f'Клиент \"{self.name}\". Баланс: {self.balance} руб.'\n",
    "\n",
    "    @property\n",
    "    def balance(self):\n",
    "        \"\"\"Вернуть баланс клиента.\n",
    "\n",
    "        Свойство 'balance' доступно только для чтения:\n",
    "        давать доступ на изменение его напрямую было бы неправильно.\"\"\"\n",
    "        return self._balance\n",
    "\n",
    "    def record_payment(self, amount_paid):\n",
    "        \"\"\"Пополнить баланс клиента на 'amount_paid' руб.\"\"\"\n",
    "        assert amount_paid > 0, 'Сумма пополнения должна быть > 0!'\n",
    "        self._balance += amount_paid\n",
    "\n",
    "    def record_call(self, call_type, minutes):\n",
    "        \"\"\"Списать стоимость звонка с баланса клиента.\n",
    "\n",
    "        Параметры:\n",
    "            - call_type (str): тип звонка:\n",
    "                \"Г\": городской;\n",
    "                \"М\": мобильный;\n",
    "\n",
    "            - minutes (int): количество минут разговора.\n",
    "        \"\"\"\n",
    "        if call_type == 'Г':\n",
    "            self._balance -= minutes * 5\n",
    "        elif call_type == 'М':\n",
    "            self._balance -= minutes * 1\n",
    "\n",
    "\n",
    "class CustomerFree2ndMinuteAfter10(Customer):\n",
    "    \"\"\"Клиент телефонной компании (потомок Customer).\n",
    "\n",
    "    После 10 минут звонка на городской номер каждая вторая минута бесплатно;\n",
    "    в остальном как \"Повременный\".\n",
    "\n",
    "    Все атрибуты, что предоставляет Customer, доступны и здесь, достаточно\n",
    "    изменить только те, которые должны работать по-другому.\n",
    "    \"\"\"\n",
    "\n",
    "    # Данный метод переопределяет соответствующий метод родителя.\n",
    "    def record_call(self, call_type, minutes):\n",
    "\n",
    "        # Определяем количество бесплатных минут.\n",
    "        if call_type == 'Г' and minutes > 10:\n",
    "            bonus_minutes = (minutes - 10) // 2\n",
    "        else:\n",
    "            bonus_minutes = 0\n",
    "\n",
    "        # Вызываем родительский метод расчета.\n",
    "        super().record_call(call_type, minutes - bonus_minutes)\n",
    "\n",
    "\n",
    "class CustomerTwiceCheaperFirst5Minutes(Customer):\n",
    "    \"\"\"Клиент телефонной компании (потомок Customer).\n",
    "\n",
    "    До 5 минут разговора в 2 раза дешевле тарифа \"Повременный\",\n",
    "    после - в 2 раза дороже.\n",
    "\n",
    "    Все атрибуты, что предоставляет Customer, доступны и здесь, достаточно\n",
    "    изменить только те, которые должны работать по-другому.\n",
    "    \"\"\"\n",
    "\n",
    "    def record_call(self, call_type, minutes):\n",
    "        # Данный метод переопределяет соответствующий метод родителя/\n",
    "\n",
    "        LIMIT_CHEAP = 5\n",
    "        if minutes > LIMIT_CHEAP:\n",
    "            cheap_minutes = LIMIT_CHEAP\n",
    "            expensive_minutes = minutes - LIMIT_CHEAP\n",
    "        else:\n",
    "            cheap_minutes = minutes\n",
    "            expensive_minutes = 0\n",
    "\n",
    "        # Вызываем родительский метод расчета\n",
    "        super().record_call(\n",
    "            call_type,\n",
    "            cheap_minutes/2 + expensive_minutes*2\n",
    "        )\n",
    "\n",
    "\n",
    "if __name__ == '__main__':\n",
    "\n",
    "    ivan = Customer('Иван Петров', 100)\n",
    "    # Елена, Екатерина и Сергей теперь экземпляры других классов.\n",
    "    elena = CustomerFree2ndMinuteAfter10('Елена Миронова', 100)\n",
    "    ekaterina = CustomerFree2ndMinuteAfter10('Екатерина Ефимова', 100)\n",
    "    sergey = CustomerTwiceCheaperFirst5Minutes('Сергей Васильев', 100)\n",
    "\n",
    "    ivan.record_call('Г', 20)\n",
    "    elena.record_call('Г', 20)\n",
    "    ekaterina.record_call('М', 20)\n",
    "    sergey.record_call('Г', 20)\n",
    "\n",
    "    print(ivan)       # \"Иван Петров\".       Баланс: 0 руб.      Тариф: \"Повременный\"\n",
    "    print(elena)      # \"Елена Миронова\".    Баланс: 25 руб.     Тариф: \"После10В2РазаДешевле\"\n",
    "    print(ekaterina)  # \"Екатерина Ефимова\". Баланс: 80 руб.     Тариф: \"После10В2РазаДешевле\"\n",
    "    print(sergey)     # \"Сергей Васильев\".   Баланс: -62.5 руб.  Тариф: \"ПлатиМеньшеДо5Минут\""
   ]
  },
  {
   "cell_type": "markdown",
   "metadata": {
    "id": "-klsCmeNfz7_"
   },
   "source": [
    "## Отношение: «имеет»"
   ]
  },
  {
   "cell_type": "code",
   "execution_count": null,
   "metadata": {
    "id": "O41Mkc3Wmb_l"
   },
   "outputs": [],
   "source": [
    "class CallPlan:\n",
    "    \"\"\"Абстрактный класс для всех тарифных планов.\"\"\"\n",
    "\n",
    "    def __init__(self):\n",
    "        self.name = 'Абстрактный тариф'\n",
    "\n",
    "    def record_call(self, call_type, minutes):\n",
    "        \"\"\"Списать стоимость звонка с баланса клиента.\n",
    "\n",
    "        Параметры:\n",
    "            - call_type (str): тип звонка:\n",
    "                \"Г\": городской;\n",
    "                \"М\": мобильный;\n",
    "\n",
    "            - minutes (float): количество минут разговора.\n",
    "        \"\"\"\n",
    "        # Делегируем расчет стоимости отдельному методу\n",
    "        # Так, наследнику достаточно будет переопределить каждый из них,\n",
    "        # не меняя общую логику ниже\n",
    "        if call_type == 'Г':\n",
    "            return self.record_call_g(minutes)\n",
    "        elif call_type == 'М':\n",
    "            return self.record_call_m(minutes)\n",
    "        else:\n",
    "            return 0\n",
    "\n",
    "    def record_call_g(self, minutes):\n",
    "        \"\"\"Вернуть стоимость звонка на городской номер для 'minutes' минут.\"\"\"\n",
    "        raise NotImplementedError  # Должны реализовать дочерние классы\n",
    "\n",
    "    def record_call_m(self, minutes):\n",
    "        \"\"\"Вернуть стоимость звонка на мобильный номер для 'minutes' минут.\"\"\"\n",
    "        raise NotImplementedError  # Должны реализовать дочерние классы"
   ]
  },
  {
   "cell_type": "markdown",
   "metadata": {},
   "source": [
    "Более продвинутый способ"
   ]
  },
  {
   "cell_type": "code",
   "execution_count": null,
   "metadata": {
    "id": "Ci9Qgm4_j7Vz"
   },
   "outputs": [],
   "source": [
    "from abc import ABC, abstractmethod\n",
    "\n",
    "class CallPlan(ABC):\n",
    "    \"\"\"Абстрактный класс для всех тарифных планов.\"\"\"\n",
    "\n",
    "    def __init__(self):\n",
    "        self.name = 'Абстрактный тариф'\n",
    "\n",
    "    def record_call(self, call_type, minutes):\n",
    "        if call_type == 'Г':\n",
    "            return self.record_call_g(minutes)\n",
    "        elif call_type == 'М':\n",
    "            return self.record_call_m(minutes)\n",
    "        else:\n",
    "            return 0\n",
    "\n",
    "    @abstractmethod\n",
    "    def record_call_g(self, minutes): ...\n",
    "\n",
    "    @abstractmethod\n",
    "    def record_call_m(self, minutes): ...\n",
    "\n",
    "\n",
    "class CallPlanSimple(CallPlan):\n",
    "\n",
    "    def __init__(self):\n",
    "        self.name = 'Повременный'\n",
    "\n",
    "    def record_call_g(self, minutes):\n",
    "        return minutes * 5\n",
    "\n",
    "    def record_call_m(self, minutes):\n",
    "        return minutes\n",
    "\n",
    "\n",
    "class CallPlanFree2ndMinuteAfter10(CallPlanSimple):\n",
    "\n",
    "    def __init__(self):\n",
    "        self.name = 'После10В2РазаДешевле'\n",
    "\n",
    "    def record_call_g(self, minutes):\n",
    "        if minutes > 10:\n",
    "            bonus_minutes = (minutes - 10) // 2\n",
    "        else:\n",
    "            bonus_minutes = 0\n",
    "\n",
    "        # Вызываем родительский метод расчета\n",
    "        return super().record_call_g(minutes - bonus_minutes)\n",
    "\n",
    "\n",
    "class CallPlanTwiceCheaperFirst5Minutes(CallPlanSimple):\n",
    "\n",
    "    def __init__(self):\n",
    "        self.name = 'ПлатиМеньшеДо5Минут'\n",
    "\n",
    "    def record_call(self, call_type, minutes):\n",
    "        LIMIT_CHEAP = 5\n",
    "        if minutes > LIMIT_CHEAP:\n",
    "            cheap_minutes = LIMIT_CHEAP\n",
    "            expensive_minutes = minutes - LIMIT_CHEAP\n",
    "        else:\n",
    "            cheap_minutes = minutes\n",
    "            expensive_minutes = 0\n",
    "\n",
    "        # Вызываем родительский метод расчета\n",
    "        return super().record_call(\n",
    "            call_type, cheap_minutes/2 + expensive_minutes*2\n",
    "        )\n",
    "\n",
    "plan = CallPlanSimple()"
   ]
  },
  {
   "cell_type": "code",
   "execution_count": null,
   "metadata": {
    "id": "wfSEjDQ0jc8q"
   },
   "outputs": [],
   "source": [
    "class Customer:\n",
    "    \"\"\"Клиент телефонной компании.\"\"\"\n",
    "\n",
    "    def __init__(self, name, balance=0, call_plan=None):\n",
    "        self.name = name\n",
    "        self._balance = balance\n",
    "        self.call_plan = call_plan\n",
    "        # Если тарифный план не был указан, используем CallPlanSimple()\n",
    "        if self.call_plan is None:\n",
    "            self.call_plan = CallPlanSimple()\n",
    "\n",
    "    def __str__(self):\n",
    "        return (f'Клиент \"{self.name}\". Баланс: {self.balance} руб.'\n",
    "                 'Тариф: \"{self.call_plan.name}\"')\n",
    "\n",
    "    @property\n",
    "    def balance(self):\n",
    "        \"\"\"Вернуть баланс клиента.\n",
    "\n",
    "        Свойство 'balance' доступно только для чтения:\n",
    "        давать доступ на изменение его напрямую было бы неправильно.\n",
    "        \"\"\"\n",
    "        return self._balance\n",
    "\n",
    "    def record_payment(self, amount_paid):\n",
    "        \"\"\"Пополнить баланс клиента на 'amount_paid' руб.\"\"\"\n",
    "        assert amount_paid > 0, 'Сумма пополнения должна быть > 0!'\n",
    "        self._balance += amount_paid\n",
    "\n",
    "    def record_call(self, call_type, minutes):\n",
    "        \"\"\"Списать стоимость звонка с баланса клиента.\n",
    "\n",
    "        Параметры:\n",
    "            - call_type (str): тип звонка:\n",
    "                \"Г\": городской;\n",
    "                \"М\": мобильный;\n",
    "\n",
    "            - minutes (int): количество минут разговора.\n",
    "        \"\"\"\n",
    "        # Делегируем определение стоимости звонка классу call_plan\n",
    "        costs = self.call_plan.record_call(call_type, minutes)\n",
    "        self._balance -= costs"
   ]
  },
  {
   "cell_type": "code",
   "execution_count": null,
   "metadata": {
    "colab": {
     "base_uri": "https://localhost:8080/"
    },
    "id": "paEpqkVTmpms",
    "outputId": "11665a60-552a-4dbf-a1c0-1dc4340d4acc"
   },
   "outputs": [],
   "source": [
    "if __name__ == '__main__':\n",
    "\n",
    "    ivan = Customer('Иван Петров', 100)\n",
    "\n",
    "    # 1. Используется тариф по умолчанию\n",
    "    ivan.record_call('Г', 20)\n",
    "    print(ivan)\n",
    "\n",
    "    ivan.record_payment(100 - ivan.balance)  # Пополнили телефон до 100 руб.\n",
    "\n",
    "    # 2. Меняем тариф на CallPlanFree2ndMinuteAfter10\n",
    "    ivan.call_plan = CallPlanFree2ndMinuteAfter10()\n",
    "    ivan.record_call('Г', 20)\n",
    "    print(ivan)\n",
    "\n",
    "    ivan.record_payment(100 - ivan.balance)  # Пополнили телефон до 100 руб.\n",
    "\n",
    "    # 3. Меняем тариф на CallPlanTwiceCheaperFirst5Minutes\n",
    "    ivan.call_plan = CallPlanTwiceCheaperFirst5Minutes()\n",
    "    ivan.record_call('Г', 20)\n",
    "    print(ivan)"
   ]
  },
  {
   "cell_type": "markdown",
   "metadata": {},
   "source": [
    "## Множественное наследование"
   ]
  },
  {
   "cell_type": "markdown",
   "metadata": {},
   "source": [
    "__Как работает `super` при множественном наследовании в Python__\n",
    "\n",
    "Метод `super` в Python используется для вызова методов из родительских классов в иерархии наследования. Это особенно важно при **множественном наследовании**, где порядок вызовов методов определяется с помощью **Method Resolution Order (MRO)**.\n",
    "\n",
    "1. **MRO (Method Resolution Order)** — порядок, в котором Python ищет методы в иерархии классов.\n",
    "   - MRO можно узнать с помощью:\n",
    "     ```python\n",
    "     ClassName.__mro__\n",
    "     ```\n",
    "     или\n",
    "     ```python\n",
    "     ClassName.mro()\n",
    "     ```\n",
    "   - При множественном наследовании Python использует алгоритм **C3-линеаризации** для определения порядка.\n",
    "\n",
    "2. Метод `super()` автоматически следует этому порядку.\n"
   ]
  },
  {
   "cell_type": "code",
   "execution_count": 231,
   "metadata": {},
   "outputs": [
    {
     "name": "stdout",
     "output_type": "stream",
     "text": [
      "[<class '__main__.D'>, <class '__main__.B'>, <class '__main__.C'>, <class '__main__.A'>, <class 'object'>]\n",
      "D\n",
      "B\n",
      "C\n",
      "A\n"
     ]
    }
   ],
   "source": [
    "class A:\n",
    "    def show(self):\n",
    "        print(\"A\")\n",
    "\n",
    "\n",
    "class B(A):\n",
    "    def show(self):\n",
    "        print(\"B\")\n",
    "        super().show()\n",
    "\n",
    "\n",
    "class C(A):\n",
    "    def show(self):\n",
    "        print(\"C\")\n",
    "        super().show()\n",
    "\n",
    "class D(B, C):\n",
    "    def show(self):\n",
    "        print(\"D\")\n",
    "        super().show()\n",
    "\n",
    "\n",
    "# Проверим MRO:\n",
    "print(D.mro())\n",
    "\n",
    "# Создаем объект D и вызываем метод show\n",
    "d = D()\n",
    "d.show()"
   ]
  },
  {
   "cell_type": "markdown",
   "metadata": {
    "id": "WrrK1mHx2zgx"
   },
   "source": [
    "## Свойства"
   ]
  },
  {
   "cell_type": "code",
   "execution_count": null,
   "metadata": {
    "colab": {
     "base_uri": "https://localhost:8080/"
    },
    "id": "Rph89d1S4NiV",
    "outputId": "871477a6-160a-47c7-d637-e8fac80b1a95"
   },
   "outputs": [],
   "source": [
    "import math\n",
    "\n",
    "\n",
    "class Circle:\n",
    "    \"\"\"Окружность.\"\"\"\n",
    "\n",
    "    def __init__(self, x=0, y=0, radius=1):\n",
    "        self.x = x\n",
    "        self.y = y\n",
    "        self._r = radius\n",
    "\n",
    "    def length(self):\n",
    "        \"\"\"Вернуть длину окружности.\"\"\"\n",
    "        return 2*math.pi * self.r\n",
    "\n",
    "    def square(self):\n",
    "        \"\"\"Вернуть площадь окружности.\"\"\"\n",
    "        return math.pi * self.r**2\n",
    "\n",
    "    # Почему два метода с одинаковыми именами не приводят к конфликту?\n",
    "\n",
    "    @property\n",
    "    def r(self):\n",
    "        return self._r\n",
    "\n",
    "    @r.setter\n",
    "    def r(self, radius):\n",
    "        \"\"\"Установить радиус окружности в 'r'.\n",
    "        Метод может быть опущен, свойство 'r' долно быть доступно\n",
    "        только для чтения.\n",
    "        \"\"\"\n",
    "        assert radius > 0, 'Радиус должен быть положительным!'\n",
    "        self._r = radius\n",
    "\n",
    "    def __str__(self):\n",
    "        return f'Окружность ({self.x}; {self.y}) радиус={self.r}'\n",
    "\n",
    "\n",
    "if __name__ == '__main__':\n",
    "\n",
    "    c = Circle(3, 4, 1)\n",
    "    c.r *= 5\n",
    "    print(c)\n",
    "    print(c.length(), c.square())\n",
    "    c.r = -1"
   ]
  },
  {
   "cell_type": "markdown",
   "metadata": {
    "id": "G0NySPZIyolB"
   },
   "source": [
    "# Слоты\n",
    "\n",
    "Python использует словари для хранения атрибутов экземпляров класса. Это позволяет динамически добавлять атрибуты к экземплярам во время выполнения, но также создает накладные расходы памяти.\n",
    "\n",
    "Использование слотов в классе в случае, если не предполагается динамически добавлять атрибуты экземпляров, позволяет не использовать словари для хранения атрибутов экземпляров. Слоты оптимизируют память, если в классе много объектов."
   ]
  },
  {
   "cell_type": "code",
   "execution_count": null,
   "metadata": {
    "colab": {
     "base_uri": "https://localhost:8080/"
    },
    "id": "4E3KgQhaywgO",
    "outputId": "18c0164c-6d32-4db9-f90a-d57b228baf20"
   },
   "outputs": [],
   "source": [
    "class Article:\n",
    "    def __init__(self, date, writer):\n",
    "        self.date = date\n",
    "        self.writer = writer\n",
    "\n",
    "article = Article('02.02.2023', 'Petrov')\n",
    "\n",
    "print(article.__dict__)\n",
    "print(Article.__dict__)"
   ]
  },
  {
   "cell_type": "code",
   "execution_count": null,
   "metadata": {
    "colab": {
     "base_uri": "https://localhost:8080/"
    },
    "id": "U5vQ-nRg0IzQ",
    "outputId": "9923f463-5166-4dd7-df45-20a0d9b7d0e4"
   },
   "outputs": [],
   "source": [
    "article.reviewer = 'Ivanov'\n",
    "\n",
    "print(article.__dict__)\n",
    "print(article.reviewer)"
   ]
  },
  {
   "cell_type": "markdown",
   "metadata": {
    "id": "NlJvTu_MTbFs"
   },
   "source": [
    "TODO: Добавить сюдя про динамическое создание метода через `lambda self: ...`"
   ]
  },
  {
   "cell_type": "code",
   "execution_count": null,
   "metadata": {
    "colab": {
     "base_uri": "https://localhost:8080/",
     "height": 304
    },
    "id": "NBu8Bea51N_a",
    "outputId": "703988e4-1d36-4462-b864-64c0d757ba64"
   },
   "outputs": [],
   "source": [
    "from pprint import pprint\n",
    "\n",
    "class ArticleWithSlots:\n",
    "    __slots__ = ['date', 'writer']\n",
    "\n",
    "    def __init__(self, date, writer):\n",
    "        self.date = date\n",
    "        self.writer = writer\n",
    "\n",
    "\n",
    "pprint(ArticleWithSlots.__dict__)\n",
    "\n",
    "article = ArticleWithSlots('02.02.2023', 'Petrov')\n",
    "\n",
    "print(article.__dict__)"
   ]
  },
  {
   "cell_type": "markdown",
   "metadata": {
    "id": "w3j2Amel3r3E"
   },
   "source": [
    "Что за класс descriptor? Когда происходит обращение к `article.writer`, Python вызывает метод `__getattribute__()`, который осуществляет поиск в словаре  `__dict__`, находит `self.__dict__['writer]` и возвращает значение.\n",
    "\n",
    "Дескриптор — это просто объект Python, который реализует как минимум один метод дескриптора: `__get__()`, `__set__()` и `__delete__()`.\n",
    "\n",
    "Аттрибут `__slots__` автоматически создает дескриптор для каждого атрибута с реализацией методов дескриптора. Это означает, что объект будет использовать `__get__()`, `__set__()` и `__delete__()` для взаимодействия с атрибутами вместо поведения по умолчанию, то есть работать со словарем аттрибутов.\n",
    "\n",
    "Реализация `__get__()`, `__set__()` использует массив вместо словаря и полностью реализована на языке `C`, что более эффективно."
   ]
  },
  {
   "cell_type": "markdown",
   "metadata": {
    "id": "25D85nT5eHfO"
   },
   "source": [
    "**Слоты ускоряют работу кода**"
   ]
  },
  {
   "cell_type": "code",
   "execution_count": null,
   "metadata": {
    "colab": {
     "base_uri": "https://localhost:8080/"
    },
    "id": "dN7BdagS5IBR",
    "outputId": "cc753b40-009b-487e-db2c-f41d2dafc39e"
   },
   "outputs": [],
   "source": [
    "from time import perf_counter\n",
    "\n",
    "\n",
    "def calculate_time(func):\n",
    "    def wrapper(*args, **kwargs):\n",
    "\n",
    "        begin = perf_counter()\n",
    "        func(*args, **kwargs)\n",
    "        end = perf_counter()\n",
    "\n",
    "        print(f'Total time taken in {func.__name__}: {end - begin:.3f}')\n",
    "\n",
    "    return wrapper\n",
    "\n",
    "\n",
    "@calculate_time\n",
    "def access_attribute(obj, size):\n",
    "    for _ in range(size):\n",
    "        writer = obj.writer\n",
    "\n",
    "\n",
    "@calculate_time\n",
    "def create_object(cls, size):\n",
    "    for _ in range(size):\n",
    "        article = cls('02.02.2023', 'Petrov')\n",
    "\n",
    "create_object(Article, 10000000)\n",
    "create_object(ArticleWithSlots, 10000000)\n",
    "\n",
    "article = Article('02.02.2023', 'Petrov')\n",
    "article_slots = ArticleWithSlots('02.02.2023', 'Petrov')\n",
    "\n",
    "access_attribute(article, 10000000)\n",
    "access_attribute(article_slots, 10000000)"
   ]
  },
  {
   "cell_type": "markdown",
   "metadata": {
    "id": "zlKTe971fPeU"
   },
   "source": [
    "**Слоты сокращают использования оперативной памяти**"
   ]
  },
  {
   "cell_type": "code",
   "execution_count": null,
   "metadata": {
    "id": "KUbdAE1XgoOp"
   },
   "outputs": [],
   "source": [
    "!pip install pympler > /dev/null 2>&1"
   ]
  },
  {
   "cell_type": "code",
   "execution_count": null,
   "metadata": {
    "colab": {
     "base_uri": "https://localhost:8080/"
    },
    "id": "9ukBHqK4gUVg",
    "outputId": "90162d7c-e37e-4547-e914-55ee76b26878"
   },
   "outputs": [],
   "source": [
    "from pympler import asizeof\n",
    "\n",
    "article = Article('02.02.2023', 'Petrov')\n",
    "article_slots = ArticleWithSlots('02.02.2023', 'Petrov')\n",
    "\n",
    "print(asizeof.asizeof(article))\n",
    "print(asizeof.asizeof(article_slots))"
   ]
  },
  {
   "cell_type": "markdown",
   "metadata": {
    "id": "jO9pkKfjhBav"
   },
   "source": [
    "**Можно комбинировать слоты и динамическое создание пакетов**"
   ]
  },
  {
   "cell_type": "code",
   "execution_count": null,
   "metadata": {
    "colab": {
     "base_uri": "https://localhost:8080/"
    },
    "id": "0XIGWb3ZhHOi",
    "outputId": "7c1b21fb-1847-4d19-a71c-6c650c72a85b"
   },
   "outputs": [],
   "source": [
    "class ArticleWithSlotsAndDict:\n",
    "    __slots__ = ['__dict__', 'date', 'writer']\n",
    "\n",
    "    def __init__(self, date, writer):\n",
    "        self.writer = writer\n",
    "        self.date = date\n",
    "\n",
    "\n",
    "article_slots_dict = ArticleWithSlotsAndDict('02.02.2023', 'Petrov')\n",
    "print(article_slots_dict.date)\n",
    "print(article_slots_dict.__dict__)\n",
    "\n",
    "article_slots_dict.reviewer = 'Ivanov'\n",
    "print(article_slots_dict.__dict__)"
   ]
  },
  {
   "cell_type": "markdown",
   "metadata": {
    "id": "gvt0CUy7hhwe"
   },
   "source": [
    "При наследовании в классе, который включает `__slots__`, нет необходимости еще раз определять эти аттрибуты, это увеличит размер объектов.Кроме того, повторяющиеся атрибуты будут недоступны в родительском классе."
   ]
  },
  {
   "cell_type": "code",
   "execution_count": null,
   "metadata": {
    "colab": {
     "base_uri": "https://localhost:8080/"
    },
    "id": "vQnHdl2Xh6Ny",
    "outputId": "3d36f3e7-a495-490c-b7e2-841030d2fe94"
   },
   "outputs": [],
   "source": [
    "class ArticleBase:\n",
    "    __slots__ = ['date', 'writer']\n",
    "\n",
    "\n",
    "class ArticleAdvanced(ArticleBase):\n",
    "    __slots__ = ['reviewer']\n",
    "\n",
    "\n",
    "article = ArticleAdvanced()\n",
    "article.writer = 'Ivanov'\n",
    "article.reviewer = 'Petrov'\n",
    "\n",
    "print(ArticleBase.writer.__get__(article))\n",
    "print(ArticleAdvanced.reviewer.__get__(article))"
   ]
  },
  {
   "cell_type": "markdown",
   "metadata": {
    "id": "RiaZMjFvibbp"
   },
   "source": [
    "К дочернему классу можно добавить `__dict__`"
   ]
  },
  {
   "cell_type": "code",
   "execution_count": null,
   "metadata": {
    "colab": {
     "base_uri": "https://localhost:8080/"
    },
    "id": "uWlllKr0iiZG",
    "outputId": "6c21caf9-6f07-4577-fd0a-ea383ccab532"
   },
   "outputs": [],
   "source": [
    "class ArticleBase:\n",
    "    __slots__ = ['date', 'writer']\n",
    "\n",
    "\n",
    "class ArticleAdvanced(ArticleBase):\n",
    "    __slots__ = ['__dict__']\n",
    "\n",
    "\n",
    "article = ArticleAdvanced()\n",
    "article.reviewer = 'Ivanov'\n",
    "\n",
    "\n",
    "class ArticleAdvancedWithoutSlots(ArticleBase):\n",
    "    pass\n",
    "\n",
    "article = ArticleAdvancedWithoutSlots()\n",
    "article.reviewer = 'Petrov'\n",
    "print(article.__dict__)"
   ]
  },
  {
   "cell_type": "markdown",
   "metadata": {
    "id": "YZx-S0CtBBdN"
   },
   "source": [
    "*!!!Нельзя наследоваться от встроенных типов (`int`, `bytes`, `tuple`) с непустыми `__slots__`*"
   ]
  },
  {
   "cell_type": "code",
   "execution_count": null,
   "metadata": {
    "colab": {
     "base_uri": "https://localhost:8080/",
     "height": 183
    },
    "id": "2V6JZrQ_BrEN",
    "outputId": "5d72c535-756a-44c7-c4e3-de4247d3c835"
   },
   "outputs": [],
   "source": [
    "class ArticleNumber(int):\n",
    "    __slots__ = ['number']"
   ]
  },
  {
   "cell_type": "markdown",
   "metadata": {
    "id": "XLtzn5CG8FNi"
   },
   "source": [
    "Множественное наследование работает, но `__slots__` может быть только у одного из базовых классов"
   ]
  },
  {
   "cell_type": "code",
   "execution_count": null,
   "metadata": {
    "colab": {
     "base_uri": "https://localhost:8080/",
     "height": 235
    },
    "id": "JHWTp-lo8JKc",
    "outputId": "b235f219-bc94-43f4-c6e5-6f44f89edf09"
   },
   "outputs": [],
   "source": [
    "class A:\n",
    "    __slots__ = ['a', 'b']\n",
    "\n",
    "\n",
    "class B:\n",
    "    __slots__ = ['c']\n",
    "\n",
    "\n",
    "class C(A, B):\n",
    "    pass\n",
    "\n",
    "\n",
    "c = C()\n",
    "print(c.__slots__)"
   ]
  },
  {
   "cell_type": "markdown",
   "metadata": {
    "id": "PnA41h_80eij"
   },
   "source": [
    "# Перечисления"
   ]
  },
  {
   "cell_type": "code",
   "execution_count": null,
   "metadata": {
    "id": "WokE_q73DlN7"
   },
   "outputs": [],
   "source": [
    "RED = 1\n",
    "GREEN = 2\n",
    "BLUE = 3"
   ]
  },
  {
   "cell_type": "code",
   "execution_count": null,
   "metadata": {
    "id": "kZpcxKmuDocw"
   },
   "outputs": [],
   "source": [
    "RED, GREEN, BLUE = range(3)"
   ]
  },
  {
   "cell_type": "markdown",
   "metadata": {
    "id": "uXAtgAncFOtk"
   },
   "source": [
    "Перечисления:\n",
    "\n",
    "*   Множество символических имен, связанных с уникальными значениями\n",
    "*   Поддерживают итерирование по значениям (не именам) в порядке определения\n",
    "*   Позволяют получать значения по символьному имени и наоборот"
   ]
  },
  {
   "cell_type": "code",
   "execution_count": null,
   "metadata": {
    "colab": {
     "base_uri": "https://localhost:8080/"
    },
    "id": "uzB4ojNhC8Rr",
    "outputId": "915127b4-65c6-424a-a745-1771149debfc"
   },
   "outputs": [],
   "source": [
    "from enum import Enum\n",
    "\n",
    "\n",
    "class Color(Enum):\n",
    "    RED, GREEN, BLUE = range(3)\n",
    "    # RED = 1\n",
    "    # GREEN = 2\n",
    "    # BLUE = 3\n",
    "\n",
    "\n",
    "# Ошибка!!!\n",
    "# Color.RED = 10\n",
    "print(Color.RED.value)"
   ]
  },
  {
   "cell_type": "code",
   "execution_count": null,
   "metadata": {
    "id": "mXLKpOjAmemy"
   },
   "outputs": [],
   "source": [
    "!pip install pympler > /dev/null 2>&1"
   ]
  },
  {
   "cell_type": "markdown",
   "metadata": {
    "id": "GRlnpnkInv6w"
   },
   "source": [
    "Память сэкономить не получиться..."
   ]
  },
  {
   "cell_type": "code",
   "execution_count": null,
   "metadata": {
    "colab": {
     "base_uri": "https://localhost:8080/"
    },
    "id": "Lu1XwGo8moCd",
    "outputId": "64320c50-101a-4e68-d8bc-898adad5ab7f"
   },
   "outputs": [],
   "source": [
    "from pympler import asizeof\n",
    "\n",
    "print(asizeof.asizeof(RED))\n",
    "print(asizeof.asizeof(Color.RED))"
   ]
  },
  {
   "cell_type": "markdown",
   "metadata": {
    "id": "oJ9C3nkJnz-a"
   },
   "source": [
    "Однако перечисления:\n",
    "\n",
    "*  Позволяют удобно группировать связанные константы в своего рода пространства имен.\n",
    "*  Позволяют расширить функциональность с помощью пользовательских методов, которые работают либо с элементами перечисления, либо с самим перечислением.\n",
    "*  Предоставляют быстрый и гибкий доступ к элементам перечисления.\n",
    "*  Дают возможность итерировать по символьным именам и значениям.\n",
    "*  Упрощают автозавершение кода в IDE и редакторах\n",
    "*  Дают возможность проверки типов и ошибок с помощью статических средств проверки.\n",
    "*  Являются константами, которые нельзя изменить во время исполнения кода.\n",
    "*  Улучшение читабельности и удобства сопровождения кода за счет использования понятных имен вместо загадочных значений или магических чисел.\n",
    "*  Упрощение отладки за счет использования удобочитаемых имен."
   ]
  },
  {
   "cell_type": "markdown",
   "metadata": {
    "id": "2rmMYgx2C_DX"
   },
   "source": [
    "В редких случаях можно создавать в функцианальном стиле"
   ]
  },
  {
   "cell_type": "code",
   "execution_count": null,
   "metadata": {
    "id": "4FeONyM4DHXx"
   },
   "outputs": [],
   "source": [
    "Color = Enum('Color', ['RED', 'GREEN', 'BLUE'])"
   ]
  },
  {
   "cell_type": "code",
   "execution_count": null,
   "metadata": {
    "colab": {
     "base_uri": "https://localhost:8080/"
    },
    "id": "PN2EgnsHDOyy",
    "outputId": "3346b119-fef8-4984-f502-93b43e8b8bc2"
   },
   "outputs": [],
   "source": [
    "some_var = Color.RED\n",
    "some_var in Color"
   ]
  },
  {
   "cell_type": "code",
   "execution_count": null,
   "metadata": {
    "colab": {
     "base_uri": "https://localhost:8080/"
    },
    "id": "h90ViNm7DY_1",
    "outputId": "91137bcf-300e-4403-ae36-71834397295c"
   },
   "outputs": [],
   "source": [
    "Color['BLUE']"
   ]
  },
  {
   "cell_type": "code",
   "execution_count": null,
   "metadata": {
    "colab": {
     "base_uri": "https://localhost:8080/",
     "height": 36
    },
    "id": "sp4ofyt8DeYO",
    "outputId": "d185f02d-fa4f-4e6d-f603-f65bfe5ebcb5"
   },
   "outputs": [],
   "source": [
    "Color.BLUE.name"
   ]
  },
  {
   "cell_type": "code",
   "execution_count": null,
   "metadata": {
    "colab": {
     "base_uri": "https://localhost:8080/"
    },
    "id": "UlTMpI2XDfJn",
    "outputId": "1b45b488-789a-462d-fd29-759e02e5a70b"
   },
   "outputs": [],
   "source": [
    "Color.RED.value"
   ]
  },
  {
   "cell_type": "code",
   "execution_count": null,
   "metadata": {
    "colab": {
     "base_uri": "https://localhost:8080/"
    },
    "id": "xB9UbxeSHB4R",
    "outputId": "9a2746dc-3820-48a4-b63e-49e75275441e"
   },
   "outputs": [],
   "source": [
    "from datetime import date\n",
    "\n",
    "class Weekday(Enum):\n",
    "    MONDAY = 1\n",
    "    TUESDAY = 2\n",
    "    WEDNESDAY = 3\n",
    "    THURSDAY = 4\n",
    "    FRIDAY = 5\n",
    "    SATURDAY = 6\n",
    "    SUNDAY = 7\n",
    "\n",
    "    @classmethod\n",
    "    def from_date(cls, date):\n",
    "        return cls(date.isoweekday())\n",
    "\n",
    "\n",
    "Weekday.from_date(date.today())"
   ]
  },
  {
   "cell_type": "markdown",
   "metadata": {},
   "source": [
    "Перечисления элементов конкретного класса"
   ]
  },
  {
   "cell_type": "code",
   "execution_count": 226,
   "metadata": {},
   "outputs": [],
   "source": [
    "class PacketsTypes(int, Enum):\n",
    "    GPS = 0x02\n",
    "    VARIO = 0x07\n",
    "    BATTERY_SENSOR = 0x08\n",
    "    BARO_ALT = 0x09\n",
    "    HEARTBEAT = 0x0B\n",
    "    VIDEO_TRANSMITTER = 0x0F\n",
    "    LINK_STATISTICS = 0x14\n",
    "    RC_CHANNELS_PACKED = 0x16\n",
    "    ATTITUDE = 0x1E\n",
    "    FLIGHT_MODE = 0x21\n",
    "    DEVICE_INFO = 0x29\n",
    "    CONFIG_READ = 0x2C\n",
    "    CONFIG_WRITE = 0x2D\n",
    "    RADIO_ID = 0x3A"
   ]
  },
  {
   "cell_type": "code",
   "execution_count": null,
   "metadata": {
    "colab": {
     "base_uri": "https://localhost:8080/"
    },
    "id": "t9-TKk_JIB7x",
    "outputId": "59e9362c-dd42-4ba0-f9a4-20889c4a39bd"
   },
   "outputs": [],
   "source": [
    "from enum import Flag, auto\n",
    "\n",
    "class Color(Flag):\n",
    "    RED = auto()\n",
    "    GREEN = auto()\n",
    "    BLUE = auto()\n",
    "\n",
    "\n",
    "# Степени двойки\n",
    "print([member.value for member in Color])\n",
    "\n",
    "purple = Color.RED | Color.BLUE\n",
    "white = Color.RED | Color.GREEN | Color.BLUE\n",
    "\n",
    "print(Color.GREEN in purple)\n",
    "print(Color.GREEN in white)\n",
    "\n",
    "print(purple in white)\n",
    "print(white in purple)\n"
   ]
  },
  {
   "cell_type": "code",
   "execution_count": null,
   "metadata": {
    "colab": {
     "base_uri": "https://localhost:8080/"
    },
    "id": "icttoV0fHqtw",
    "outputId": "ba5345ff-1ce2-45c1-b5ca-b5088191376b"
   },
   "outputs": [],
   "source": [
    "from enum import auto, Flag\n",
    "\n",
    "\n",
    "class Weekday(Flag):\n",
    "    MONDAY = auto()\n",
    "    TUESDAY = auto()\n",
    "    WEDNESDAY = auto()\n",
    "    THURSDAY = auto()\n",
    "    FRIDAY = auto()\n",
    "    SATURDAY = auto()\n",
    "    SUNDAY = auto()\n",
    "    WEEKEND = SATURDAY | SUNDAY\n",
    "\n",
    "\n",
    "print([member.value for member in Weekday])"
   ]
  },
  {
   "cell_type": "markdown",
   "metadata": {
    "id": "hw_mOPipno7C"
   },
   "source": [
    "Альтернатива битовая магия. Длина целого ограничена в С, поэтому там используют битовые структуры, что является аналогом."
   ]
  },
  {
   "cell_type": "markdown",
   "metadata": {
    "id": "vLbLxq5cMPNF"
   },
   "source": [
    "Проверить бит по позиции"
   ]
  },
  {
   "cell_type": "code",
   "execution_count": null,
   "metadata": {
    "colab": {
     "base_uri": "https://localhost:8080/"
    },
    "id": "D4HuatjZMRUl",
    "outputId": "2a847e89-f202-49c7-c1f1-4a55e81a2472"
   },
   "outputs": [],
   "source": [
    "def test_bit(num, offset):\n",
    "    return num & (1 << offset)\n",
    "\n",
    "\n",
    "print(test_bit(0b010000, 0))\n",
    "print(test_bit(0b010000, 1))\n",
    "print(test_bit(0b010000, 2))\n",
    "print(test_bit(0b010000, 3))\n",
    "print(test_bit(0b010000, 4))\n",
    "print(test_bit(0b010000, 5))"
   ]
  },
  {
   "cell_type": "markdown",
   "metadata": {
    "id": "r_ZzdT2nM2Jx"
   },
   "source": [
    "Установить бит в единицу по позиции"
   ]
  },
  {
   "cell_type": "code",
   "execution_count": null,
   "metadata": {
    "colab": {
     "base_uri": "https://localhost:8080/"
    },
    "id": "0QTqfl-CM6mY",
    "outputId": "a9f21dc3-c1f9-4768-90dd-3681fc750c75"
   },
   "outputs": [],
   "source": [
    "def set_bit(num, offset):\n",
    "    num |= (1 << offset)\n",
    "    return num\n",
    "\n",
    "\n",
    "print(bin(set_bit(0b11001, 0)))"
   ]
  },
  {
   "cell_type": "markdown",
   "metadata": {
    "id": "8RU5D3krNEBK"
   },
   "source": [
    "Установить бит в ноль по позиции"
   ]
  },
  {
   "cell_type": "code",
   "execution_count": null,
   "metadata": {
    "colab": {
     "base_uri": "https://localhost:8080/"
    },
    "id": "TDhmQUdQNOog",
    "outputId": "50963d59-4d41-4341-8288-b84a569e6f6a"
   },
   "outputs": [],
   "source": [
    "def reset_bit(num, offset):\n",
    "    num &= ~(1 << offset)\n",
    "    return num\n",
    "\n",
    "\n",
    "print(bin(reset_bit(0b11000, 3)))"
   ]
  },
  {
   "cell_type": "markdown",
   "metadata": {
    "id": "x2KHINCZNYFf"
   },
   "source": [
    "Инвертировать бит по позиции"
   ]
  },
  {
   "cell_type": "code",
   "execution_count": null,
   "metadata": {
    "colab": {
     "base_uri": "https://localhost:8080/"
    },
    "id": "RSbAuW_rNZVP",
    "outputId": "27077679-ebd8-46ec-93e6-ac707cd0bc92"
   },
   "outputs": [],
   "source": [
    "def invert_bit(num, offset):\n",
    "    num ^= (1 << offset)\n",
    "    return num\n",
    "\n",
    "a = lambda num, offset: num.__rxor__(1 << offset)\n",
    "\n",
    "\n",
    "print(bin(a(0b11000, 3)))"
   ]
  },
  {
   "cell_type": "code",
   "execution_count": null,
   "metadata": {
    "colab": {
     "base_uri": "https://localhost:8080/",
     "height": 36
    },
    "id": "JVgYk3bsy0Z6",
    "outputId": "de3a1990-6b7a-47cd-f387-047cb4185c4d"
   },
   "outputs": [],
   "source": [
    "a = 0b000011\n",
    "bin(~a)"
   ]
  },
  {
   "cell_type": "markdown",
   "metadata": {
    "id": "1tRrBKJO0kxO"
   },
   "source": [
    "# Конструктор `__new__`"
   ]
  },
  {
   "cell_type": "markdown",
   "metadata": {
    "id": "Cvul5UxeMnhM"
   },
   "source": [
    "*  Метод `__new__()` создает новый экземпляр.\n",
    "*  Метод `__init__()` инициализирует этот экземпляр.\n",
    "\n",
    "Метод `__new__` — это специальный метод, который вызывается перед методом `__init__`. Он отвечает за создание объекта и его возврат. Метод `__new__` является статическим методом, что означает, что он вызывается для класса, а не для экземпляра класса.\n",
    "\n",
    "В общем случае нет необходимост переопределять метод `__new__`. Потому что в большинстве случаев достаточно его реализации по умолчанию.\n",
    "\n",
    "Пример: реализация паттерна проектирования \"Одиночка\" или \"Singleton\".\n",
    "\n",
    "Singleton — порождающий шаблон проектирования, гарантирующий, что в однопоточном приложении будет единственный экземпляр некоторого класса, и предоставляющий глобальную точку доступа к этому экземпляру."
   ]
  },
  {
   "cell_type": "code",
   "execution_count": null,
   "metadata": {},
   "outputs": [],
   "source": [
    "None is None"
   ]
  },
  {
   "cell_type": "code",
   "execution_count": null,
   "metadata": {
    "colab": {
     "base_uri": "https://localhost:8080/"
    },
    "id": "TvYybKTKLOBi",
    "outputId": "5bbbb344-cb05-4a76-a88d-945489c529f8"
   },
   "outputs": [],
   "source": [
    "class SingletonGenius:\n",
    "    __instance = None\n",
    "\n",
    "    def __new__(cls, *args, **kwargs):\n",
    "        if not cls.__instance:\n",
    "            # А вот и самый базовый класс.\n",
    "            cls.__instance = object.__new__(cls)\n",
    "        return cls.__instance\n",
    "\n",
    "    def __init__(self, first_name, last_name):\n",
    "        self.first_name = first_name\n",
    "        self.last_name = last_name\n",
    "\n",
    "\n",
    "s1 = SingletonGenius('Yang', 'Zhou')\n",
    "s2 = SingletonGenius('Elon', 'Musk')\n",
    "\n",
    "print(s1)\n",
    "print(s2)\n",
    "\n",
    "print(s1 == s2)\n",
    "\n",
    "print(s1.last_name)\n",
    "print(s2.last_name)"
   ]
  },
  {
   "cell_type": "markdown",
   "metadata": {
    "id": "_7_aRWKSusCl"
   },
   "source": [
    "# Динамическое создание классов"
   ]
  },
  {
   "cell_type": "markdown",
   "metadata": {
    "id": "NqVaZoMi92wu"
   },
   "source": [
    "```\n",
    "type.__new__(typeclass, classname, superclasses, attributedict)\n",
    "type.__init__(cls, classname, superclasses, attributedict)\n",
    "```"
   ]
  },
  {
   "cell_type": "code",
   "execution_count": null,
   "metadata": {
    "colab": {
     "base_uri": "https://localhost:8080/"
    },
    "id": "LRfHInbiuv8i",
    "outputId": "d844624c-c8cd-4b1b-92de-77a058d79224"
   },
   "outputs": [],
   "source": [
    "class Robot:\n",
    "\n",
    "    __counter = 0\n",
    "\n",
    "    def __init__(self, name):\n",
    "        self.name = name\n",
    "\n",
    "    def say_hello(self):\n",
    "        return f'Гой еси, азъ есмь {self.name}'\n",
    "\n",
    "\n",
    "NewRobot = type(\n",
    "\t'NewRobot',\n",
    "\t(),  # От чего будем наследоваться.\n",
    "    {\n",
    "\t\t'__counter': 0,\n",
    "        '__init__': lambda self, name: setattr(self, 'name', name),\n",
    "        'say_hello': lambda self: f'Гой еси, азъ есмь {self.name}'\n",
    "\t}\n",
    ")\n",
    "\n",
    "x = Robot('Ѳеодоръ')\n",
    "print(x.name)\n",
    "print(x.say_hello())\n",
    "\n",
    "y = NewRobot('Меѳодій')\n",
    "print(y.name)\n",
    "print(y.say_hello())\n",
    "\n",
    "print(x.__dict__)\n",
    "print(y.__dict__)"
   ]
  },
  {
   "cell_type": "markdown",
   "metadata": {
    "id": "FPG8f9sagJKb"
   },
   "source": [
    "# Классы и генераторы"
   ]
  },
  {
   "cell_type": "markdown",
   "metadata": {
    "id": "Nh0-756ZRNKE"
   },
   "source": [
    "Генераторы -- это основа кооперативной многозадачности в Python"
   ]
  },
  {
   "cell_type": "code",
   "execution_count": null,
   "metadata": {
    "colab": {
     "base_uri": "https://localhost:8080/"
    },
    "id": "HcUjABC2OKCy",
    "outputId": "dc304be9-5e2b-431b-b755-16ae651e8f77"
   },
   "outputs": [],
   "source": [
    "ran = range(5)\n",
    "print(type(ran))\n",
    "print(list(ran))"
   ]
  },
  {
   "cell_type": "code",
   "execution_count": null,
   "metadata": {
    "id": "Nvn93BpNOePI"
   },
   "outputs": [],
   "source": [
    "def infinite_sequence():\n",
    "    num = 0\n",
    "    while True:\n",
    "        yield num\n",
    "        num += 1"
   ]
  },
  {
   "cell_type": "code",
   "execution_count": null,
   "metadata": {
    "colab": {
     "base_uri": "https://localhost:8080/",
     "height": 383
    },
    "id": "FvScKyhVOjn8",
    "outputId": "187879cf-6c23-4455-afc9-a4d8dbba0b82"
   },
   "outputs": [],
   "source": [
    "for i in infinite_sequence():\n",
    "    print(i, end=' ')"
   ]
  },
  {
   "cell_type": "code",
   "execution_count": null,
   "metadata": {
    "colab": {
     "base_uri": "https://localhost:8080/"
    },
    "id": "BpfUPW8TO4yT",
    "outputId": "86bb6da4-b9b1-4b97-f458-cd1b330d6b92"
   },
   "outputs": [],
   "source": [
    "gen = infinite_sequence()\n",
    "print(next(gen))\n",
    "print(next(gen))\n",
    "print(next(gen))\n",
    "print(next(gen))"
   ]
  },
  {
   "cell_type": "markdown",
   "metadata": {
    "id": "WJQDMW91PoDX"
   },
   "source": [
    "Передача функции в бесконечный генератор"
   ]
  },
  {
   "cell_type": "code",
   "execution_count": null,
   "metadata": {
    "id": "kIxJD7RWOrjk"
   },
   "outputs": [],
   "source": [
    "def is_palindrome(num):\n",
    "    # Пропустить числа из одного разряда.\n",
    "    if num // 10 == 0:\n",
    "        return False\n",
    "    temp = num\n",
    "    reversed_num = 0\n",
    "\n",
    "    while temp != 0:\n",
    "        reversed_num = (reversed_num * 10) + (temp % 10)\n",
    "        temp = temp // 10\n",
    "\n",
    "    if num == reversed_num:\n",
    "        return num\n",
    "    else:\n",
    "        return False"
   ]
  },
  {
   "cell_type": "code",
   "execution_count": null,
   "metadata": {
    "colab": {
     "base_uri": "https://localhost:8080/",
     "height": 359
    },
    "id": "r4XTJwLJPwL0",
    "outputId": "4278b1a6-22db-4aca-ddcb-c3a6e7a2224e"
   },
   "outputs": [],
   "source": [
    "for i in infinite_sequence():\n",
    "    if is_palindrome(i):\n",
    "        print(i, end=' ')"
   ]
  },
  {
   "cell_type": "markdown",
   "metadata": {
    "id": "it_QajgxQZOi"
   },
   "source": [
    "Генераторы и включения"
   ]
  },
  {
   "cell_type": "code",
   "execution_count": null,
   "metadata": {
    "colab": {
     "base_uri": "https://localhost:8080/"
    },
    "id": "jdbAZwvDQb6d",
    "outputId": "433f9871-ec31-4942-f51b-2e49cf34e3e3"
   },
   "outputs": [],
   "source": [
    "nums_squared_lc = [num**2 for num in range(5)]\n",
    "print(nums_squared_lc)"
   ]
  },
  {
   "cell_type": "code",
   "execution_count": null,
   "metadata": {
    "colab": {
     "base_uri": "https://localhost:8080/"
    },
    "id": "hkOHaIeEQkRD",
    "outputId": "09d4fc3e-eb76-480b-8df6-3dbb0cf452a1"
   },
   "outputs": [],
   "source": [
    "nums_squared_gc = (num**2 for num in range(5))\n",
    "print(nums_squared_gc)"
   ]
  },
  {
   "cell_type": "markdown",
   "metadata": {
    "id": "b3H_Cl7UQ5hC"
   },
   "source": [
    "Генераторы экономят память"
   ]
  },
  {
   "cell_type": "code",
   "execution_count": null,
   "metadata": {
    "colab": {
     "base_uri": "https://localhost:8080/"
    },
    "id": "xAhpPucPQn9a",
    "outputId": "d3321fc2-bf74-4a1e-e4ad-33426cbe520a"
   },
   "outputs": [],
   "source": [
    "import sys\n",
    "\n",
    "nums_squared_lc = [i ** 2 for i in range(10000)]\n",
    "print(sys.getsizeof(nums_squared_lc))\n",
    "\n",
    "nums_squared_gc = (i ** 2 for i in range(10000))\n",
    "print(sys.getsizeof(nums_squared_gc))"
   ]
  },
  {
   "cell_type": "markdown",
   "metadata": {
    "id": "Uv-AGbplTTyj"
   },
   "source": [
    "Материал для самостоятельного изучения: методы `.send()`, `.throw()` и `.close()`"
   ]
  },
  {
   "cell_type": "markdown",
   "metadata": {
    "id": "woCy5D-tR1do"
   },
   "source": [
    "Но при этом увеличивается расход ресурса центрального процессора"
   ]
  },
  {
   "cell_type": "code",
   "execution_count": null,
   "metadata": {
    "colab": {
     "base_uri": "https://localhost:8080/"
    },
    "id": "GnY8C_4KRkqS",
    "outputId": "42a561d3-244a-4fde-ea05-89bafc724738"
   },
   "outputs": [],
   "source": [
    "import cProfile\n",
    "cProfile.run('sum([i * 2 for i in range(100000)])')"
   ]
  },
  {
   "cell_type": "code",
   "execution_count": null,
   "metadata": {
    "colab": {
     "base_uri": "https://localhost:8080/"
    },
    "id": "XVrZ8JN9Rm6l",
    "outputId": "19c61151-7a9d-41a2-e7b0-28357d7c537a"
   },
   "outputs": [],
   "source": [
    "cProfile.run('sum((i * 2 for i in range(100000)))')"
   ]
  },
  {
   "cell_type": "markdown",
   "metadata": {
    "id": "bmtMOPi7S4Ja"
   },
   "source": [
    "Генератор -- это синтаксический сахар для итератора"
   ]
  },
  {
   "cell_type": "code",
   "execution_count": null,
   "metadata": {
    "colab": {
     "base_uri": "https://localhost:8080/"
    },
    "id": "5ZUjVBtozATR",
    "outputId": "0d352fe8-3be1-47e8-978e-19dcfb3aae02"
   },
   "outputs": [],
   "source": [
    "class Fib:\n",
    "    def __init__(self):\n",
    "        self.a, self.b = 0, 1\n",
    "\n",
    "    def __next__(self):\n",
    "        return_value = self.a\n",
    "        self.a, self.b = self.b, self.a + self.b\n",
    "        return return_value\n",
    "\n",
    "    def __iter__(self):\n",
    "        return self\n",
    "\n",
    "\n",
    "f = Fib()\n",
    "for i in range(10):\n",
    "    print(next(f))"
   ]
  },
  {
   "cell_type": "markdown",
   "metadata": {
    "id": "pmitZunuNNX6"
   },
   "source": [
    "# Аннотации типов"
   ]
  },
  {
   "cell_type": "code",
   "execution_count": null,
   "metadata": {
    "colab": {
     "base_uri": "https://localhost:8080/"
    },
    "id": "YuYExwkePJsO",
    "outputId": "b1fd65f2-60e5-40ea-b424-4b08b5ad7539"
   },
   "outputs": [],
   "source": [
    "!sudo add-apt-repository ppa:deadsnakes/ppa"
   ]
  },
  {
   "cell_type": "code",
   "execution_count": null,
   "metadata": {
    "id": "8TvsYkqPPcRV"
   },
   "outputs": [],
   "source": [
    "!sudo apt update > /dev/null 2>&1"
   ]
  },
  {
   "cell_type": "code",
   "execution_count": null,
   "metadata": {
    "id": "EUxh9_2NPlMI"
   },
   "outputs": [],
   "source": [
    "!sudo apt install python3.11 > /dev/null 2>&1"
   ]
  },
  {
   "cell_type": "code",
   "execution_count": null,
   "metadata": {
    "colab": {
     "base_uri": "https://localhost:8080/"
    },
    "id": "wka9FEdOQL84",
    "outputId": "d0ba6480-ba71-4db8-9195-8f92a2ba712c"
   },
   "outputs": [],
   "source": [
    "!python3 --version"
   ]
  },
  {
   "cell_type": "code",
   "execution_count": null,
   "metadata": {
    "id": "wDC7NJ56QSbX"
   },
   "outputs": [],
   "source": [
    "!sudo update-alternatives --install /usr/bin/python3 python3 /usr/bin/python3.11 1"
   ]
  },
  {
   "cell_type": "code",
   "execution_count": null,
   "metadata": {
    "colab": {
     "base_uri": "https://localhost:8080/"
    },
    "id": "nnpe_jJzQWCx",
    "outputId": "1c349091-980b-44e7-f9ab-8d2180ed4e2d"
   },
   "outputs": [],
   "source": [
    "!sudo update-alternatives --config python3"
   ]
  },
  {
   "cell_type": "code",
   "execution_count": null,
   "metadata": {
    "colab": {
     "base_uri": "https://localhost:8080/"
    },
    "id": "Owu04tdqNjhr",
    "outputId": "aaa29765-5d79-4fb7-a90b-3a7a59294e91"
   },
   "outputs": [],
   "source": [
    "import sys; print(sys.version)"
   ]
  },
  {
   "cell_type": "code",
   "execution_count": null,
   "metadata": {
    "colab": {
     "base_uri": "https://localhost:8080/"
    },
    "id": "ajV9we8hRlaa",
    "outputId": "f63aaa72-98bf-49a3-ff06-b403184110d2"
   },
   "outputs": [],
   "source": [
    "!python --version"
   ]
  },
  {
   "cell_type": "code",
   "execution_count": null,
   "metadata": {
    "colab": {
     "base_uri": "https://localhost:8080/"
    },
    "id": "T9TTkmI6LMME",
    "outputId": "eedd415d-f75c-4228-98ed-e48ac8f0c318"
   },
   "outputs": [],
   "source": [
    "age: int = 1\n",
    "a: int\n",
    "\n",
    "child: bool\n",
    "if age < 18:\n",
    "    child = 1\n",
    "else:\n",
    "    child = False\n",
    "\n",
    "print(child)"
   ]
  },
  {
   "cell_type": "markdown",
   "metadata": {
    "id": "ALe2oJeBLoAL"
   },
   "source": [
    "## Переменные"
   ]
  },
  {
   "cell_type": "code",
   "execution_count": null,
   "metadata": {
    "id": "kEE9BaTRIutl"
   },
   "outputs": [],
   "source": [
    "%%python3\n",
    "\n",
    "x: int = 1\n",
    "x: float = 1.0\n",
    "x: bool = True\n",
    "x: str = 'test'\n",
    "x: bytes = b'test'\n",
    "\n",
    "x: list[int] = [1]\n",
    "x: set[int] = {6, 7}\n",
    "\n",
    "x: dict[str, float] = {'field': 2.0}  # Python 3.9+\n",
    "\n",
    "# Кортеж фиксированного размера, описываем типы каждого элемента по отдельности\n",
    "x: tuple[int, str, float] = (3, 'yes', 7.5)  # Python 3.9+\n",
    "\n",
    "# Для кортежей переменной длины используем указание типа и ellipsis\n",
    "x: tuple[int, ...] = (1, 2, 3)  # Python 3.9+\n",
    "\n",
    "# Правильно:\n",
    "x = ()\n",
    "x = (1,)\n",
    "x = (4, 5, 6, 99)\n",
    "\n",
    "# Неправильно:\n",
    "x = (1, 'a')\n",
    "x = [1, 3]"
   ]
  },
  {
   "cell_type": "markdown",
   "metadata": {
    "id": "7cGICvC-Krx7"
   },
   "source": [
    "В Python версий 3.8 и более ранних использовались **дженерики** из модуля `typing`.\n",
    "Обобщённое программирование (англ. generic programming) — парадигма программирования, заключающаяся в таком описании данных и алгоритмов, которое можно применять к различным типам данных, не меняя само это описание. Например, в С++ дженерики называются шаблонами."
   ]
  },
  {
   "cell_type": "code",
   "execution_count": null,
   "metadata": {
    "id": "ccB09GLqKeNs"
   },
   "outputs": [],
   "source": [
    "from typing import List, Set, Dict, Tuple\n",
    "\n",
    "\n",
    "x: List[int] = [1]\n",
    "x: Set[int] = {6, 7}\n",
    "x: Dict[str, float] = {'field': 2.0}\n",
    "x: Tuple[int, str, float] = (3, 'yes', 7.5)\n",
    "x: Tuple[int, ...] = (1, 2, 3)"
   ]
  },
  {
   "cell_type": "code",
   "execution_count": null,
   "metadata": {
    "id": "QdOOJ3olJujy"
   },
   "outputs": [],
   "source": [
    "%%python3\n",
    "\n",
    "from typing import Union, Optional\n",
    "\n",
    "\n",
    "x: list[int | str] = [3, 5, 'test', 'fun']  # Python 3.10+\n",
    "x: list[Union[int, str]] = [3, 5, 'test', 'fun']\n",
    "\n",
    "# Можно использовать Optional[X] для значений не None\n",
    "# Optional[X] -- это то же самое, что X | None или Union[X, None]\n",
    "x: Optional[str] = 'something' if True else None"
   ]
  },
  {
   "cell_type": "code",
   "execution_count": null,
   "metadata": {
    "id": "TT2n96n16zSD"
   },
   "outputs": [],
   "source": [
    "x: list"
   ]
  },
  {
   "cell_type": "markdown",
   "metadata": {
    "id": "3WL0ITquLjLX"
   },
   "source": [
    "## Функции"
   ]
  },
  {
   "cell_type": "code",
   "execution_count": null,
   "metadata": {
    "id": "6pXA02imLrno"
   },
   "outputs": [],
   "source": [
    "%%python3\n",
    "\n",
    "from typing import Callable, Iterator, Union, Optional\n",
    "\n",
    "\n",
    "def stringify(num: int) -> str:\n",
    "    return str(num)\n",
    "\n",
    "\n",
    "def plus(num1: int, num2: int) -> int:\n",
    "    return num1 + num2\n",
    "\n",
    "\n",
    "# Если фукнкция не возвращает значение, используется None.\n",
    "# Значение по умолчанию добавляется после типа.\n",
    "def show(value: str, excitement: int = 10) -> None:\n",
    "    print(f'{value}{\"!\" * excitement}')\n",
    "\n",
    "\n",
    "# Можно аннотировать существюущие функции\n",
    "def f(x, y):\n",
    "    return x * y\n",
    "\n",
    "# Функция принимает int или float, возвращает float.\n",
    "x: Callable[[int, float], float] = f\n",
    "\n",
    "# Или можно вот так:\n",
    "x: Callable[[int, float], float] = lambda x, y: x * y\n",
    "\n",
    "# Для функций, которые принимаются в качестве аргумента.\n",
    "def register(callback: Callable[[int | float, str], int]) -> None: ...\n",
    "\n",
    "# Генераторная функция.\n",
    "def gen(n: int) -> Iterator[int]:\n",
    "    i = 0\n",
    "    while i < n:\n",
    "        yield i\n",
    "        i += 1\n",
    "\n",
    "# Для длинных сигнатур рекомендуется использовать многострочную запись.\n",
    "# Выглядит страшненько... можно поиграться с форматированием, в PEP8 точных\n",
    "# рекомендаций пока нет.\n",
    "def send_email(\n",
    "    address: str | list[str],\n",
    "    sender: str,\n",
    "    cc: Optional[list[str]],\n",
    "    bcc: Optional[list[str]],\n",
    "    subject: str = '',\n",
    "    body: Optional[list[str]] = None\n",
    ") -> bool:\n",
    "    ..."
   ]
  },
  {
   "cell_type": "markdown",
   "metadata": {
    "id": "oj1_7anLQ1Aj"
   },
   "source": [
    "## Классы"
   ]
  },
  {
   "cell_type": "code",
   "execution_count": null,
   "metadata": {
    "id": "37_aFQmsQ3Dc"
   },
   "outputs": [],
   "source": [
    "%%python3\n",
    "\n",
    "from typing import ClassVar\n",
    "\n",
    "\n",
    "class BankAccount:\n",
    "    def __init__(self, account_name: str, initial_balance: int = 0) -> None:\n",
    "        self.account_name = account_name\n",
    "        self.balance = initial_balance\n",
    "\n",
    "    def deposit(self, amount: int) -> None:\n",
    "        self.balance += amount\n",
    "\n",
    "    def withdraw(self, amount: int) -> None:\n",
    "        self.balance -= amount\n",
    "\n",
    "\n",
    "# Пользовательские классы можно использовать для аннотаций.\n",
    "account: BankAccount = BankAccount('Петров', 400)\n",
    "\n",
    "\n",
    "def transfer(src: BankAccount, dst: BankAccount, amount: int) -> None:\n",
    "    src.withdraw(amount)\n",
    "    dst.deposit(amount)\n",
    "\n",
    "\n",
    "# Функции, которые принимают BankAccount также примут любой его подкласс!\n",
    "class AuditedBankAccount(BankAccount):\n",
    "    # Это атрибут класса\n",
    "    audit_log: list[str]\n",
    "    # А это атрибут класса со значением по умолчанию.\n",
    "    auditor_name: str = 'The Spanish Inquisition'\n",
    "\n",
    "    def __init__(self, account_name: str, initial_balance: int = 0) -> None:\n",
    "        super().__init__(account_name, initial_balance)\n",
    "        self.audit_log: list[str] = []\n",
    "\n",
    "    def deposit(self, amount: int) -> None:\n",
    "        self.audit_log.append(f'Deposited {amount}')\n",
    "        self.balance += amount\n",
    "\n",
    "    def withdraw(self, amount: int) -> None:\n",
    "        self.audit_log.append(f'Withdrew {amount}')\n",
    "        self.balance -= amount\n",
    "\n",
    "audited = AuditedBankAccount('Петров', 300)\n",
    "transfer(audited, account, 100)\n",
    "\n",
    "# Можно использовать ClassVar для того, чтобы подчеркнуть, что это\n",
    "# атрибут класса.\n",
    "class Car:\n",
    "    seats: ClassVar[int] = 4\n",
    "    passengers: ClassVar[list[str]]"
   ]
  },
  {
   "cell_type": "markdown",
   "metadata": {
    "id": "WT4REbn6SwpI"
   },
   "source": [
    "Для самостоятельного изучения: тип Any, type-casting для аннотаций"
   ]
  },
  {
   "cell_type": "markdown",
   "metadata": {
    "id": "orbrzEcjNS_9"
   },
   "source": [
    "# Датаклассы"
   ]
  },
  {
   "cell_type": "code",
   "execution_count": null,
   "metadata": {
    "id": "Z5HGE5aINm3m"
   },
   "outputs": [],
   "source": [
    "from dataclasses import dataclass\n",
    "\n",
    "\n",
    "@dataclass\n",
    "class InventoryItem:\n",
    "    \"\"\"Class for keeping track of an item in inventory.\"\"\"\n",
    "    name: str\n",
    "    unit_price: float\n",
    "    quantity_on_hand: int = 0\n",
    "\n",
    "    # def __init__(self, name: str, unit_price: float, quantity_on_hand: int = 0):\n",
    "    #     self.name = name\n",
    "    #     self.unit_price = unit_price\n",
    "    #     self.quantity_on_hand = quantity_on_hand\n",
    "\n",
    "    def total_cost(self) -> float:\n",
    "        return self.unit_price * self.quantity_on_hand"
   ]
  },
  {
   "cell_type": "code",
   "execution_count": null,
   "metadata": {
    "id": "M_WAEVDKOSBy"
   },
   "outputs": [],
   "source": [
    "%%python\n",
    "\n",
    "from dataclasses import dataclass\n",
    "\n",
    "\n",
    "@dataclass\n",
    "class C:\n",
    "    ...\n",
    "\n",
    "# @dataclass()\n",
    "# class C:\n",
    "#     ...\n",
    "\n",
    "\n",
    "@dataclass(init=True,\n",
    "           repr=True,\n",
    "           eq=True,\n",
    "           order=False,\n",
    "           unsafe_hash=False,\n",
    "           frozen=False,\n",
    "           match_args=True,\n",
    "           kw_only=False,\n",
    "           slots=False,\n",
    "           weakref_slot=False)\n",
    "class C:\n",
    "    ..."
   ]
  },
  {
   "cell_type": "code",
   "execution_count": null,
   "metadata": {
    "colab": {
     "base_uri": "https://localhost:8080/",
     "height": 676
    },
    "id": "oPt84kZ4RSqY",
    "outputId": "c0f23280-2e77-460a-eb17-35b9404a8b25"
   },
   "outputs": [],
   "source": [
    "%%python\n",
    "\n",
    "from dataclasses import dataclass, field\n",
    "\n",
    "\n",
    "@dataclass\n",
    "class C:\n",
    "    mylist: list[int] = field(default_factory=list)\n",
    "\n",
    "c = C()\n",
    "c.mylist += [1, 2, 3]\n",
    "\n",
    "print(c.mylist)"
   ]
  },
  {
   "cell_type": "code",
   "execution_count": null,
   "metadata": {
    "colab": {
     "base_uri": "https://localhost:8080/",
     "height": 515
    },
    "id": "y7gatqnEUBfe",
    "outputId": "b7e30abe-ae58-45cf-eab9-bf33f78921ea"
   },
   "outputs": [],
   "source": [
    "%%python\n",
    "\n",
    "from dataclasses import dataclass, field, asdict\n",
    "\n",
    "\n",
    "@dataclass\n",
    "class Point:\n",
    "     x: int\n",
    "     y: int\n",
    "\n",
    "@dataclass\n",
    "class C:\n",
    "     mylist: list[Point]\n",
    "\n",
    "p = Point(11, 20)\n",
    "assert asdict(p) == {'x': 11, 'y': 20}\n",
    "\n",
    "c = C([Point(0, 0), Point(10, 4)])\n",
    "assert asdict(c) == {'mylist': [{'x': 0, 'y': 0}, {'x': 10, 'y': 4}]}"
   ]
  },
  {
   "cell_type": "markdown",
   "metadata": {},
   "source": [
    "Вариант с инициализацией поля произвольного типа"
   ]
  },
  {
   "cell_type": "code",
   "execution_count": null,
   "metadata": {},
   "outputs": [],
   "source": [
    "from dataclasses import dataclass, field\n",
    "\n",
    "@dataclass\n",
    "class Point:\n",
    "    x: float = 0.0\n",
    "    y: float = 0.0\n",
    "\n",
    "\n",
    "@dataclass\n",
    "class PointsList():\n",
    "    points: list = field(default_factory=lambda: [\n",
    "        Point(), \n",
    "        Point(),\n",
    "        Point()\n",
    "    ])\n",
    "\n",
    "\n",
    "p = PointsList()\n",
    "print(p.points)"
   ]
  },
  {
   "cell_type": "markdown",
   "metadata": {
    "id": "LOUrrPIZVJPq"
   },
   "source": [
    "Остальная инфморация по датаклассам:\n",
    "\n",
    "https://docs.python.org/3/library/dataclasses.html, \n",
    "\n",
    "https://docs.pydantic.dev/latest/concepts/dataclasses/"
   ]
  },
  {
   "cell_type": "markdown",
   "metadata": {
    "id": "yx1pv9f7TOOm"
   },
   "source": [
    "# Метаклассы"
   ]
  },
  {
   "cell_type": "markdown",
   "metadata": {},
   "source": [
    "https://codedamn.com/news/python/advanced-python-metaclasses-unleashing-true-potential"
   ]
  },
  {
   "cell_type": "code",
   "execution_count": null,
   "metadata": {
    "colab": {
     "base_uri": "https://localhost:8080/"
    },
    "id": "LamNwZvVO3S3",
    "outputId": "c7a36db3-b400-4370-a8ff-dfed0af02b92"
   },
   "outputs": [],
   "source": [
    "class Singleton(type):\n",
    "    _instances = {}\n",
    "    def __call__(cls, *args, **kwargs):\n",
    "        if cls not in cls._instances:\n",
    "            # cls._instances[cls] = super(Singleton, cls).__call__(*args, **kwargs)\n",
    "            # cls._instances[cls] = super(type(cls), cls).__call__(*args, **kwargs)\n",
    "            cls._instances[cls] = super().__call__(*args, **kwargs)\n",
    "        return cls._instances[cls]\n",
    "\n",
    "\n",
    "class SingletonGenius(metaclass=Singleton):\n",
    "    def __init__(self, first_name, last_name):\n",
    "        self.first_name = first_name\n",
    "        self.last_name = last_name\n",
    "\n",
    "\n",
    "s1 = SingletonGenius('Yang', 'Zhou')\n",
    "s2 = SingletonGenius('Elon', 'Musk')\n",
    "\n",
    "print(s1)\n",
    "print(s2)\n",
    "\n",
    "print(s1 == s2)\n",
    "\n",
    "print(s1.last_name)\n",
    "print(s2.last_name)"
   ]
  },
  {
   "cell_type": "code",
   "execution_count": null,
   "metadata": {
    "colab": {
     "base_uri": "https://localhost:8080/"
    },
    "id": "VjanMlOtSOqQ",
    "outputId": "b360d9f9-52dc-4c26-ec4d-47c8159485c1"
   },
   "outputs": [],
   "source": [
    "class _Database():\n",
    "    def __init__(self, url):\n",
    "        self.url = url\n",
    "\n",
    "    def connect(self):\n",
    "        if 'https' not in self.url:\n",
    "            raise ValueError('Invalid url: it must be encrypted!')\n",
    "        return True\n",
    "\n",
    "class DatabaseSingleton(_Database, metaclass=Singleton):\n",
    "    pass\n",
    "\n",
    "\n",
    "db_vk = DatabaseSingleton('https://vk.com')\n",
    "db_ok = DatabaseSingleton('https://ok.ru')\n",
    "\n",
    "\n",
    "print(db_vk.url)\n",
    "print(db_ok.url)"
   ]
  },
  {
   "cell_type": "markdown",
   "metadata": {
    "id": "UA4csMbYikpJ"
   },
   "source": [
    "# Создание собственных классов исключений"
   ]
  },
  {
   "cell_type": "code",
   "execution_count": null,
   "metadata": {
    "colab": {
     "base_uri": "https://localhost:8080/"
    },
    "id": "U-wXSZBCi3pt",
    "outputId": "f2f105c8-886e-485c-a691-15c8c049dfdc"
   },
   "outputs": [],
   "source": [
    "class NumbersError(Exception): ...\n",
    "\n",
    "\n",
    "class EvenError(NumbersError): ...\n",
    "\n",
    "\n",
    "class NegativeError(NumbersError): ...\n",
    "\n",
    "\n",
    "def no_even(numbers):\n",
    "    if all(x % 2 != 0 for x in numbers):\n",
    "        return True\n",
    "    raise EvenError('В списке не должно быть чётных чисел.')\n",
    "\n",
    "\n",
    "def no_negative(numbers):\n",
    "    if all(x >= 0 for x in numbers):\n",
    "        return True\n",
    "    raise NegativeError('В списке не должно быть отрицательных чисел')\n",
    "\n",
    "\n",
    "def main():\n",
    "    print('Введите числа в одну строку через пробел: ')\n",
    "\n",
    "    try:\n",
    "        numbers = [int(x) for x in input().split()]\n",
    "\n",
    "        no_negative(numbers) # Здесь переход к обработчику по поряку вызова.\n",
    "        no_even(numbers)\n",
    "\n",
    "        print(f'Сумма чисел равна: {sum(numbers)}.')\n",
    "\n",
    "        # if no_even(numbers) and no_negative(numbers):\n",
    "            # print(f'Сумма чисел равна: {sum(numbers)}.')\n",
    "    except NumbersError as e:  # обращение к исключению как к объекту\n",
    "        print(f'Произошла ошибка: {e}.')\n",
    "    except Exception as e:\n",
    "        print(f'Произошла непредвиденная ошибка: {e}.')\n",
    "\n",
    "\n",
    "if __name__ == \"__main__\":\n",
    "    main()"
   ]
  },
  {
   "cell_type": "markdown",
   "metadata": {
    "id": "5wNTnJaXmsN_"
   },
   "source": [
    "## Цепочка исключений"
   ]
  },
  {
   "cell_type": "markdown",
   "metadata": {
    "id": "A6ebe4xenBv-"
   },
   "source": [
    "Это стиль Python 2. Просто вызовите еще одно исключение из блока исключений.\n",
    "В Python 3 это приводит к тому, что исключения привязываются к сообщению:\n",
    "    \n",
    "    During handling of the above exception, another exception occurred\n",
    "    \n",
    "Что, как правило, неправильно."
   ]
  },
  {
   "cell_type": "code",
   "execution_count": null,
   "metadata": {
    "colab": {
     "base_uri": "https://localhost:8080/",
     "height": 533
    },
    "id": "mJ2gRwT7m0na",
    "outputId": "def94903-34c9-4e3e-84ba-ef3ae11560ad"
   },
   "outputs": [],
   "source": [
    "def implicit_chaining():\n",
    "    try:\n",
    "        1 / 0\n",
    "    except Exception:\n",
    "        raise RuntimeError('Something')\n",
    "\n",
    "implicit_chaining()"
   ]
  },
  {
   "cell_type": "markdown",
   "metadata": {
    "id": "pi1YCk7GnzTH"
   },
   "source": [
    "Здесь показавается цепочка исключений, где виден порядок вызова."
   ]
  },
  {
   "cell_type": "code",
   "execution_count": null,
   "metadata": {
    "colab": {
     "base_uri": "https://localhost:8080/",
     "height": 533
    },
    "id": "HzUjKnbKnkXk",
    "outputId": "808623d1-7eec-4204-c6af-b9c2dbd5b6f8"
   },
   "outputs": [],
   "source": [
    "def explicit_chaining():\n",
    "    try:\n",
    "        1 / 0\n",
    "    except Exception as ex:\n",
    "        raise RuntimeError('Something') from ex\n",
    "\n",
    "explicit_chaining()"
   ]
  },
  {
   "cell_type": "markdown",
   "metadata": {
    "id": "V-yAenmsoe3r"
   },
   "source": [
    "Данный код подавляет любые исключения дальше по стеку вызовов и\n",
    "обычно это предпочтительный способ для того, чтобы обратная трассировка была короче, если только «родительские» исключения нужны для отладки, как показано выше."
   ]
  },
  {
   "cell_type": "code",
   "execution_count": null,
   "metadata": {
    "colab": {
     "base_uri": "https://localhost:8080/",
     "height": 330
    },
    "id": "9hU-Y8L9oaLf",
    "outputId": "0b4318aa-8c27-41e4-9978-b85e9f7811cd"
   },
   "outputs": [],
   "source": [
    "def suppress_chaining():\n",
    "    try:\n",
    "        1 / 0\n",
    "    except Exception:\n",
    "        raise RuntimeError('Something') from None\n",
    "\n",
    "suppress_chaining()"
   ]
  },
  {
   "cell_type": "markdown",
   "metadata": {
    "id": "4J8Rj3C3gOaF"
   },
   "source": [
    "## Менеджеры контекста"
   ]
  },
  {
   "cell_type": "code",
   "execution_count": null,
   "metadata": {
    "colab": {
     "base_uri": "https://localhost:8080/",
     "height": 1000
    },
    "id": "HyCPBovhruoN",
    "outputId": "f35aa9f3-bf43-4d4f-fdc8-b4bad373a0cd"
   },
   "outputs": [],
   "source": [
    "%%python3\n",
    "\n",
    "class HelloContextManager:\n",
    "    def __enter__(self):\n",
    "        print('Entering the context...')\n",
    "        return 'Hello, World!'\n",
    "\n",
    "    def __exit__(self, exc_type, exc_value, exc_tb):\n",
    "        print('Leaving the context...')\n",
    "        print(exc_type, exc_value, exc_tb, sep='\\n')\n",
    "\n",
    "\n",
    "# Обязательно нужно вызвать объект менеджера (поставить скобки)\n",
    "with HelloContextManager() as hello:\n",
    "    print(hello)\n",
    "    raise ValueError"
   ]
  },
  {
   "cell_type": "code",
   "execution_count": null,
   "metadata": {
    "colab": {
     "base_uri": "https://localhost:8080/"
    },
    "id": "HzhFG7uAs8Jl",
    "outputId": "36e036b2-c8fb-4035-fc5c-621792f453f9"
   },
   "outputs": [],
   "source": [
    "class HelloContextManager:\n",
    "    def __enter__(self):\n",
    "        print('Entering the context...')\n",
    "        return 'Hello, World!'\n",
    "\n",
    "    def __exit__(self, exc_type, exc_value, exc_tb):\n",
    "        print('Leaving the context...')\n",
    "        if isinstance(exc_value, IndexError):\n",
    "            # Здесь обрабатывается исключение класса IndexError.\n",
    "            print(f'An exception occurred in your with block: {exc_type}')\n",
    "            print(f'Exception message: {exc_value}')\n",
    "            return True\n",
    "\n",
    "with HelloContextManager() as hello:\n",
    "    print(hello)\n",
    "    hello[100]\n",
    "\n",
    "print('Continue normally from here...')"
   ]
  },
  {
   "cell_type": "markdown",
   "metadata": {
    "id": "jTPVnRfcaFVK"
   },
   "source": [
    "Открытие файла для записи"
   ]
  },
  {
   "cell_type": "code",
   "execution_count": null,
   "metadata": {
    "id": "p62aGWQ2aIUr"
   },
   "outputs": [],
   "source": [
    "%%python3\n",
    "\n",
    "\n",
    "class WritableFile:\n",
    "    def __init__(self, file_path):\n",
    "        self.file_path = file_path\n",
    "\n",
    "    def __enter__(self):\n",
    "        self.file_obj = open(self.file_path, mode='w')\n",
    "        return self.file_obj\n",
    "\n",
    "    def __exit__(self, exc_type, exc_val, exc_tb):\n",
    "        if self.file_obj:\n",
    "            self.file_obj.close()\n",
    "\n",
    "\n",
    "with WritableFile('hello.txt') as file:\n",
    "   file.write('Hello, ITMO!')"
   ]
  },
  {
   "cell_type": "markdown",
   "metadata": {
    "id": "eSDAFUuLanAS"
   },
   "source": [
    "Перенаправление стандартного потока вывода"
   ]
  },
  {
   "cell_type": "code",
   "execution_count": null,
   "metadata": {
    "colab": {
     "base_uri": "https://localhost:8080/"
    },
    "id": "WRFbn8AIas4o",
    "outputId": "bb6fd02f-5cdf-49cc-b585-5c7099fcbdaa"
   },
   "outputs": [],
   "source": [
    "%%python3\n",
    "\n",
    "\n",
    "import sys\n",
    "\n",
    "class RedirectedStdout:\n",
    "    def __init__(self, new_output):\n",
    "        self.new_output = new_output\n",
    "\n",
    "    def __enter__(self):\n",
    "        self.saved_output = sys.stdout\n",
    "        sys.stdout = self.new_output\n",
    "\n",
    "    def __exit__(self, exc_type, exc_val, exc_tb):\n",
    "        sys.stdout = self.saved_output\n",
    "\n",
    "\n",
    "with open('hello.txt', 'w') as file:\n",
    "    with RedirectedStdout(file):\n",
    "        print('Hello, hello, World!')\n",
    "    print('Back to the standard output...')"
   ]
  },
  {
   "cell_type": "markdown",
   "metadata": {
    "id": "0bKm_QDobGox"
   },
   "source": [
    "Пример является синтетическим, правильнее сделать вот так:"
   ]
  },
  {
   "cell_type": "code",
   "execution_count": null,
   "metadata": {
    "id": "8z2knupvbLRZ"
   },
   "outputs": [],
   "source": [
    "with open('hello.txt', 'w') as fh:\n",
    "    print('Hello, World!', file=fh)"
   ]
  },
  {
   "cell_type": "markdown",
   "metadata": {
    "id": "qUBltos2eBwR"
   },
   "source": [
    "Еще один вариант расчета времени исполнения произвольного кода"
   ]
  },
  {
   "cell_type": "code",
   "execution_count": null,
   "metadata": {
    "colab": {
     "base_uri": "https://localhost:8080/"
    },
    "id": "fNbfeKzFfgXQ",
    "outputId": "1565a18f-7d07-48a7-b201-8341bed3b73a"
   },
   "outputs": [],
   "source": [
    "from time import perf_counter, sleep\n",
    "\n",
    "\n",
    "class Timer:\n",
    "    def __enter__(self):\n",
    "        self.start = perf_counter()\n",
    "        self.end = 0.0\n",
    "        return lambda: self.end - self.start\n",
    "\n",
    "    def __exit__(self, *args):\n",
    "        self.end = perf_counter()\n",
    "\n",
    "\n",
    "with Timer() as timer:\n",
    "    # Time-consuming code goes here...\n",
    "    sleep(0.5)\n",
    "\n",
    "\n",
    "timer()"
   ]
  },
  {
   "cell_type": "markdown",
   "metadata": {
    "id": "bcBw3unvgJBP"
   },
   "source": [
    "Реализация менеджера контекста на основе функции"
   ]
  },
  {
   "cell_type": "code",
   "execution_count": null,
   "metadata": {
    "colab": {
     "base_uri": "https://localhost:8080/"
    },
    "id": "5slG_cAxgPjF",
    "outputId": "09f69c15-9518-40a3-949f-cb8244c32f46"
   },
   "outputs": [],
   "source": [
    "from contextlib import contextmanager\n",
    "\n",
    "@contextmanager\n",
    "def hello_context_manager():\n",
    "    print('Entering the context...')\n",
    "    yield 'Hello, World!'\n",
    "    print('Leaving the context...')\n",
    "\n",
    "\n",
    "with hello_context_manager() as hello:\n",
    "    print(hello)"
   ]
  },
  {
   "cell_type": "code",
   "execution_count": null,
   "metadata": {
    "id": "mnKv0W9KiTTl"
   },
   "outputs": [],
   "source": [
    "from contextlib import contextmanager\n",
    "\n",
    "\n",
    "@contextmanager\n",
    "def writable_file(file_path):\n",
    "    file = open(file_path, mode='w')\n",
    "    try:\n",
    "        yield file\n",
    "    finally:\n",
    "        file.close()\n",
    "\n",
    "\n",
    "with writable_file('hello.txt') as file:\n",
    "    file.write('Hello, World!')"
   ]
  },
  {
   "cell_type": "markdown",
   "metadata": {
    "id": "19_G2s4IpEkF"
   },
   "source": [
    "# Обзор стандартной библиотеки"
   ]
  },
  {
   "cell_type": "markdown",
   "metadata": {
    "id": "mxEnR5k2plS1"
   },
   "source": [
    "## Модуль `math`"
   ]
  },
  {
   "cell_type": "code",
   "execution_count": null,
   "metadata": {
    "colab": {
     "base_uri": "https://localhost:8080/"
    },
    "id": "J1AQsBFKptlL",
    "outputId": "e9eb632e-78ae-4084-bc8f-fdfc8da2066f"
   },
   "outputs": [],
   "source": [
    "import math\n",
    "\n",
    "# Гипотенуза прямоугольного треугольника с катетами a и b\n",
    "a, b = 4, 3\n",
    "print(math.hypot(a, b))        # 5.0\n",
    "print(math.sqrt(a**2 + b**2))  # 5.0\n",
    "print((a**2 + b**2)**0.5)      # 5.0\n",
    "\n",
    "# Площадь круга\n",
    "r = 1\n",
    "print(math.pi * r**2)  # 3.141592653589793\n",
    "\n",
    "# Вычисление площади треугольника по сторонам и углу между ними\n",
    "a, b, alpha = 3, 4, 90\n",
    "print(a * b * math.sin(math.radians(alpha)))  # 5.0\n",
    "\n",
    "# Округление чисел\n",
    "print(round(-4/3, 2), round(4/3, 2))             # -1.33, 1.33\n",
    "print(round(-4/3), round(4/3))                   # -1, 1\n",
    "print(int(-4/3), int(4/3))                       # -1, 1\n",
    "print(math.ceil(-4/3), math.ceil(4/3))           # -1, 2\n",
    "print(math.floor(-4/3), math.floor(4/3))         # -2, 1\n",
    "print(math.trunc(-4/3), math.trunc(4/3))         # -1, 1\n",
    "print(math.isclose(1/3, 0.333, abs_tol=0.001))   # True\n",
    "print(math.isclose(1/3, 0.333, abs_tol=0.0001))  # False\n",
    "\n",
    "# Степень и логарифмы\n",
    "print(math.log(math.exp(2)))  # 2.0\n",
    "print(math.factorial(5))      # 120"
   ]
  },
  {
   "cell_type": "markdown",
   "metadata": {
    "id": "lHTUrxmYqVov"
   },
   "source": [
    "## Модуль `random`"
   ]
  },
  {
   "cell_type": "code",
   "execution_count": null,
   "metadata": {
    "id": "Bodjuzvcqa0-"
   },
   "outputs": [],
   "source": [
    "import random\n",
    "\n",
    "random.seed(100)\n",
    "\n",
    "# Случайное число от 1 до 10\n",
    "print(random.randint(1, 10))  # 3\n",
    "\n",
    "# Случайное нечетное число от 1 до 10\n",
    "print(random.randrange(1, 11, 2))  # 7\n",
    "\n",
    "# Случайное вещественное число от 0 до 1\n",
    "print(random.random())  # 0.45492700451402135\n",
    "\n",
    "# Случайное вещественное число от -10 до 10\n",
    "print(random.uniform(-10, 10))  # 5.415676113180442\n",
    "\n",
    "# Список из 5 случайных целых чисел [1, 100]\n",
    "A = [random.randint(1, 100) for i in range(5)]\n",
    "\n",
    "print(A)  # [91, 51, 94, 45, 56]\n",
    "\n",
    "# Список из 10 неповторяющихся целых чисел из отрезка [0, 99]\n",
    "A = random.sample(range(100), 10)\n",
    "print(A)  # [33, 6, 84, 82, 26, 42, 29, 39, 98, 22]\n",
    "\n",
    "# Случайный элемент из последовательности\n",
    "nums_0_to_5 = list(range(5))\n",
    "print(random.choice(nums_0_to_5))  # 4\n",
    "\n",
    "# Перемешиваем список\n",
    "random.shuffle(nums_0_to_5)\n",
    "print(nums_0_to_5)  # [2, 1, 3, 4, 0]"
   ]
  },
  {
   "cell_type": "markdown",
   "metadata": {
    "id": "6zoFf0cKrd2o"
   },
   "source": [
    "## Модуль `statistics`"
   ]
  },
  {
   "cell_type": "code",
   "execution_count": null,
   "metadata": {
    "id": "18MyVRHJ0m3U"
   },
   "outputs": [],
   "source": [
    "import statistics\n",
    "\n",
    "A = [1, 1, 2, 3, 3, 3, 4, 4, 5, 8, 8, 9]\n",
    "\n",
    "print(statistics.mean(A))    # 4.25\n",
    "print(statistics.median(A))  # 3.5\n",
    "print(statistics.mode(A))    # 3\n",
    "\n",
    "print(statistics.variance(A))  # 7.4772727272727275\n",
    "print(statistics.stdev(A))     # 2.7344602259445514"
   ]
  },
  {
   "cell_type": "markdown",
   "metadata": {
    "id": "NrV2t_co0q0k"
   },
   "source": [
    "## Модуль `datetime`"
   ]
  },
  {
   "cell_type": "code",
   "execution_count": null,
   "metadata": {
    "colab": {
     "base_uri": "https://localhost:8080/"
    },
    "id": "4aOFE2hL03mi",
    "outputId": "023a6b15-c443-4c0c-fb09-92bf952e6d30"
   },
   "outputs": [],
   "source": [
    "import datetime\n",
    "\n",
    "# Приветствие в зависимости от времени суток.\n",
    "t1 = datetime.datetime.now().time()\n",
    "hours = t1.hour + 1\n",
    "\n",
    "if 6 <= hours <= 10:\n",
    "    print('Доброе утро!')\n",
    "elif 10 < hours <= 18:\n",
    "    print('Добрый день!')\n",
    "else:\n",
    "    print('Доброй ночи!')\n",
    "print()\n",
    "\n",
    "# Местное и UTC-время\n",
    "print('Местное и UTC-время')\n",
    "\n",
    "d1 = datetime.datetime.utcnow()\n",
    "d2 = datetime.datetime.now()\n",
    "td = d1 - d2\n",
    "\n",
    "print(d1.strftime('%d/%m/%Y %H:%M'), '|', d1)\n",
    "print(d2.strftime('%d/%m/%Y %H:%M'), '|', d2)\n",
    "print(f'Разница = {abs(td)}\\n')\n",
    "\n",
    "# Время до события: datetime, timedelta\n",
    "d1 = datetime.datetime.strptime('01/01/2024 00:00', '%d/%m/%Y %H:%M')\n",
    "d2 = datetime.datetime.now()\n",
    "td = d1 - d2\n",
    "\n",
    "print('До Нового Года осталось')\n",
    "print(f'Новый 2024 год: {d1.ctime()}')\n",
    "print(f'Сейчас: {d2.strftime(\"%a %b %d %H:%M:%S %Y\")}')\n",
    "print(\n",
    "    f'Осталось: {td.days} дн. {td.seconds//3600} ч. {td.seconds//60 % 60} мин.'\n",
    ")"
   ]
  },
  {
   "cell_type": "markdown",
   "metadata": {
    "id": "5NZ5IQ8V2qhE"
   },
   "source": [
    "## Модуль `time`"
   ]
  },
  {
   "cell_type": "code",
   "execution_count": null,
   "metadata": {
    "colab": {
     "base_uri": "https://localhost:8080/"
    },
    "id": "2vU1RY8m2wW8",
    "outputId": "0d22fd25-9b45-4def-d39f-5ed810ecaa1d"
   },
   "outputs": [],
   "source": [
    "import time\n",
    "\n",
    "# Приложение имитирует индикатор прогресса во время установки приложения.\n",
    "input('Добро пожаловать в инсталлятор! Нажмите <ENTER> для продолжения...')\n",
    "\n",
    "sec_start = time.perf_counter()\n",
    "for i in range(100):\n",
    "    print('#', end='', flush=True)\n",
    "    # \"Засыпаем\" на 50 мс.\n",
    "    time.sleep(0.05)\n",
    "\n",
    "    if (i + 1) % 10 == 0:\n",
    "        print(f' {(i + 1):3}')\n",
    "sec_end = time.perf_counter()\n",
    "\n",
    "print(f'Программа успешно установлена за {(sec_end - sec_start):.2f}')"
   ]
  },
  {
   "cell_type": "markdown",
   "metadata": {
    "id": "wfLRDWBE4AdH"
   },
   "source": [
    "## Модуль `calendar`"
   ]
  },
  {
   "cell_type": "code",
   "execution_count": null,
   "metadata": {
    "colab": {
     "base_uri": "https://localhost:8080/"
    },
    "id": "pSbdgGoo4DpV",
    "outputId": "311d0a1e-0e69-452e-9cb2-ab3a9eb34aa8"
   },
   "outputs": [],
   "source": [
    "import calendar\n",
    "import datetime\n",
    "\n",
    "# Текстовый календарь на текущий месяц.\n",
    "\n",
    "c = calendar.TextCalendar()\n",
    "d = datetime.date.today()\n",
    "s = c.formatmonth(d.year, d.month)\n",
    "print(f'Сегодня: {d}\\n\\n{s}')"
   ]
  },
  {
   "cell_type": "markdown",
   "metadata": {
    "id": "vuzfbpbk4Teb"
   },
   "source": [
    "## Пакет `pytz`"
   ]
  },
  {
   "cell_type": "code",
   "execution_count": null,
   "metadata": {
    "colab": {
     "base_uri": "https://localhost:8080/"
    },
    "id": "81mS1QDL4Wzl",
    "outputId": "216fb6b4-0547-4964-81d6-965fe33477e3"
   },
   "outputs": [],
   "source": [
    "import pytz\n",
    "import datetime\n",
    "\n",
    "ALIGN_FIX = 20\n",
    "\n",
    "# Список идентификаторов находится в pytz.all_timezones или common_timezones\n",
    "# for tz in pytz.all_timezones:\n",
    "#     print(tz)\n",
    "# print(pytz.common_timezones)\n",
    "\n",
    "# Временная зона MSK\n",
    "tz_msk = pytz.timezone('Europe/Moscow')\n",
    "dt1 = datetime.datetime.now(tz_msk)\n",
    "\n",
    "print(f'{\"Московское время\":>{ALIGN_FIX}}: {dt1}')\n",
    "print(f'{\"UTC-время\":>{ALIGN_FIX}}: {dt1.astimezone(pytz.utc)}')\n",
    "print(f'{\"Отклонение от UTC\":>{ALIGN_FIX}}: {dt1.utcoffset()}')\n",
    "print(f'{\"Сдвиг лето/зима\":>{ALIGN_FIX}}: {dt1.dst()}')\n",
    "\n",
    "# Временные зоны можно использовать из модуля pytz или\n",
    "# создать собственные, используя datetime.timezone.\n",
    "tz_bj = datetime.timezone(datetime.timedelta(hours=8), 'China/Beijing')\n",
    "tz_pa = pytz.timezone('Europe/Paris')\n",
    "tz_wa = pytz.timezone('US/Pacific')\n",
    "\n",
    "print(f'{\"Пекин\":>{ALIGN_FIX}}: {dt1.astimezone(tz_bj)}')\n",
    "print(f'{\"Париж\":>{ALIGN_FIX}}: {dt1.astimezone(tz_pa)}')\n",
    "print(f'{\"Нью-Йорк\":>{ALIGN_FIX}}: {dt1.astimezone(tz_wa)}')"
   ]
  },
  {
   "cell_type": "markdown",
   "metadata": {
    "id": "pd2V7Mw86-0Y"
   },
   "source": [
    "## Модули для работы с операционной системой"
   ]
  },
  {
   "cell_type": "code",
   "execution_count": null,
   "metadata": {
    "id": "Dp042Jdl-gdG"
   },
   "outputs": [],
   "source": [
    "import sys\n",
    "import os\n",
    "import platform\n",
    "import subprocess\n",
    "\n",
    "# Создадим файл с информацией о платформе/ОС и откроем его\n",
    "# в редакторе по умолчанию.\n",
    "\n",
    "if __name__ == '__main__':\n",
    "\n",
    "    # Путь (относительный) к файлу с данными\n",
    "    # Создание файла будет происходить в рабочей директории\n",
    "    data_filename = 'data.txt'\n",
    "\n",
    "    # Создаем файл\n",
    "    with open(data_filename, 'w', encoding='utf-8') as fh:\n",
    "        fh.write(f'Файл с данными: {data_filename}\\n\\n')\n",
    "\n",
    "        fh.write('os.environ')\n",
    "        for name in sorted(os.environ):\n",
    "            fh.write(f'  {name} = {os.environ[name]}\\n')\n",
    "\n",
    "        fh.write(f'\\nsys.copyright = {sys.copyright}\\n\\n')\n",
    "\n",
    "        fh.write(f'sys.version_info = {sys.version_info}\\n\\n')\n",
    "        fh.write(f'sys.path = {sys.path}\\n\\n')\n",
    "        fh.write(f'sys.argv = {sys.argv}\\n\\n')\n",
    "        fh.write(f'sys.byteorder = {sys.byteorder}\\n\\n')\n",
    "        fh.write(\n",
    "            f'sys.getfilesystemencoding() = {sys.getfilesystemencoding()}\\n\\n'\n",
    "        )\n",
    "        fh.write(f'sys.maxsize = {sys.maxsize}\\n\\n')\n",
    "\n",
    "        fh.write(f'platform.uname() = {platform.uname()}')"
   ]
  },
  {
   "cell_type": "code",
   "execution_count": null,
   "metadata": {
    "id": "krW817wfAZS3"
   },
   "outputs": [],
   "source": [
    "%%python3\n",
    "\n",
    "import sys\n",
    "import os\n",
    "import os.path\n",
    "import pathlib\n",
    "import glob\n",
    "import shutil\n",
    "\n",
    "# Скопируем все *.py файлы из директории скрипта\n",
    "# в дочернюю папку Scripts\n",
    "\n",
    "if __name__ == '__main__':\n",
    "\n",
    "    # 1) Определяем пути\n",
    "    # Абсолютный путь к скрипту.\n",
    "    app_path = os.path.dirname(os.path.realpath(sys.argv[0]))\n",
    "\n",
    "    # 2) Создаем папку Scripts.\n",
    "    scripts_path = os.path.join(app_path, 'Scripts')\n",
    "    # Если папка уже есть - удаляем по запросу и выходим\n",
    "    if os.path.exists(scripts_path):\n",
    "        answer = input('Уже копировали ранее! Удалить папку? (y/n) ').upper()\n",
    "        if answer == 'Y':\n",
    "            shutil.rmtree(scripts_path)\n",
    "            print('Папка удалена.')\n",
    "        sys.exit('Программа будет завершена.')  # Выход из скрипта\n",
    "    os.makedirs(scripts_path, exist_ok=True)\n",
    "\n",
    "    # 3) Находим и копируем файлы.\n",
    "    filenames = glob.glob(os.path.join(app_path, '*.py'))\n",
    "    for filename in filenames:\n",
    "        if os.path.isfile(filename):\n",
    "            shutil.copy2(filename, scripts_path)\n",
    "\n",
    "    # 4) Отображаем файлы из новой директории.\n",
    "    filenames_new = os.listdir(scripts_path)\n",
    "    print(f'Найдено скопированных файлов: {len(filenames_new)}')\n",
    "    for filename in sorted(filenames_new):\n",
    "        print(f' - {filename} | {os.path.getsize(filename) / 1024:.2f} КБ')"
   ]
  },
  {
   "cell_type": "markdown",
   "metadata": {
    "id": "og2o3Qb2CZP0"
   },
   "source": [
    "## Модуль `re`"
   ]
  },
  {
   "cell_type": "markdown",
   "metadata": {
    "id": "_QcvJLrKE6FK"
   },
   "source": [
    "Сервис для написания и отладки регулярных выражений https://regex101.com"
   ]
  },
  {
   "cell_type": "code",
   "execution_count": null,
   "metadata": {
    "colab": {
     "base_uri": "https://localhost:8080/"
    },
    "id": "U39JgTs_Cf17",
    "outputId": "93e82246-286c-4498-af3f-54327bf8d3b3"
   },
   "outputs": [],
   "source": [
    "import re\n",
    "\n",
    "# Необходимо найти все e-mail в заданном тексте\n",
    "\n",
    "# Данные шаблон сильно упрощен для понимания!\n",
    "# см. http://stackoverflow.com/questions/201323/\n",
    "#     using-a-regular-expression-to-validate-an-email-address\n",
    "EMAIL_REGEX = r'[a-zA-Z0-9_.+-]+@[a-zA-Z0-9-]+\\.[a-zA-Z0-9-.]+[a-zA-Z]'\n",
    "\n",
    "text = \"\"\"Это произвольный текст, в котором будет происходить поиск\n",
    "адресов электронной почты (e-mail). Скажу сразу, что мой e-mail\n",
    "ya@gmail.com; папы и мамы: papa@mail.ru и mama@yandex.ru, а также брата\n",
    "brat@hotmail.com и даже моего любимого кота: pushok@rambler.ru.\"\"\"\n",
    "\n",
    "# 1. Используя re.search() + re.finditer()\n",
    "if re.search(EMAIL_REGEX, text, re.MULTILINE):\n",
    "    for item in re.finditer(EMAIL_REGEX, text):\n",
    "        # 'item' - объект класса match\n",
    "        print(f'Найден e-mail: {item.group(0)}, позиция {item.span()}.')\n",
    "else:\n",
    "    print('Ни одного e-mail не найдено!')\n",
    "\n",
    "# 2. Используя re.findall()\n",
    "res = re.findall(EMAIL_REGEX, text, re.MULTILINE)\n",
    "if len(res) > 0:\n",
    "    for item in res:  # 'item' - строка\n",
    "        print(f'Найден e-mail: {item}.')\n",
    "else:\n",
    "    print('Ни одного e-mail не найдено!')"
   ]
  },
  {
   "cell_type": "code",
   "execution_count": null,
   "metadata": {
    "colab": {
     "base_uri": "https://localhost:8080/"
    },
    "id": "IGYm6TeADBL3",
    "outputId": "68d55b14-8a26-4dcd-880c-67b448e380c2"
   },
   "outputs": [],
   "source": [
    "import re\n",
    "\n",
    "# Необходимо найти все телефоны и их описание\n",
    "\n",
    "page = \"\"\"\n",
    "http://минобрнауки.рф/контакты\n",
    "Минобрнауки России                      Телефоны для связи\n",
    "Справочная служба                       +7 (495) 539 55 19\n",
    "Факс                                    +7 (495) 629 08 91\n",
    "\"Горячая линия\"                         +7 (499) 553 09 63\n",
    "Общественная приемная                   +7 (499) 236 18 83\n",
    "Контакты для представителей СМИ         +7 (495) 629 92 12\n",
    "Отдел государственной службы и кадров   +7 (495) 629 36 42\n",
    "\"\"\"\n",
    "\n",
    "# 1. re.compile() + regex.finditer() + нумерованная группа\n",
    "print('1. нумерованные группы')\n",
    "PHONE_REGEX = r'^(.+?)\\s+(\\+7 \\(\\d{3}\\) \\d{3} \\d{2} \\d{2})$'\n",
    "regex = re.compile(PHONE_REGEX, re.MULTILINE)\n",
    "for match in regex.finditer(page):\n",
    "    name, phone = match.group(1, 2)\n",
    "    print(f'Наименование: \"{name}\", Телефон: \"{phone}\"')\n",
    "\n",
    "# 2. re.compile() + regex.finditer() + именованная группа\n",
    "print('\\n2. именованные группы')\n",
    "PHONE_REGEX = r'^(?P<Наименование>.+?)\\s+' \\\n",
    "               '(?P<Телефон>\\+7 \\(\\d{3}\\) \\d{3} \\d{2} \\d{2})$'\n",
    "\n",
    "regex = re.compile(PHONE_REGEX, re.MULTILINE)\n",
    "for match in regex.finditer(page):\n",
    "    name = match.group('Наименование')\n",
    "    phone = match.group('Телефон')\n",
    "    print(f'Наименование: \"{name}\", Телефон: \"{phone}\"')\n",
    "\n",
    "# 3. re.compile() + regex.finditer() + regex.groupdict()\n",
    "print('\\n3. regex.groupdict()')\n",
    "for match in regex.finditer(page):  # regex уже был создан во 2-м пункте\n",
    "    # Словарь match.groupdict() содержит все именованные группы\n",
    "    msg = 'Наименование: \"{Наименование}\", Телефон: \"{Телефон}\"'\n",
    "    print(msg.format(**match.groupdict()))"
   ]
  },
  {
   "cell_type": "markdown",
   "metadata": {
    "id": "31iZ83PTGTcl"
   },
   "source": [
    "# Элементы функционального программирования"
   ]
  },
  {
   "cell_type": "code",
   "execution_count": null,
   "metadata": {
    "colab": {
     "base_uri": "https://localhost:8080/"
    },
    "id": "I-pQfhpVGZnC",
    "outputId": "e19de6e5-66ba-4e02-af93-154f63a94ca9"
   },
   "outputs": [],
   "source": [
    "import math\n",
    "\n",
    "# 1. Ввод нескольких чисел в одной строке.\n",
    "a, b, c = map(int, input('Введите 3 числа через пробел: ').split())\n",
    "print(a, b, c)\n",
    "\n",
    "# 2. Формируем список квадратов элементов.\n",
    "values = list(range(6))\n",
    "print(values)  # [0, 1, 2, 3, 4, 5]\n",
    "\n",
    "# 2.1. Стандартный метод с использованием цикла for.\n",
    "squared = []\n",
    "for x in values:\n",
    "    squared.append(x**2)\n",
    "\n",
    "print(squared)  # [0, 1, 4, 9, 16, 25]\n",
    "\n",
    "# 2.2. map\n",
    "squared = list(map(lambda x: x**2, values))\n",
    "print(squared)  # [0, 1, 4, 9, 16, 25]\n",
    "\n",
    "# 3. Несколько итерируемых объектов в map: получаем список степеней чисел.\n",
    "powers = list(map(math.pow, values, [2, 3, 4]))\n",
    "print(powers)  # [0.0, 1.0, 16.0]"
   ]
  },
  {
   "cell_type": "code",
   "execution_count": null,
   "metadata": {
    "colab": {
     "base_uri": "https://localhost:8080/"
    },
    "id": "-MPKgSz_GmiV",
    "outputId": "b697a76c-1643-4fe3-eccc-234f38395396"
   },
   "outputs": [],
   "source": [
    "# Создать список отрицательных чисел из произвольного списка чисел.\n",
    "values = list(range(-10, 11))\n",
    "\n",
    "# 1.1. Стандартный метод с использованием цикла for\n",
    "negatives = []\n",
    "for x in values:\n",
    "    if x < 0:\n",
    "        negatives.append(x)\n",
    "\n",
    "# 1.2. Списковое включение\n",
    "negatives_2 = [x for x in values if x < 0]\n",
    "\n",
    "# 1.3. filter\n",
    "negatives_3 = list(filter(lambda x: x < 0, values))\n",
    "\n",
    "print(negatives)\n",
    "print(negatives_2)\n",
    "print(negatives_3)"
   ]
  },
  {
   "cell_type": "code",
   "execution_count": null,
   "metadata": {
    "colab": {
     "base_uri": "https://localhost:8080/"
    },
    "id": "Xn9OkAjNGzis",
    "outputId": "592cb53e-acc7-4907-8453-3291a65022e8"
   },
   "outputs": [],
   "source": [
    "import random\n",
    "import functools\n",
    "\n",
    "# 1. Сумма и произведение чисел в списке.\n",
    "random.seed(101)\n",
    "\n",
    "values = list(random.sample(range(-15, 15), 5))\n",
    "print(values)\n",
    "\n",
    "# 1.1. Стандартный for.\n",
    "l_sum = 0\n",
    "l_mult = 1\n",
    "for value in values:\n",
    "    l_sum += value\n",
    "    l_mult *= value\n",
    "\n",
    "# 1.2. reduce.\n",
    "l_sum_2 = functools.reduce(lambda res, y: res + y, values)\n",
    "l_mult_2 = functools.reduce(lambda res, y: res * y, values)\n",
    "\n",
    "print(l_sum, l_mult)      # 22 -9072\n",
    "print(l_sum_2, l_mult_2)  # 22 -9072\n",
    "\n",
    "# 2. Формирование строки из списка.\n",
    "strings = 'Болтовня ничего не стоит. Покажите мне код. Linus Torvalds'.split()\n",
    "print(strings)\n",
    "\n",
    "# 2.1. Стандартный ' '.join()\n",
    "expr_1 = ' '.join(strings)\n",
    "\n",
    "# 2.2. reduce\n",
    "expr_2 = functools.reduce(lambda res, y: f'{res} {y}', strings)\n",
    "\n",
    "print(expr_1)\n",
    "print(expr_2)"
   ]
  },
  {
   "cell_type": "markdown",
   "metadata": {
    "id": "yZWUFY8xGtYA"
   },
   "source": [
    "# Сторонние библиотеки"
   ]
  },
  {
   "cell_type": "markdown",
   "metadata": {
    "id": "38oFjV_JG8Ic"
   },
   "source": [
    "## Библиотека numpy"
   ]
  },
  {
   "cell_type": "code",
   "execution_count": 229,
   "metadata": {
    "id": "GuxUEcznHFLI"
   },
   "outputs": [
    {
     "ename": "ModuleNotFoundError",
     "evalue": "No module named 'numpy'",
     "output_type": "error",
     "traceback": [
      "\u001b[0;31m---------------------------------------------------------------------------\u001b[0m",
      "\u001b[0;31mModuleNotFoundError\u001b[0m                       Traceback (most recent call last)",
      "Cell \u001b[0;32mIn[229], line 1\u001b[0m\n\u001b[0;32m----> 1\u001b[0m \u001b[38;5;28;01mimport\u001b[39;00m \u001b[38;5;21;01mnumpy\u001b[39;00m \u001b[38;5;28;01mas\u001b[39;00m \u001b[38;5;21;01mnp\u001b[39;00m\n",
      "\u001b[0;31mModuleNotFoundError\u001b[0m: No module named 'numpy'"
     ]
    }
   ],
   "source": [
    "import numpy as np"
   ]
  },
  {
   "cell_type": "markdown",
   "metadata": {
    "id": "82lP0ZFlHjBG"
   },
   "source": [
    "Простой массив из списка"
   ]
  },
  {
   "cell_type": "code",
   "execution_count": null,
   "metadata": {
    "colab": {
     "base_uri": "https://localhost:8080/"
    },
    "id": "rl-61XUdHm9X",
    "outputId": "a072b2f3-b43d-4196-f6d6-8a9dd8859c15"
   },
   "outputs": [],
   "source": [
    "np.array([1, 2, 3, 4])"
   ]
  },
  {
   "cell_type": "markdown",
   "metadata": {
    "id": "nrOCGd1hHqrY"
   },
   "source": [
    "Пустой массив размерности 3 на 3"
   ]
  },
  {
   "cell_type": "code",
   "execution_count": null,
   "metadata": {
    "colab": {
     "base_uri": "https://localhost:8080/"
    },
    "id": "2svIVoCsHtMS",
    "outputId": "5ac04740-aec9-40d9-b169-2c0bf1f7cfb8"
   },
   "outputs": [],
   "source": [
    "np.empty((3, 3))"
   ]
  },
  {
   "cell_type": "markdown",
   "metadata": {
    "id": "JH34YbzEH9Lk"
   },
   "source": [
    "Массив из диапазона"
   ]
  },
  {
   "cell_type": "code",
   "execution_count": null,
   "metadata": {
    "colab": {
     "base_uri": "https://localhost:8080/"
    },
    "id": "S000fvtyICHz",
    "outputId": "e3f5316d-385b-4d85-eab2-2d4f769dfa5f"
   },
   "outputs": [],
   "source": [
    "np.arange(4)"
   ]
  },
  {
   "cell_type": "markdown",
   "metadata": {
    "id": "5Y2ygSIbIGTc"
   },
   "source": [
    "Массив нулей"
   ]
  },
  {
   "cell_type": "code",
   "execution_count": null,
   "metadata": {
    "colab": {
     "base_uri": "https://localhost:8080/"
    },
    "id": "dY1-3pbDIMrA",
    "outputId": "75d03a66-706a-4e38-d75e-663f4eaeda5c"
   },
   "outputs": [],
   "source": [
    "np.zeros((3, 2))"
   ]
  },
  {
   "cell_type": "markdown",
   "metadata": {
    "id": "CkVWlh1DISOK"
   },
   "source": [
    "Массив единиц"
   ]
  },
  {
   "cell_type": "code",
   "execution_count": null,
   "metadata": {
    "colab": {
     "base_uri": "https://localhost:8080/"
    },
    "id": "oBQuqDlYIVaJ",
    "outputId": "f4f2f052-2a08-4a73-df8b-c02cf450f0f4"
   },
   "outputs": [],
   "source": [
    "np.ones((3,2))"
   ]
  },
  {
   "cell_type": "markdown",
   "metadata": {
    "id": "f4IL234bInv2"
   },
   "source": [
    "Массив, представляющей дискретные значения непрерывной линейной фукнкции"
   ]
  },
  {
   "cell_type": "code",
   "execution_count": null,
   "metadata": {
    "colab": {
     "base_uri": "https://localhost:8080/"
    },
    "id": "VROvgAHDI-WZ",
    "outputId": "fd54545f-6d85-4c55-a4d1-1d7c11b27eb9"
   },
   "outputs": [],
   "source": [
    "np.linspace(0, 1, 21)"
   ]
  },
  {
   "cell_type": "markdown",
   "metadata": {
    "id": "mj0YxLyEJK1G"
   },
   "source": [
    "Массив, представляющей дискретные значения непрерывной логарифмической фукнкции"
   ]
  },
  {
   "cell_type": "code",
   "execution_count": null,
   "metadata": {
    "colab": {
     "base_uri": "https://localhost:8080/"
    },
    "id": "2ZKJrkTcJU54",
    "outputId": "afdfb7ad-e6e1-4667-d768-906f06d3e8f1"
   },
   "outputs": [],
   "source": [
    "np.logspace(-2, 2, 5)"
   ]
  },
  {
   "cell_type": "markdown",
   "metadata": {
    "id": "c3xynjMeJiue"
   },
   "source": [
    "Скалярное сложение"
   ]
  },
  {
   "cell_type": "code",
   "execution_count": null,
   "metadata": {
    "colab": {
     "base_uri": "https://localhost:8080/"
    },
    "id": "MYdpvIH0JwHq",
    "outputId": "d289dc17-2348-406f-ea22-89ee4b2eb7ca"
   },
   "outputs": [],
   "source": [
    "x = np.arange(4)\n",
    "x + 10"
   ]
  },
  {
   "cell_type": "code",
   "execution_count": null,
   "metadata": {
    "colab": {
     "base_uri": "https://localhost:8080/"
    },
    "id": "W-_Ky_4CKKhA",
    "outputId": "cf8bcdb9-6dc7-4dfe-a0ba-af2293de993f"
   },
   "outputs": [],
   "source": [
    "x + x"
   ]
  },
  {
   "cell_type": "markdown",
   "metadata": {
    "id": "Uj1i9lijKFuS"
   },
   "source": [
    "Скалярное умножение"
   ]
  },
  {
   "cell_type": "code",
   "execution_count": null,
   "metadata": {
    "colab": {
     "base_uri": "https://localhost:8080/"
    },
    "id": "Nd7qaE6YKQ74",
    "outputId": "a3768b27-dc13-459e-9abb-12014a0dfc3d"
   },
   "outputs": [],
   "source": [
    "x * 2"
   ]
  },
  {
   "cell_type": "code",
   "execution_count": null,
   "metadata": {
    "colab": {
     "base_uri": "https://localhost:8080/"
    },
    "id": "I6Qy4_tFKTa4",
    "outputId": "175ed63b-783d-4d83-eae6-b08f6f79ce2e"
   },
   "outputs": [],
   "source": [
    "x * x"
   ]
  },
  {
   "cell_type": "markdown",
   "metadata": {
    "id": "6xSDbc9XKjZg"
   },
   "source": [
    "Умножение матриц"
   ]
  },
  {
   "cell_type": "code",
   "execution_count": null,
   "metadata": {
    "colab": {
     "base_uri": "https://localhost:8080/"
    },
    "id": "cZBJZEd_KmTo",
    "outputId": "6f233600-3c95-4ae4-a403-31f8213cb9da"
   },
   "outputs": [],
   "source": [
    "x = np.diag(np.arange(4))\n",
    "print(x, end='\\n\\n')\n",
    "\n",
    "print(x @ x, end='\\n\\n')\n",
    "print(type(x @ x))"
   ]
  },
  {
   "cell_type": "markdown",
   "metadata": {
    "id": "x4XsK-3QLAbw"
   },
   "source": [
    "Добавление элементов другого массива, возвращается новый объект!!!"
   ]
  },
  {
   "cell_type": "code",
   "execution_count": null,
   "metadata": {
    "colab": {
     "base_uri": "https://localhost:8080/"
    },
    "id": "tfe23dwMLI0T",
    "outputId": "e21d518b-c111-4a19-9e4b-a2f239a94170"
   },
   "outputs": [],
   "source": [
    "#np.append(array, values_to_append, axis=None)\n",
    "x = np.array([0, 1, 2, 3, 4])\n",
    "print(x)\n",
    "\n",
    "y = np.append(x, [5, 6, 7, 8, 9])\n",
    "print(y)"
   ]
  },
  {
   "cell_type": "code",
   "execution_count": null,
   "metadata": {
    "colab": {
     "base_uri": "https://localhost:8080/"
    },
    "id": "uSzEl0AELvrG",
    "outputId": "7bd1179d-84b6-4599-8a63-649cf258fa65"
   },
   "outputs": [],
   "source": [
    "# np.hstack(tup), np.vstack(tup)\n",
    "x = np.array([0,0,0])\n",
    "y = np.array([1,1,1])\n",
    "z = np.array([2,2,2])\n",
    "\n",
    "print(np.hstack((x, y, z)))\n",
    "print(np.vstack((x, y, z)))"
   ]
  },
  {
   "cell_type": "markdown",
   "metadata": {
    "id": "tZbQ0DW6Mi-P"
   },
   "source": [
    "Доступ к элементам массивов"
   ]
  },
  {
   "cell_type": "code",
   "execution_count": null,
   "metadata": {
    "colab": {
     "base_uri": "https://localhost:8080/"
    },
    "id": "NmYtdhMqM44o",
    "outputId": "86ce7feb-60f4-4b8c-c108-a664a846dbaa"
   },
   "outputs": [],
   "source": [
    "x = np.arange(10)\n",
    "\n",
    "print(x, end='\\n\\n')\n",
    "\n",
    "print(x[0], end='\\n\\n')\n",
    "\n",
    "print(x[0:4], end='\\n\\n')\n",
    "\n",
    "print(x[:4:2], end='\\n\\n')\n",
    "\n",
    "print(x[-1], end='\\n\\n')\n",
    "\n",
    "print(x[::-1], end='\\n\\n')"
   ]
  },
  {
   "cell_type": "code",
   "execution_count": null,
   "metadata": {
    "colab": {
     "base_uri": "https://localhost:8080/"
    },
    "id": "4Frpzx4GNtJK",
    "outputId": "9245ee69-35b2-4e7b-dd26-de3260bbbbfd"
   },
   "outputs": [],
   "source": [
    "x = np.arange(16).reshape((4, 4))\n",
    "\n",
    "print(x, end='\\n\\n')\n",
    "\n",
    "# строка, столбец\n",
    "# начиная с левого верхнего угла\n",
    "# нумерация с нуля\n",
    "print(x[1, 1], end='\\n\\n')\n",
    "\n",
    "print(x[:3, 0], end='\\n\\n')\n",
    "\n",
    "print(x[:3, :3], end='\\n\\n')\n",
    "\n",
    "print(x[:3:2, :3:2], end='\\n\\n')"
   ]
  },
  {
   "cell_type": "markdown",
   "metadata": {
    "id": "58HlLBhnP7Kq"
   },
   "source": [
    "Транспонирование матриц"
   ]
  },
  {
   "cell_type": "code",
   "execution_count": null,
   "metadata": {
    "colab": {
     "base_uri": "https://localhost:8080/"
    },
    "id": "_GUCGdbZP9rA",
    "outputId": "afbbf4c1-d4bf-41e8-a72a-5116a171b799"
   },
   "outputs": [],
   "source": [
    "arr = np.arange(10).reshape(2, 5)\n",
    "\n",
    "print(arr, end='\\n\\n')\n",
    "\n",
    "print(arr.transpose(), end='\\n\\n')\n",
    "\n",
    "# print(arr.T, end='\\n\\n')\n",
    "# print(np.transpose(arr), end='\\n\\n')"
   ]
  },
  {
   "cell_type": "markdown",
   "metadata": {
    "id": "p5sH77YMRsJE"
   },
   "source": [
    "Получение массива из файл CSV\n",
    "\n",
    "Подробнее: https://riptutorial.com/numpy/topic/4973/file-io-with-numpy"
   ]
  },
  {
   "cell_type": "code",
   "execution_count": null,
   "metadata": {
    "id": "Jz5XAbiARvvH"
   },
   "outputs": [],
   "source": [
    "data = np.genfromtxt(path)"
   ]
  },
  {
   "cell_type": "markdown",
   "metadata": {
    "id": "502NCw9vSW0j"
   },
   "source": [
    "Многомерные массивы"
   ]
  },
  {
   "cell_type": "code",
   "execution_count": null,
   "metadata": {
    "colab": {
     "base_uri": "https://localhost:8080/"
    },
    "id": "mJhAExh9SppR",
    "outputId": "6010a376-d311-4c13-e62b-7e0757aad222"
   },
   "outputs": [],
   "source": [
    "x = np.arange(15)\n",
    "print(x.shape)\n",
    "\n",
    "x = np.asarray([[0, 1, 2, 3, 4], [5, 6, 7, 8, 9], [10, 11, 12, 13, 14]])\n",
    "print(x)\n",
    "print(x.shape)"
   ]
  },
  {
   "cell_type": "markdown",
   "metadata": {
    "id": "zTxUuHV-UVpc"
   },
   "source": [
    "Работа с булевыми массивами: https://riptutorial.com/numpy/topic/6072/boolean-indexing"
   ]
  },
  {
   "cell_type": "markdown",
   "metadata": {
    "id": "T6HmVXRfUpkf"
   },
   "source": [
    "Фильтрация данных"
   ]
  },
  {
   "cell_type": "code",
   "execution_count": null,
   "metadata": {
    "colab": {
     "base_uri": "https://localhost:8080/"
    },
    "id": "vwrNS8u3Uwqu",
    "outputId": "eb42618d-8778-4ba5-dc49-e928a62c4878"
   },
   "outputs": [],
   "source": [
    "a = np.arange(20).reshape(2, 10)\n",
    "print(a)\n",
    "\n",
    "# Создание предиката, результат -- массив булевых значение.\n",
    "condition = np.bitwise_and(a > 7, a < 13)\n",
    "print(condition)\n",
    "\n",
    "# Получение координат истинных значений.\n",
    "ind = np.where(condition)\n",
    "print(ind)\n",
    "\n",
    "# Получение массива отфильтрованных значений.\n",
    "keep = a[ind]\n",
    "print(keep)\n",
    "\n",
    "# То же самое в одну строку\n",
    "# keep = np.extract(condition, a)"
   ]
  },
  {
   "cell_type": "markdown",
   "metadata": {
    "id": "YHQlJDOSWbqx"
   },
   "source": [
    "Подробнее про фильтацию данных: https://riptutorial.com/numpy/topic/6187/filtering-data"
   ]
  },
  {
   "cell_type": "markdown",
   "metadata": {
    "id": "na0yvB0wW-le"
   },
   "source": [
    "Генерация случайных данных"
   ]
  },
  {
   "cell_type": "code",
   "execution_count": null,
   "metadata": {
    "colab": {
     "base_uri": "https://localhost:8080/"
    },
    "id": "xLE7X-NUXAfx",
    "outputId": "59c97a74-eb65-4255-a63b-7322260af101"
   },
   "outputs": [],
   "source": [
    "np.random.rand(5)"
   ]
  },
  {
   "cell_type": "markdown",
   "metadata": {
    "id": "rI7UHvFfXIZ1"
   },
   "source": [
    "Обновление генератора случайных чисел"
   ]
  },
  {
   "cell_type": "code",
   "execution_count": null,
   "metadata": {
    "colab": {
     "base_uri": "https://localhost:8080/"
    },
    "id": "gVGIT-moXFBD",
    "outputId": "bb975766-d576-413c-acce-aaf8fb6afde1"
   },
   "outputs": [],
   "source": [
    "np.random.seed(0)\n",
    "np.random.rand(5)"
   ]
  },
  {
   "cell_type": "markdown",
   "metadata": {
    "id": "eBwmPJrXXUgE"
   },
   "source": [
    "Для целых чисел"
   ]
  },
  {
   "cell_type": "code",
   "execution_count": null,
   "metadata": {
    "colab": {
     "base_uri": "https://localhost:8080/"
    },
    "id": "f7rI8lqPXWnp",
    "outputId": "b1498dac-1851-40f1-c46a-f1bc49967243"
   },
   "outputs": [],
   "source": [
    "np.random.randint(10, 20, (5, 5))"
   ]
  },
  {
   "cell_type": "markdown",
   "metadata": {
    "id": "zFV9T6duXhCP"
   },
   "source": [
    "Подробнее про последовательности случайных чисел:  https://riptutorial.com/numpy/topic/2060/generating-randomdata"
   ]
  },
  {
   "cell_type": "markdown",
   "metadata": {
    "id": "qO1M2ebSX0Gt"
   },
   "source": [
    "Линейная алгебра\n",
    "\n",
    "Решение системы уравнений\n",
    "```\n",
    "x0 + 2 * x1 + x2 = 4\n",
    "         x1 + x2 = 3\n",
    "x0 +          x2 = 5\n",
    "```"
   ]
  },
  {
   "cell_type": "code",
   "execution_count": null,
   "metadata": {
    "id": "cz0zeeEQYIFz"
   },
   "outputs": [],
   "source": [
    "A = np.array([\n",
    "    [1, 2, 1],\n",
    "    [0, 1, 1],\n",
    "    [1, 0, 1]\n",
    "])\n",
    "b = np.array([4, 3, 5])"
   ]
  },
  {
   "cell_type": "code",
   "execution_count": null,
   "metadata": {
    "colab": {
     "base_uri": "https://localhost:8080/"
    },
    "id": "ljfPVR1vYa_M",
    "outputId": "d714f589-9d90-459d-fd33-892b7ec2997d"
   },
   "outputs": [],
   "source": [
    "x = np.linalg.solve(A, b)\n",
    "print(x)"
   ]
  },
  {
   "cell_type": "markdown",
   "metadata": {
    "id": "aZskKPqcYeWc"
   },
   "source": [
    "Подробнее про линейную алгебру: https://riptutorial.com/numpy/topic/3753/linear-algebrawith-np-linalg"
   ]
  },
  {
   "cell_type": "markdown",
   "metadata": {
    "id": "W631JHCkZFYq"
   },
   "source": [
    "## Библиотека matplotlib"
   ]
  },
  {
   "cell_type": "code",
   "execution_count": 228,
   "metadata": {
    "colab": {
     "base_uri": "https://localhost:8080/"
    },
    "id": "okMtNw1_ZLnP",
    "outputId": "400f2dd1-258a-477a-9e19-804eeb50c3bc"
   },
   "outputs": [
    {
     "ename": "ModuleNotFoundError",
     "evalue": "No module named 'numpy'",
     "output_type": "error",
     "traceback": [
      "\u001b[0;31m---------------------------------------------------------------------------\u001b[0m",
      "\u001b[0;31mModuleNotFoundError\u001b[0m                       Traceback (most recent call last)",
      "Cell \u001b[0;32mIn[228], line 1\u001b[0m\n\u001b[0;32m----> 1\u001b[0m \u001b[38;5;28;01mimport\u001b[39;00m \u001b[38;5;21;01mnumpy\u001b[39;00m \u001b[38;5;28;01mas\u001b[39;00m \u001b[38;5;21;01mnp\u001b[39;00m\n\u001b[1;32m      3\u001b[0m \u001b[38;5;66;03m# От 2 до 8, 4 дискретных элемента.\u001b[39;00m\n\u001b[1;32m      4\u001b[0m x \u001b[38;5;241m=\u001b[39m np\u001b[38;5;241m.\u001b[39mlinspace(\u001b[38;5;241m2\u001b[39m, \u001b[38;5;241m8\u001b[39m, \u001b[38;5;241m4\u001b[39m)\n",
      "\u001b[0;31mModuleNotFoundError\u001b[0m: No module named 'numpy'"
     ]
    }
   ],
   "source": [
    "import numpy as np\n",
    "\n",
    "# От 2 до 8, 4 дискретных элемента.\n",
    "x = np.linspace(2, 8, 4)\n",
    "print(x) # [ 2.  4.  6.  8.]\n",
    "\n",
    "sinx = np.sin(x)\n",
    "print(sinx)\n",
    "\n",
    "cosx = np.cos(x)\n",
    "print(cosx)\n",
    "\n",
    "ur = np.random.rand(4)\n",
    "print(ur)\n",
    "\n",
    "nr = np.random.randn(4)\n",
    "print(nr)"
   ]
  },
  {
   "cell_type": "code",
   "execution_count": null,
   "metadata": {
    "colab": {
     "base_uri": "https://localhost:8080/",
     "height": 265
    },
    "id": "AM5WZ-urZyQH",
    "outputId": "9156608a-ade7-433c-a63e-09cb13233677"
   },
   "outputs": [],
   "source": [
    "import numpy as np\n",
    "import matplotlib.pyplot as plt\n",
    "\n",
    "#  Закрыть все окна с графиками, если они открыты.\n",
    "plt.close('all')\n",
    "\n",
    "x = np.linspace(-2*np.pi, 2*np.pi, 100)\n",
    "sinx = np.sin(x)\n",
    "\n",
    "plt.plot(x, sinx)\n",
    "plt.show()"
   ]
  },
  {
   "cell_type": "code",
   "execution_count": null,
   "metadata": {
    "colab": {
     "base_uri": "https://localhost:8080/",
     "height": 279
    },
    "id": "wkHByZzEaFqS",
    "outputId": "d30ff5be-d043-4c56-d2b7-814de5c7c280"
   },
   "outputs": [],
   "source": [
    "import numpy as np\n",
    "import matplotlib.pyplot as plt\n",
    "\n",
    "plt.close('all')\n",
    "\n",
    "x = np.linspace(-2*np.pi, 2*np.pi, 100)\n",
    "sinx = np.sin(x)\n",
    "plt.plot(x, sinx, label='синус')\n",
    "\n",
    "plt.legend(loc='best')\n",
    "\n",
    "plt.xlabel('Радианы')\n",
    "plt.ylabel('Амплитуда')\n",
    "\n",
    "plt.grid()\n",
    "plt.show()"
   ]
  },
  {
   "cell_type": "code",
   "execution_count": null,
   "metadata": {
    "colab": {
     "base_uri": "https://localhost:8080/",
     "height": 279
    },
    "id": "LifJYZ2DbW4Q",
    "outputId": "6e8b9615-18a6-4885-f3a9-d26d3ed17d12"
   },
   "outputs": [],
   "source": [
    "import numpy as np\n",
    "import matplotlib.pyplot as plt\n",
    "\n",
    "plt.close('all')\n",
    "\n",
    "\n",
    "x = np.linspace(-2*np.pi, 2*np.pi, 100)\n",
    "sinx = np.sin(x)\n",
    "\n",
    "plt.plot(\n",
    "    x,\n",
    "    sinx,\n",
    "    color='m',\n",
    "    linestyle='-.',\n",
    "    linewidth=4,\n",
    "    marker='o',\n",
    "    markerfacecolor='k',\n",
    "    markeredgecolor='g',\n",
    "    markeredgewidth=3,\n",
    "    markersize=5,\n",
    "    label='синус'\n",
    ")\n",
    "\n",
    "plt.legend(loc='best')\n",
    "\n",
    "plt.xlabel('Радианы')\n",
    "plt.ylabel('Амплитуда')\n",
    "\n",
    "plt.grid()\n",
    "plt.show()"
   ]
  },
  {
   "cell_type": "markdown",
   "metadata": {
    "id": "B6GkPnN3b-lM"
   },
   "source": [
    "Стили линий\n",
    "\n",
    "|**Обозначение**|**Описание**|\n",
    "|---------------|------------|\n",
    "|-.|штрих-пунктирная линия|\n",
    "|--|штриховая линия|\n",
    "|:|пунктирная линия|\n",
    "|-|сплошная линия|\n",
    "\n",
    "Стили маркеров\n",
    "\n",
    "|**Обозначение**|**Описание**|\n",
    "|---------------|------------|\n",
    "|o|круг|\n",
    "|x|крест|\n",
    "|D|ромб|\n",
    "|h|шестиугольник|\n",
    "|p|пятиугольник|\n",
    "|+|плюс|\n",
    "|.|точка|\n",
    "|s|квадрат|\n",
    "|\\*|звезда|\n",
    "|V|треугольник вниз|\n",
    "|<|треугольник влево|\n",
    "|>|треугольник вправо|\n",
    "|^|треугольник вверх|\n",
    "\n",
    "Стандартные цвета\n",
    "\n",
    "|**Обозначение**|**Описание**|\n",
    "|---------------|------------|\n",
    "|k|черный|\n",
    "|b|синий|\n",
    "|c|голубой|\n",
    "|g|зеленый|\n",
    "|m|пурпурный|\n",
    "|r|красный|\n",
    "|w|белый|\n",
    "|y|желтый|\n",
    "\n"
   ]
  },
  {
   "cell_type": "code",
   "execution_count": null,
   "metadata": {
    "colab": {
     "base_uri": "https://localhost:8080/",
     "height": 299
    },
    "id": "cpGUCm8CfnYS",
    "outputId": "01640032-dc8f-4516-d975-b01b24044ec7"
   },
   "outputs": [],
   "source": [
    "import numpy as np\n",
    "import matplotlib.pyplot as plt\n",
    "\n",
    "\n",
    "plt.close('all')\n",
    "\n",
    "x = np.linspace(-2*np.pi, 2*np.pi, 100)\n",
    "sinx = np.sin(x)\n",
    "\n",
    "plt.plot(x, sinx, '*--r', markersize=10, label='синус')\n",
    "\n",
    "plt.legend(loc='best')\n",
    "\n",
    "plt.xlabel('Радианы')\n",
    "plt.ylabel('Амплитуда')\n",
    "\n",
    "plt.grid()\n",
    "\n",
    "plt.xlim([-2*np.pi, 2*np.pi])\n",
    "plt.ylim([-1.5, 1.5])\n",
    "\n",
    "plt.xticks([-2*np.pi, -np.pi, 0, np.pi, 2*np.pi],\n",
    "          [r'$-2\\pi$', r'$-\\pi$', r'$0$', r'$+\\pi$', r'2$\\pi$'])\n",
    "plt.yticks([-1, 0, +1])\n",
    "\n",
    "plt.title(\"График функции $Sin(x)$\")\n",
    "plt.show()"
   ]
  },
  {
   "cell_type": "code",
   "execution_count": null,
   "metadata": {
    "colab": {
     "base_uri": "https://localhost:8080/",
     "height": 287
    },
    "id": "jcMvfGg5gMdl",
    "outputId": "462fe2e8-5f33-49c5-a691-06afb95fe03d"
   },
   "outputs": [],
   "source": [
    "import numpy as np\n",
    "import matplotlib.pyplot as plt\n",
    "\n",
    "plt.close('all')\n",
    "\n",
    "x = np.linspace(-2*np.pi, 2*np.pi, 100)\n",
    "sinx = np.sin(x)\n",
    "cosx = np.cos(x)\n",
    "\n",
    "plt.plot(x, sinx, '*--r', label='синус')\n",
    "plt.plot(x, cosx, 'o-g', label='косинус')\n",
    "\n",
    "plt.legend(loc='best')\n",
    "\n",
    "plt.xlabel(r'$Радианы$').set_fontsize(16)\n",
    "plt.ylabel(r'$Амплитуда$').set_fontsize(16)\n",
    "plt.grid()\n",
    "\n",
    "plt.show()"
   ]
  },
  {
   "cell_type": "code",
   "execution_count": null,
   "metadata": {
    "colab": {
     "base_uri": "https://localhost:8080/",
     "height": 282
    },
    "id": "l5XoFiSXgnwO",
    "outputId": "87cf0691-52a0-4042-c6af-9a041be4bc9c"
   },
   "outputs": [],
   "source": [
    "import numpy as np\n",
    "import matplotlib.pyplot as plt\n",
    "\n",
    "plt.close('all')\n",
    "\n",
    "x = np.linspace(-2*np.pi, 2*np.pi, 100)\n",
    "sinx = np.sin(x)\n",
    "cosx = np.cos(x)\n",
    "\n",
    "plt.subplot(2, 1, 1)\n",
    "plt.plot(x, sinx, '*--r', label='синус')\n",
    "plt.grid()\n",
    "plt.legend()\n",
    "plt.xlabel(r'$Радианы$')\n",
    "plt.ylabel(r'$Амплитуда$')\n",
    "\n",
    "plt.subplot(2,1,2)\n",
    "plt.plot(x,cosx, 'o-g', label='косинус')\n",
    "plt.grid()\n",
    "plt.legend()\n",
    "plt.xlabel(r'$Радианы$')\n",
    "plt.ylabel(r'$Амплитуда$')\n",
    "\n",
    "plt.xlabel(r'$Радианы$')\n",
    "plt.ylabel(r'$Амплитуда$')\n",
    "\n",
    "plt.show()"
   ]
  },
  {
   "cell_type": "code",
   "execution_count": null,
   "metadata": {
    "colab": {
     "base_uri": "https://localhost:8080/",
     "height": 573
    },
    "id": "3uA-7QdZrtWU",
    "outputId": "26f313ce-8bd1-4074-80a6-ca1ec55790cd"
   },
   "outputs": [],
   "source": [
    "import numpy as np\n",
    "import matplotlib.pyplot as plt\n",
    "\n",
    "\n",
    "plt.close('all')\n",
    "\n",
    "x = np.linspace(0.01, 5, 100)\n",
    "e = np.exp(x)\n",
    "\n",
    "plt.plot(x, e)\n",
    "plt.xlabel('x')\n",
    "plt.ylabel('y = exp(x)')\n",
    "plt.title('Линейная ось Y')\n",
    "\n",
    "plt.figure()\n",
    "plt.semilogy(x, e)\n",
    "plt.xlabel('x')\n",
    "plt.ylabel('y = exp(x)')\n",
    "plt.title('Логарифмическая ось Y')\n",
    "\n",
    "plt.show()"
   ]
  },
  {
   "cell_type": "code",
   "execution_count": null,
   "metadata": {
    "colab": {
     "base_uri": "https://localhost:8080/",
     "height": 297
    },
    "id": "1fChA3avui4I",
    "outputId": "50105b62-87a1-419f-b405-e58f70aba772"
   },
   "outputs": [],
   "source": [
    "import numpy as np\n",
    "import matplotlib.pyplot as plt\n",
    "\n",
    "plt.close('all')\n",
    "\n",
    "ur = np.random.rand(1000000)\n",
    "nr = np.random.randn(1000000)\n",
    "\n",
    "plt.subplot(221)\n",
    "plt.hist(ur)\n",
    "plt.xlabel('Равномерное распределение,\\n10 столбцов')\n",
    "\n",
    "plt.subplot(222)\n",
    "plt.hist(ur, 100)\n",
    "plt.xlabel('Равномерное распределение,\\n100 столбцов')\n",
    "\n",
    "plt.subplot(223)\n",
    "plt.hist(nr)\n",
    "plt.xlabel('Нормальное распределение,\\n10 столбцов')\n",
    "\n",
    "plt.subplot(224)\n",
    "plt.hist(nr, 100)\n",
    "plt.xlabel('Нормальное распределение,\\n100 столбцов')\n",
    "\n",
    "plt.tight_layout()\n",
    "\n",
    "plt.show()"
   ]
  },
  {
   "cell_type": "code",
   "execution_count": null,
   "metadata": {
    "colab": {
     "base_uri": "https://localhost:8080/",
     "height": 515
    },
    "id": "QKJTQO6evIMR",
    "outputId": "5160a27a-9df1-426f-c2fe-0c25d490cb57"
   },
   "outputs": [],
   "source": [
    "import numpy as np\n",
    "import matplotlib.pyplot as plt\n",
    "\n",
    "plt.close('all')\n",
    "\n",
    "N = 100\n",
    "x = np.linspace(0, 2*np.pi, N)\n",
    "noise = np.random.randn(N)\n",
    "signal = 2*np.sin(x)\n",
    "\n",
    "y = signal + noise\n",
    "plt.plot(x, signal)\n",
    "plt.scatter(x, y)\n",
    "\n",
    "plt.figure()\n",
    "y = signal + 0.2*noise\n",
    "plt.plot(x, signal)\n",
    "plt.scatter(x, y)\n",
    "\n",
    "plt.show()"
   ]
  },
  {
   "cell_type": "code",
   "execution_count": null,
   "metadata": {
    "colab": {
     "base_uri": "https://localhost:8080/",
     "height": 303
    },
    "id": "mtExd1OQvc-H",
    "outputId": "79b8b289-8d89-424e-a1d6-c2b074b0512b"
   },
   "outputs": [],
   "source": [
    "import matplotlib.pyplot as plt\n",
    "\n",
    "plt.close('all')\n",
    "\n",
    "x = [30, 20, 15, 25, 10]\n",
    "data = ['data1', 'data2', 'data3', 'data4', 'data5']\n",
    "\n",
    "plt.figure(figsize=(5, 5))\n",
    "plt.pie(x, labels=data)\n",
    "\n",
    "plt.show()"
   ]
  },
  {
   "cell_type": "code",
   "execution_count": null,
   "metadata": {
    "colab": {
     "base_uri": "https://localhost:8080/",
     "height": 303
    },
    "id": "MCmsc46lvkfg",
    "outputId": "0a2d5f1f-8a8a-434e-f40b-634c1e466393"
   },
   "outputs": [],
   "source": [
    "import matplotlib.pyplot as plt\n",
    "\n",
    "plt.close('all')\n",
    "\n",
    "x = [10, 10, 20, 20, 30]\n",
    "data = ['data1', 'data2', 'data3', 'data4', 'data5']\n",
    "explode = [0.01, 0, 0, 0.04, 0.09]\n",
    "\n",
    "plt.figure(figsize=(5,5))\n",
    "plt.pie(x, explode=explode, labels=data, autopct='%.2f%%')\n",
    "plt.show()"
   ]
  },
  {
   "cell_type": "code",
   "execution_count": null,
   "metadata": {
    "colab": {
     "base_uri": "https://localhost:8080/",
     "height": 286
    },
    "id": "ALDMSo50v0PJ",
    "outputId": "4540cb66-ddb3-48c0-c13d-0a144ccc6992"
   },
   "outputs": [],
   "source": [
    "import numpy as np\n",
    "import matplotlib.pyplot as plt\n",
    "\n",
    "plt.close('all')\n",
    "\n",
    "x=np.linspace(0,2*np.pi, 1000)\n",
    "\n",
    "y = np.cos(2*x)\n",
    "plt.polar(x, y)\n",
    "\n",
    "plt.show()"
   ]
  },
  {
   "cell_type": "code",
   "execution_count": null,
   "metadata": {
    "colab": {
     "base_uri": "https://localhost:8080/",
     "height": 265
    },
    "id": "G-nB101Vv9Db",
    "outputId": "8c5ba062-eb53-4ffd-9fb7-37eb7e769515"
   },
   "outputs": [],
   "source": [
    "import matplotlib.pyplot as plt\n",
    "\n",
    "plt.close('all')\n",
    "\n",
    "x = [1, 2, 4]\n",
    "years = [1999, 2014, 2030]\n",
    "\n",
    "plt.bar(years, x)\n",
    "\n",
    "plt.show()"
   ]
  },
  {
   "cell_type": "code",
   "execution_count": null,
   "metadata": {
    "colab": {
     "base_uri": "https://localhost:8080/",
     "height": 279
    },
    "id": "12IA5WXfwD6O",
    "outputId": "d54dc56f-5ca5-45d6-fc80-6a9f68c7dadb"
   },
   "outputs": [],
   "source": [
    "import numpy as np\n",
    "import matplotlib.pyplot as plt\n",
    "\n",
    "plt.close('all')\n",
    "\n",
    "A = [2, 4, 8, 6]\n",
    "increment = [5, 6, 4, 1]\n",
    "years = [2005, 2010, 2015, 2020]\n",
    "\n",
    "plt.subplot(211)\n",
    "plt.bar(years, A, color='b', label='A')\n",
    "plt.bar(years, increment, color='r', bottom=A, label='increment')\n",
    "plt.legend()\n",
    "\n",
    "plt.show()\n",
    "\n",
    "x = [1, 2, 4]\n",
    "y = [3.5, 3, 2]\n",
    "z = [2, 3, 1.5]\n",
    "\n",
    "width = 0.2\n",
    "locs = np.arange(1, len(x)+1)\n",
    "\n",
    "plt.subplot(212)\n",
    "plt.bar(locs, x, width=width, label='x')\n",
    "plt.bar(locs+width, y, width=width, color='red', label='y')\n",
    "plt.bar(locs+2*width, z, width=width, color='black', label='z')\n",
    "plt.legend()\n",
    "\n",
    "plt.xticks(\n",
    "    [1.25, 2.25, 3.25],\n",
    "    [r'$2000$', r'$2005$', r'$2010$']\n",
    ")\n",
    "\n",
    "plt.show()"
   ]
  },
  {
   "cell_type": "code",
   "execution_count": null,
   "metadata": {
    "colab": {
     "base_uri": "https://localhost:8080/",
     "height": 282
    },
    "id": "hBi2e_YbwTgH",
    "outputId": "07115718-5052-4aa2-9e95-910e2061f249"
   },
   "outputs": [],
   "source": [
    "import numpy as np\n",
    "import matplotlib.pyplot as plt\n",
    "\n",
    "\n",
    "plt.close('all')\n",
    "\n",
    "x = np.linspace(0, 2*np.pi, 100)\n",
    "sinx = np.sin(x)\n",
    "plt.plot(x,sinx, label='синус')\n",
    "\n",
    "plt.legend(loc='best')\n",
    "\n",
    "plt.xlabel(r'$Радианы$')\n",
    "plt.ylabel(r'$Амплитуда$')\n",
    "\n",
    "# Аннотации\n",
    "# Виды стрелок\n",
    "# '-', '->', '-[', '<-', '<->', 'fancy', 'simple', 'wedge'\n",
    "\n",
    "plt.annotate(\n",
    "    r'$sin(\\frac{\\pi}{2})=1$',\n",
    "    fontsize=16,\n",
    "    xy=(1.5, 1),\n",
    "    xytext=(0.75, 0.5),\n",
    "    arrowprops=dict(arrowstyle='->'),\n",
    ")\n",
    "\n",
    "\n",
    "# width: ширина стрелки в пунктах.\n",
    "# shrink: cмещает кончик и основание стрелки на несколько процентов от\n",
    "# аннотируемой точки и текста.\n",
    "plt.annotate(\n",
    "    r'$sin(\\frac{3\\pi}{2})=-1$',\n",
    "    fontsize=18,\n",
    "    xy=(4.5, -1),\n",
    "    xytext=(0, -0.5),\n",
    "    arrowprops=dict(\n",
    "        facecolor='red',\n",
    "        shrink=0.04,\n",
    "        connectionstyle='arc3,rad=.2'\n",
    "    ),\n",
    ")\n",
    "\n",
    "plt.text(4.5, 0, 'График \\nфункции синус');\n",
    "\n",
    "plt.show()"
   ]
  },
  {
   "cell_type": "code",
   "execution_count": null,
   "metadata": {
    "colab": {
     "base_uri": "https://localhost:8080/",
     "height": 265
    },
    "id": "h4BQv3NWwdjg",
    "outputId": "1da24437-00fc-4637-9de6-93f34ec924b5"
   },
   "outputs": [],
   "source": [
    "import numpy as np\n",
    "import matplotlib.pyplot as plt\n",
    "\n",
    "N = 100\n",
    "x = np.arange(N)\n",
    "rn = np.random.randn(N)\n",
    "r = np.random.rand(N)\n",
    "\n",
    "fig1 = plt.figure()\n",
    "\n",
    "subfig1 = fig1.add_subplot(211)\n",
    "subfig2 = fig1.add_subplot(212, sharey=subfig1)\n",
    "\n",
    "subfig1.plot(x, rn)\n",
    "subfig2.plot(x, r)\n",
    "\n",
    "plt.show()"
   ]
  },
  {
   "cell_type": "code",
   "execution_count": null,
   "metadata": {
    "colab": {
     "base_uri": "https://localhost:8080/",
     "height": 276
    },
    "id": "8St_neFBxyFf",
    "outputId": "821d21d8-55e1-4a9f-d670-154b08ecfbe3"
   },
   "outputs": [],
   "source": [
    "import matplotlib.pyplot as plt\n",
    "import numpy as np\n",
    "\n",
    "\n",
    "plt.close('all')\n",
    "\n",
    "ur = np.random.rand(100)\n",
    "nr = np.random.randn(100)\n",
    "x = np.linspace(0, 3, 100)\n",
    "\n",
    "ax = plt.subplot(1, 1, 1)\n",
    "\n",
    "ax.plot(x, label='Line')\n",
    "ax.plot(ur, label='Случайная величина (равномерное распределение)')\n",
    "ax.plot(nr, label='Случайная величина (нормальное распределение)')\n",
    "ax.set_title('Леганда за пределами графика')\n",
    "\n",
    "box = ax.get_position()\n",
    "ax.set_position([\n",
    "    box.x0,\n",
    "    box.y0 + box.height*0.2,\n",
    "    box.width,\n",
    "    box.height*0.8\n",
    "])\n",
    "\n",
    "ax.legend(\n",
    "    loc='upper center',\n",
    "    bbox_to_anchor=(0.5, -0.1),\n",
    "    fancybox=True,\n",
    "    shadow=True,\n",
    "    ncol=2\n",
    ")\n",
    "\n",
    "plt.show()"
   ]
  },
  {
   "cell_type": "markdown",
   "metadata": {
    "id": "ED4yHrRAw-2i"
   },
   "source": [
    "## Библиотека pandas"
   ]
  },
  {
   "cell_type": "code",
   "execution_count": null,
   "metadata": {
    "id": "Okgv-QRgxCbK"
   },
   "outputs": [],
   "source": [
    "import numpy as np\n",
    "import pandas as pd"
   ]
  },
  {
   "cell_type": "code",
   "execution_count": null,
   "metadata": {
    "colab": {
     "base_uri": "https://localhost:8080/"
    },
    "id": "shymumxtxF5h",
    "outputId": "19c95e7f-37d7-4876-f7f7-f2190ca06ac3"
   },
   "outputs": [],
   "source": [
    "s = pd.Series([1, 3, 5, np.nan, 6, 8])\n",
    "s"
   ]
  },
  {
   "cell_type": "code",
   "execution_count": null,
   "metadata": {
    "colab": {
     "base_uri": "https://localhost:8080/"
    },
    "id": "Zs_CGn03xPMn",
    "outputId": "1f0713e1-46ec-4bef-fd46-6c3875af02b5"
   },
   "outputs": [],
   "source": [
    "dates = pd.date_range('20230101', periods=6)\n",
    "dates"
   ]
  },
  {
   "cell_type": "markdown",
   "metadata": {
    "id": "L8cgGtZMYADR"
   },
   "source": [
    "|**Обозначение**|**Описание**|\n",
    "|---------------|------------|\n",
    "|B|        business day frequency|\n",
    "|C|        custom business day frequency|\n",
    "|D|        calendar day frequency|\n",
    "|W|        weekly frequency|\n",
    "|M|        month end frequency|\n",
    "|SM|       semi-month end frequency (15th and end of month)|\n",
    "|BM|       business month end frequency|\n",
    "|CBM|      custom business month end frequency|\n",
    "|MS|       month start frequency|\n",
    "|SMS|      semi-month start frequency (1st and 15th)|\n",
    "|BMS|      business month start frequency|\n",
    "|CBMS|     custom business month start frequency|\n",
    "|Q|        quarter end frequency|\n",
    "|BQ|       business quarter end frequency|\n",
    "|QS|       quarter start frequency|\n",
    "|BQS|      business quarter start frequency|\n",
    "|A, Y|     year end frequency|\n",
    "|BA, BY|   business year end frequency|\n",
    "|AS, YS|   year start frequency|\n",
    "|BAS, BYS| business year start frequency|\n",
    "|BH|       business hour frequency|\n",
    "|H|        hourly frequency|\n",
    "|T, min|   minutely frequency|\n",
    "|S|        secondly frequency|\n",
    "|L, ms|    milliseconds|\n",
    "|U, us|    microseconds|\n",
    "|N|        nanoseconds|"
   ]
  },
  {
   "cell_type": "code",
   "execution_count": null,
   "metadata": {
    "colab": {
     "base_uri": "https://localhost:8080/",
     "height": 237
    },
    "id": "_XDIbQZxxUm_",
    "outputId": "ff012ec7-b63d-4f59-c88a-c2199a17f719"
   },
   "outputs": [],
   "source": [
    "df = pd.DataFrame(np.random.randn(6, 4), index=dates, columns=list('ABCD'))\n",
    "df"
   ]
  },
  {
   "cell_type": "code",
   "execution_count": null,
   "metadata": {
    "colab": {
     "base_uri": "https://localhost:8080/",
     "height": 191
    },
    "id": "ZwrgNK6hxZVm",
    "outputId": "c5dd0cdb-b779-49b9-e515-81ac8dd17214"
   },
   "outputs": [],
   "source": [
    "df2 = pd.DataFrame({\n",
    "    'A': 1.0,\n",
    "    'B': pd.Timestamp('20230102'),\n",
    "    'C': pd.Series(1, index=list(range(4)), dtype='float32'),\n",
    "    'D': np.array([3] * 4, dtype='int32'),\n",
    "    'E': pd.Categorical(['test', 'train', 'test', 'train']),\n",
    "    'F': 'foo',\n",
    "})\n",
    "\n",
    "df2"
   ]
  },
  {
   "cell_type": "code",
   "execution_count": null,
   "metadata": {
    "colab": {
     "base_uri": "https://localhost:8080/"
    },
    "id": "Vm_NRiM1zKej",
    "outputId": "94578de4-1f4e-43cd-cbc6-d1bd049429d4"
   },
   "outputs": [],
   "source": [
    "df2.dtypes"
   ]
  },
  {
   "cell_type": "code",
   "execution_count": null,
   "metadata": {
    "colab": {
     "base_uri": "https://localhost:8080/",
     "height": 206
    },
    "id": "FS4lGjI_D9Ac",
    "outputId": "cfb92baf-af55-4164-beae-f993676b4fe2"
   },
   "outputs": [],
   "source": [
    "df.head()"
   ]
  },
  {
   "cell_type": "code",
   "execution_count": null,
   "metadata": {
    "colab": {
     "base_uri": "https://localhost:8080/",
     "height": 143
    },
    "id": "AIy-QOMTFvPR",
    "outputId": "0e3574ab-db5c-428d-e5d9-981422fc77f6"
   },
   "outputs": [],
   "source": [
    "df.tail(3)"
   ]
  },
  {
   "cell_type": "code",
   "execution_count": null,
   "metadata": {
    "colab": {
     "base_uri": "https://localhost:8080/"
    },
    "id": "KjuHowNiF8yf",
    "outputId": "2b4d8a17-133b-44b3-b241-94e465f66c36"
   },
   "outputs": [],
   "source": [
    "df.index"
   ]
  },
  {
   "cell_type": "code",
   "execution_count": null,
   "metadata": {
    "colab": {
     "base_uri": "https://localhost:8080/"
    },
    "id": "xSpSRHCrGCXc",
    "outputId": "32c86900-5d54-4064-e63a-20fc3dc212ab"
   },
   "outputs": [],
   "source": [
    "df.columns"
   ]
  },
  {
   "cell_type": "code",
   "execution_count": null,
   "metadata": {
    "colab": {
     "base_uri": "https://localhost:8080/"
    },
    "id": "DYDmpRyZGJYM",
    "outputId": "49850fe8-a202-4901-fffc-f8330df5fef7"
   },
   "outputs": [],
   "source": [
    "df.to_numpy()"
   ]
  },
  {
   "cell_type": "code",
   "execution_count": null,
   "metadata": {
    "colab": {
     "base_uri": "https://localhost:8080/"
    },
    "id": "VoyE7qCjGUhf",
    "outputId": "b8456a93-b077-4c39-a98f-fb228bc6654e"
   },
   "outputs": [],
   "source": [
    "df2.to_numpy()"
   ]
  },
  {
   "cell_type": "code",
   "execution_count": null,
   "metadata": {
    "colab": {
     "base_uri": "https://localhost:8080/",
     "height": 300
    },
    "id": "WhuQKVAHGcaA",
    "outputId": "10b75240-eb17-48f7-fc0e-6fbf7bf70a12"
   },
   "outputs": [],
   "source": [
    "df.describe()"
   ]
  },
  {
   "cell_type": "code",
   "execution_count": null,
   "metadata": {
    "colab": {
     "base_uri": "https://localhost:8080/"
    },
    "id": "MjVeHpL6GrBm",
    "outputId": "0f3a8553-2b64-46d1-eef0-cde285aa9ee3"
   },
   "outputs": [],
   "source": [
    "df['A']"
   ]
  },
  {
   "cell_type": "markdown",
   "metadata": {
    "id": "gxobH3KGHIX5"
   },
   "source": [
    "Больше информации: https://pandas.pydata.org/docs/user_guide/10min.html"
   ]
  },
  {
   "cell_type": "markdown",
   "metadata": {
    "id": "iCZUpkgqbYbI"
   },
   "source": [
    "## Библиотека Pillow"
   ]
  },
  {
   "cell_type": "code",
   "execution_count": null,
   "metadata": {
    "colab": {
     "base_uri": "https://localhost:8080/",
     "height": 466
    },
    "id": "pUZVsYs4cHP7",
    "outputId": "338d1670-4c98-4d21-86c2-79c3cfd4dc5d"
   },
   "outputs": [],
   "source": [
    "import requests, json\n",
    "\n",
    "from PIL import Image\n",
    "from io import BytesIO\n",
    "\n",
    "\n",
    "image_url = 'https://cataas.com/cat'\n",
    "\n",
    "response = requests.get(image_url)\n",
    "im = Image.open(BytesIO(response.content))\n",
    "\n",
    "print(im.size, im.mode, im.format)\n",
    "\n",
    "im\n",
    "# im.show()"
   ]
  },
  {
   "cell_type": "code",
   "execution_count": null,
   "metadata": {
    "colab": {
     "base_uri": "https://localhost:8080/",
     "height": 273
    },
    "id": "lcZNdDw4dINO",
    "outputId": "396cc455-74d0-47fe-ec3f-df71fab0b850"
   },
   "outputs": [],
   "source": [
    "im = im.resize((256, 256))\n",
    "im"
   ]
  },
  {
   "cell_type": "code",
   "execution_count": null,
   "metadata": {
    "colab": {
     "base_uri": "https://localhost:8080/",
     "height": 273
    },
    "id": "3syB2OiLdUNJ",
    "outputId": "8a303029-b2ac-4a52-a4b8-b1d562a4108d"
   },
   "outputs": [],
   "source": [
    "box = (100, 100, 200, 200)\n",
    "\n",
    "cropped_part = im.crop(box)\n",
    "cropped_part = cropped_part.transpose(Image.ROTATE_180)\n",
    "\n",
    "im.paste(cropped_part,box)\n",
    "im"
   ]
  },
  {
   "cell_type": "code",
   "execution_count": null,
   "metadata": {
    "id": "wpuflT0seUm3"
   },
   "outputs": [],
   "source": [
    "def roll(image, delta):\n",
    "    xsize, ysize = image.size\n",
    "\n",
    "    delta = delta % xsize\n",
    "    if delta == 0:\n",
    "        return image\n",
    "\n",
    "    part1 = image.crop((0, 0, delta, ysize))\n",
    "    part2 = image.crop((delta, 0, xsize, ysize))\n",
    "\n",
    "    image.paste(part2, (0, 0, xsize-delta, ysize))\n",
    "    image.paste(part1, (xsize-delta, 0, xsize, ysize))\n",
    "\n",
    "    return image"
   ]
  },
  {
   "cell_type": "code",
   "execution_count": null,
   "metadata": {
    "colab": {
     "base_uri": "https://localhost:8080/",
     "height": 273
    },
    "id": "VtA6mg3Pecqu",
    "outputId": "1d218134-315e-425f-f300-e8edb56ef610"
   },
   "outputs": [],
   "source": [
    "roll(im, 200)"
   ]
  },
  {
   "cell_type": "markdown",
   "metadata": {
    "id": "fFGFXk6BeltB"
   },
   "source": [
    "Цветовые каналы изображения"
   ]
  },
  {
   "cell_type": "code",
   "execution_count": null,
   "metadata": {
    "colab": {
     "base_uri": "https://localhost:8080/"
    },
    "id": "7vZ96_BqerIE",
    "outputId": "2f493bbb-5747-4c03-90ae-d7b1410b5c41"
   },
   "outputs": [],
   "source": [
    "im.getbands()"
   ]
  },
  {
   "cell_type": "code",
   "execution_count": null,
   "metadata": {
    "colab": {
     "base_uri": "https://localhost:8080/",
     "height": 273
    },
    "id": "joC3D3Jqe0p-",
    "outputId": "2f08e7a4-c550-4717-97a5-72fac38b580f"
   },
   "outputs": [],
   "source": [
    "r, g, b = im.split()\n",
    "Image.merge('RGB', (b, r, g))"
   ]
  },
  {
   "cell_type": "code",
   "execution_count": null,
   "metadata": {
    "colab": {
     "base_uri": "https://localhost:8080/",
     "height": 273
    },
    "id": "YeKO6hdRYy42",
    "outputId": "abd3ac92-7b0a-462e-d482-51afa7bb5daa"
   },
   "outputs": [],
   "source": [
    "r"
   ]
  },
  {
   "cell_type": "code",
   "execution_count": null,
   "metadata": {
    "colab": {
     "base_uri": "https://localhost:8080/",
     "height": 273
    },
    "id": "IJKrvpR8hnru",
    "outputId": "8e33c1a9-985f-4230-a094-84480919a06e"
   },
   "outputs": [],
   "source": [
    "im.rotate(45, center=(10, 10), fillcolor=(255, 0, 0))"
   ]
  },
  {
   "cell_type": "code",
   "execution_count": null,
   "metadata": {
    "colab": {
     "base_uri": "https://localhost:8080/",
     "height": 273
    },
    "id": "R6dJfpGan46X",
    "outputId": "35b62149-6a9b-4e97-f90b-8787d0a0b6cf"
   },
   "outputs": [],
   "source": [
    "im.transpose(Image.FLIP_LEFT_RIGHT)"
   ]
  },
  {
   "cell_type": "code",
   "execution_count": null,
   "metadata": {
    "colab": {
     "base_uri": "https://localhost:8080/",
     "height": 273
    },
    "id": "a7SapiuPn_8w",
    "outputId": "9c666135-671f-45fa-bb55-d4066ecce183"
   },
   "outputs": [],
   "source": [
    "im.convert('L')"
   ]
  },
  {
   "cell_type": "markdown",
   "metadata": {
    "id": "hiW9WokYoVsR"
   },
   "source": [
    "- 1 (1-bit pixels, black and white, stored with one pixel per byte)\n",
    "- L (8-bit pixels, black and white)\n",
    "- P (8-bit pixels, mapped to any other mode using a color palette)\n",
    "- RGB (3x8-bit pixels, true color)\n",
    "- RGBA (4x8-bit pixels, true color with transparency mask)\n",
    "- CMYK (4x8-bit pixels, color separation)\n",
    "- YCbCr (3x8-bit pixels, color video format)\n",
    "- LAB (3x8-bit pixels, the L*a*b color space)\n",
    "- HSV (3x8-bit pixels, Hue, Saturation, Value color space)\n",
    "- I (32-bit signed integer pixels)\n",
    "- F (32-bit floating point pixels)\n",
    "- LA (L with alpha)\n",
    "- PA (P with alpha)\n",
    "- RGBX (true color with padding)\n",
    "- RGBa (true color with premultiplied alpha)\n",
    "- La (L with premultiplied alpha)\n",
    "- I;16 (16-bit unsigned integer pixels)\n",
    "- I;16L (16-bit little endian unsigned integer pixels)\n",
    "- I;16B (16-bit big endian unsigned integer pixels)\n",
    "- I;16N (16-bit native endian unsigned integer pixels)\n",
    "- BGR;15 (15-bit reversed true colour)\n",
    "- BGR;16 (16-bit reversed true colour)\n",
    "- BGR;24 (24-bit reversed true colour)\n",
    "- BGR;32 (32-bit reversed true colour)"
   ]
  },
  {
   "cell_type": "code",
   "execution_count": null,
   "metadata": {
    "colab": {
     "base_uri": "https://localhost:8080/",
     "height": 273
    },
    "id": "arAYdWH_ociv",
    "outputId": "e99f0186-d311-4780-ea19-735bad7a4a43"
   },
   "outputs": [],
   "source": [
    "im.point(lambda i: i * 3)"
   ]
  },
  {
   "cell_type": "code",
   "execution_count": null,
   "metadata": {
    "colab": {
     "base_uri": "https://localhost:8080/",
     "height": 273
    },
    "id": "jfRGo2c_ok_s",
    "outputId": "5c62346e-63bd-41cc-adfd-cbeebb23fa0b"
   },
   "outputs": [],
   "source": [
    "t = im.convert('L')\n",
    "t.point(lambda i: i < 128 and 255)  # Пороговое преобразование"
   ]
  },
  {
   "cell_type": "code",
   "execution_count": null,
   "metadata": {
    "colab": {
     "base_uri": "https://localhost:8080/",
     "height": 273
    },
    "id": "vB-xV2hQo3on",
    "outputId": "6b58c641-75b0-4634-98d7-6d6fce15c8c3"
   },
   "outputs": [],
   "source": [
    "from PIL import ImageFilter as ifilter\n",
    "\n",
    "\n",
    "im.filter(ifilter.BLUR)"
   ]
  },
  {
   "cell_type": "code",
   "execution_count": null,
   "metadata": {
    "colab": {
     "base_uri": "https://localhost:8080/",
     "height": 273
    },
    "id": "Vijrwxnso7mB",
    "outputId": "cc5e2e53-0d66-4eb9-b805-e014a90643c7"
   },
   "outputs": [],
   "source": [
    "from PIL import ImageEnhance as Ienh\n",
    "\n",
    "\n",
    "enh = Ienh.Brightness(im)  # Sharpness, Filters и другие\n",
    "enh.enhance(1.9)  # На 90% светлее"
   ]
  },
  {
   "cell_type": "markdown",
   "metadata": {
    "id": "ByNEYXqist1V"
   },
   "source": [
    "# Основы многопоточности. Библиотека asyncio"
   ]
  },
  {
   "cell_type": "markdown",
   "metadata": {
    "id": "po5uR8Xt15tU"
   },
   "source": [
    "**Concurrency** — кооперативная многозадачность\n",
    "\n",
    "**Parallelism** — вытесняющая многозадачность\n",
    "\n",
    "Вытесняющая многозадачность заключается в одновременном выполнении нескольких операций. Многопроцессорность — это средство реализации вытесняющей многозадачности, которое влечет за собой распределение задач по центральным процессорам компьютера (ЦП или ядрам). Сюда же относится многопоточность (multithreading)\n",
    "\n",
    "Многопоточность — это модель параллельного выполнения, при которой несколько потоков по очереди выполняют задачи. Один процесс может содержать несколько потоков. Python имеет сложные отношения с многопоточностью благодаря своему GIL, но это уже совсем другая история.\n",
    "\n",
    "Кооперативная многозадачность — это несколько более широкий термин, чем вытесняющая многозадачность. Это предполагает, что несколько задач могут выполняться перекрывающимся образом.\n",
    "\n",
    "Многопоточность лучше подходит для задач, связанных с вводом-выводом.\n",
    "\n",
    "Стандартная библиотека Python реализует поддержку вытесняющей многозадачности через свои пакеты multiprocessing, threading и concurrent.futures. Это все уровень ОС, она решает когда у какого процесса или потока отобрать управление, а кому его передать.\n",
    "\n",
    "Конкурентная многозадачность -- тип многозадачности, при котором следующая задача выполняется только после того, как текущая задача явно объявит себя готовой отдать процессорное время другим задачам. То есть обеспечивается асинхронное выполнение кода.\n",
    "\n",
    "Асинхронные подпрограммы могут «приостанавливаться», ожидая конечного результата, и тем временем запускать другие подпрограммы.\n",
    "Асинхронный код с помощью описанного выше механизма облегчает параллельное выполнение. Другими словами, асинхронный код создает впечатление параллелизма.\n",
    "\n",
    "![image.png](data:image/png;base64,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)"
   ]
  },
  {
   "cell_type": "markdown",
   "metadata": {
    "id": "u716_DQ840ko"
   },
   "source": [
    "Корутина или сопрограмма — это вид асинхронного генератора"
   ]
  },
  {
   "cell_type": "markdown",
   "metadata": {},
   "source": [
    "## Модуль threading"
   ]
  },
  {
   "cell_type": "code",
   "execution_count": null,
   "metadata": {},
   "outputs": [],
   "source": [
    "import logging\n",
    "import threading\n",
    "import time\n",
    "\n",
    "def thread_function(name):\n",
    "    logging.info(f\"Thread {name}: starting\")\n",
    "    time.sleep(2)\n",
    "    logging.info(f\"Thread {name}: finishing\")\n",
    "\n",
    "if __name__ == \"__main__\":\n",
    "    format = \"%(asctime)s: %(message)s\"\n",
    "    logging.basicConfig(\n",
    "        format=format,\n",
    "        level=logging.INFO,\n",
    "        datefmt=\"%H:%M:%S\"\n",
    "    )\n",
    "\n",
    "    logging.info(\"Main    : before creating thread\")\n",
    "    # x = threading.Thread(target=thread_function, args=(1,))\n",
    "    x = threading.Thread(target=thread_function, args=(1,), daemon=True)\n",
    "    logging.info(\"Main    : before running thread\")\n",
    "    \n",
    "    x.start()\n",
    "    logging.info(\"Main    : wait for the thread to finish\")\n",
    "    # x.join() # Это значит, что поток, должен будет дождаться завершения других потоков\n",
    "    logging.info(\"Main    : all done\")"
   ]
  },
  {
   "cell_type": "markdown",
   "metadata": {},
   "source": [
    "__Демоны__"
   ]
  },
  {
   "cell_type": "markdown",
   "metadata": {},
   "source": [
    "Поток-демон завершается немедленно при закрытии программы. Можно рассматривать демона как поток, который работает в фоновом режиме, не беспокоясь о том, что его завершат.\n",
    "\n",
    "Если программа запущена с потоками, которые не являются демонами, то она будет ждать завершения этих потоков перед завершением. Потоки-демоны, однако, просто уничтожаются в том месте, где они находятся, когда завершается программа."
   ]
  },
  {
   "cell_type": "markdown",
   "metadata": {},
   "source": [
    "__Работа с несколькими потоками__"
   ]
  },
  {
   "cell_type": "markdown",
   "metadata": {},
   "source": [
    "_На обычной машине потоки будут завершаться в произвольном порядке. Это зависит от загруженности ОС (для демонстрации можно увеличить количество потоков)._"
   ]
  },
  {
   "cell_type": "code",
   "execution_count": null,
   "metadata": {},
   "outputs": [],
   "source": [
    "import logging\n",
    "import threading\n",
    "import time\n",
    "\n",
    "def thread_function(name):\n",
    "    logging.info(f\"Thread {name}: starting\")\n",
    "    time.sleep(2)\n",
    "    logging.info(f\"Thread {name}: finishing\")\n",
    "\n",
    "if __name__ == \"__main__\":\n",
    "    format = \"%(asctime)s: %(message)s\"\n",
    "    logging.basicConfig(\n",
    "        format=format,\n",
    "        level=logging.INFO,\n",
    "        datefmt=\"%H:%M:%S\"\n",
    "    )\n",
    "\n",
    "    threads = list()\n",
    "    for index in range(3):\n",
    "        logging.info(f\"Main    : create and start thread {index}.\")\n",
    "        x = threading.Thread(target=thread_function, args=(index,))\n",
    "        threads.append(x)\n",
    "        x.start()\n",
    "\n",
    "    for index, thread in enumerate(threads):\n",
    "        logging.info(f\"Main    : before joining thread {index}.\")\n",
    "        thread.join()\n",
    "        logging.info(f\"Main    : thread {index} done\")"
   ]
  },
  {
   "cell_type": "markdown",
   "metadata": {},
   "source": [
    "__Класс ThreadPoolExecutor__"
   ]
  },
  {
   "cell_type": "markdown",
   "metadata": {},
   "source": [
    "Все потоки объединяются в контекстном менеджере методом `.join()`"
   ]
  },
  {
   "cell_type": "code",
   "execution_count": null,
   "metadata": {},
   "outputs": [],
   "source": [
    "import concurrent.futures\n",
    "\n",
    "# Произвольный код.\n",
    "\n",
    "if __name__ == \"__main__\":\n",
    "    format = \"%(asctime)s: %(message)s\"\n",
    "    logging.basicConfig(\n",
    "        format=format, \n",
    "        level=logging.INFO,\n",
    "        datefmt=\"%H:%M:%S\"\n",
    "    )\n",
    "\n",
    "    with concurrent.futures.ThreadPoolExecutor(max_workers=300) as executor:\n",
    "        executor.map(thread_function, range(300))"
   ]
  },
  {
   "cell_type": "markdown",
   "metadata": {},
   "source": [
    "__Состояние гонки (race condition)__"
   ]
  },
  {
   "cell_type": "markdown",
   "metadata": {},
   "source": [
    "Ошибка проектирования многопоточной системы или приложения, при которой работа системы или приложения зависит от того, в каком порядке выполняются части кода. Своё название ошибка получила от похожей ошибки проектирования электронных схем."
   ]
  },
  {
   "cell_type": "code",
   "execution_count": null,
   "metadata": {},
   "outputs": [],
   "source": [
    "class FakeDatabase:\n",
    "    def __init__(self):\n",
    "        self.value = 0\n",
    "\n",
    "    def update(self, name):\n",
    "        logging.info(f\"Thread {name}: starting update\")\n",
    "        local_copy = self.value\n",
    "        local_copy += 1\n",
    "        time.sleep(0.1)\n",
    "        self.value = local_copy\n",
    "        logging.info(f\"Thread {name}: finishing update\")"
   ]
  },
  {
   "cell_type": "code",
   "execution_count": null,
   "metadata": {},
   "outputs": [],
   "source": [
    "if __name__ == \"__main__\":\n",
    "    format = \"%(asctime)s: %(message)s\"\n",
    "    logging.basicConfig(\n",
    "        format=format, \n",
    "        level=logging.INFO,\n",
    "        datefmt=\"%H:%M:%S\"\n",
    "    )\n",
    "\n",
    "    database = FakeDatabase()\n",
    "    logging.info(f\"Testing update. Starting value is {database.value}.\")\n",
    "    \n",
    "    with concurrent.futures.ThreadPoolExecutor(max_workers=2) as executor:\n",
    "        for index in range(2):\n",
    "            executor.submit(database.update, index)\n",
    "    logging.info(f\"Testing update. Ending value is {database.value}.\")"
   ]
  },
  {
   "cell_type": "markdown",
   "metadata": {},
   "source": [
    "__Класс `Lock` для синхронизации потоков__"
   ]
  },
  {
   "cell_type": "markdown",
   "metadata": {},
   "source": [
    "Класс `Lock` реазлизует мьютекс. Мью́текс (англ. mutex, от mutual exclusion — «взаимное исключение») — примитив синхронизации, обеспечивающий взаимное исключение исполнения критических участков кода."
   ]
  },
  {
   "cell_type": "code",
   "execution_count": null,
   "metadata": {},
   "outputs": [],
   "source": [
    "class FakeDatabase:\n",
    "    def __init__(self):\n",
    "        self.value = 0\n",
    "        self._lock = threading.Lock() # Добавим мьютекс.\n",
    "\n",
    "    def locked_update(self, name):\n",
    "        logging.info(f\"Thread {name}: starting update\")\n",
    "        logging.debug(f\"Thread {name} about to lock\")\n",
    "        \n",
    "        with self._lock:\n",
    "            logging.debug(f\"Thread {name} has lock\")\n",
    "            \n",
    "            local_copy = self.value\n",
    "            local_copy += 1\n",
    "            time.sleep(0.1)\n",
    "            self.value = local_copy\n",
    "            \n",
    "            logging.debug(f\"Thread {name} about to release lock\")\n",
    "        \n",
    "        logging.debug(f\"Thread {name} after release\")\n",
    "        logging.info(f\"Thread {name}: finishing update\")\n",
    "\n",
    "\n",
    "if __name__ == \"__main__\":\n",
    "    format = \"%(asctime)s: %(message)s\"\n",
    "    logging.basicConfig(\n",
    "        format=format,\n",
    "        level=logging.INFO,\n",
    "        datefmt=\"%H:%M:%S\"\n",
    "    )\n",
    "\n",
    "    logging.getLogger().setLevel(logging.DEBUG)\n",
    "\n",
    "    database = FakeDatabase()\n",
    "    logging.info(f\"Testing update. Starting value is {database.value}.\")\n",
    "    \n",
    "    with concurrent.futures.ThreadPoolExecutor(max_workers=2) as executor:\n",
    "        for index in range(2):\n",
    "            executor.submit(database.locked_update, index)\n",
    "    logging.info(f\"Testing update. Ending value is {database.value}.\")"
   ]
  },
  {
   "cell_type": "markdown",
   "metadata": {},
   "source": [
    "__Модель Производитель-Потребитель (Producer-Consumer)__"
   ]
  },
  {
   "cell_type": "code",
   "execution_count": null,
   "metadata": {},
   "outputs": [],
   "source": [
    "import random \n",
    "\n",
    "SENTINEL = object() # Наш \"страж\", специальное сообщение.\n",
    "\n",
    "def producer(pipeline):\n",
    "    \"\"\"Представим, что мы получаем сообщения по сети.\"\"\"\n",
    "    for index in range(10):\n",
    "        message = random.randint(1, 101)\n",
    "        logging.info(f\"Producer got message: {message}\")\n",
    "        pipeline.set_message(message, \"Producer\")\n",
    "\n",
    "    # Отправляем специальное сообщение, чтобы сообщить потребителю, что мы закончили.\n",
    "    pipeline.set_message(SENTINEL, \"Producer\")"
   ]
  },
  {
   "cell_type": "code",
   "execution_count": null,
   "metadata": {},
   "outputs": [],
   "source": [
    "def consumer(pipeline):\n",
    "    \"\"\"Представим, что мы сохраняем числов базе данных.\"\"\"\n",
    "    message = 0\n",
    "    while message is not SENTINEL:\n",
    "        message = pipeline.get_message(\"Consumer\")\n",
    "        if message is not SENTINEL:\n",
    "            logging.info(f\"Consumer storing message: {message}\")"
   ]
  },
  {
   "cell_type": "code",
   "execution_count": null,
   "metadata": {},
   "outputs": [],
   "source": [
    "class Pipeline:\n",
    "    \"\"\"\n",
    "    Класс, позволяющий использовать конвейер из одного элемента между производителем и потребителем\n",
    "    \"\"\"\n",
    "    def __init__(self):\n",
    "        self.message = 0\n",
    "        self.producer_lock = threading.Lock()\n",
    "        self.consumer_lock = threading.Lock()\n",
    "        self.consumer_lock.acquire()\n",
    "\n",
    "    def get_message(self, name):\n",
    "        logging.debug(f\"{name}:about to acquire getlock\")\n",
    "        self.consumer_lock.acquire()\n",
    "        \n",
    "        logging.debug(f\"{name}:have getlock\")\n",
    "        message = self.message\n",
    "        \n",
    "        logging.debug(f\"{name}:about to release setlock\")\n",
    "        self.producer_lock.release()\n",
    "        \n",
    "        logging.debug(f\"{name}:setlock released\")\n",
    "        return message\n",
    "\n",
    "    def set_message(self, message, name):\n",
    "        logging.debug(f\"{name}:about to acquire setlock\")\n",
    "        self.producer_lock.acquire()\n",
    "        \n",
    "        logging.debug(f\"{name}:have setlock\")\n",
    "        self.message = message\n",
    "        \n",
    "        logging.debug(f\"{name}:about to release getlock\")\n",
    "        self.consumer_lock.release()\n",
    "        \n",
    "        logging.debug(f\"{name}:getlock released\")"
   ]
  },
  {
   "cell_type": "code",
   "execution_count": null,
   "metadata": {},
   "outputs": [],
   "source": [
    "if __name__ == \"__main__\":\n",
    "    format = \"%(asctime)s: %(message)s\"\n",
    "    logging.basicConfig(\n",
    "        format=format,\n",
    "        level=logging.INFO,\n",
    "        datefmt=\"%H:%M:%S\"\n",
    "    )\n",
    "    logging.getLogger().setLevel(logging.DEBUG)\n",
    "\n",
    "    pipeline = Pipeline()\n",
    "    with concurrent.futures.ThreadPoolExecutor(max_workers=2) as executor:\n",
    "        executor.submit(producer, pipeline)\n",
    "        executor.submit(consumer, pipeline)"
   ]
  },
  {
   "cell_type": "markdown",
   "metadata": {},
   "source": [
    "__Модель Производитль-Потребитель с очередью__"
   ]
  },
  {
   "cell_type": "markdown",
   "metadata": {},
   "source": [
    "Избавляемся от самописного класса конвейра и глобальной переменной \"стража\""
   ]
  },
  {
   "cell_type": "code",
   "execution_count": null,
   "metadata": {},
   "outputs": [],
   "source": [
    "import concurrent.futures\n",
    "import logging\n",
    "import queue\n",
    "import random\n",
    "import threading\n",
    "import time\n",
    "\n",
    "\n",
    "def producer(queue, event):\n",
    "    \"\"\"Представим, что мы получаем сообщения по сети.\"\"\"\n",
    "    while not event.is_set():\n",
    "        message = random.randint(1, 101)\n",
    "        logging.info(f\"Producer got message: {message}\")\n",
    "        queue.put(message)\n",
    "\n",
    "    logging.info(\"Producer received event. Exiting\")\n",
    "\n",
    "\n",
    "def consumer(queue, event):\n",
    "    \"\"\"Представим, что мы сохраняем числов базе данных.\"\"\"\n",
    "    while not event.is_set() or not queue.empty():\n",
    "        message = queue.get()\n",
    "        logging.info(f\"Consumer storing message: {message} (size={queue.qsize()})\")\n",
    "\n",
    "    logging.info(\"Consumer received event. Exiting\")\n",
    "\n",
    "\n",
    "if __name__ == \"__main__\":\n",
    "    format = \"%(asctime)s: %(message)s\"\n",
    "    logging.basicConfig(\n",
    "        format=format,\n",
    "        level=logging.INFO,\n",
    "        datefmt=\"%H:%M:%S\"\n",
    "    )\n",
    "\n",
    "    pipeline = queue.Queue(maxsize=10)\n",
    "    event = threading.Event() # Объект, который можно создать, когда многие потоки ждут его.\n",
    "    \n",
    "    with concurrent.futures.ThreadPoolExecutor(max_workers=2) as executor:\n",
    "        executor.submit(producer, pipeline, event)\n",
    "        executor.submit(consumer, pipeline, event)\n",
    "\n",
    "        time.sleep(0.1)\n",
    "        logging.info(\"Main: about to set event\")\n",
    "        event.set() # Здесь просто спим немного, после этого создаем событие."
   ]
  },
  {
   "cell_type": "markdown",
   "metadata": {},
   "source": [
    "## Модуль multiprocessing"
   ]
  },
  {
   "cell_type": "code",
   "execution_count": 210,
   "metadata": {},
   "outputs": [
    {
     "name": "stdout",
     "output_type": "stream",
     "text": [
      "Number of cpu: 1\n"
     ]
    }
   ],
   "source": [
    "import multiprocessing\n",
    "\n",
    "print(f\"Number of cpu: {multiprocessing.cpu_count()}\")"
   ]
  },
  {
   "cell_type": "code",
   "execution_count": 211,
   "metadata": {},
   "outputs": [
    {
     "name": "stdout",
     "output_type": "stream",
     "text": [
      "Название континента: Европа\n",
      "Название континента: Америка\n",
      "\n",
      "Название континента: Европа\n",
      "\n",
      "\n",
      "Название континента: Африка\n",
      "\n"
     ]
    }
   ],
   "source": [
    "from multiprocessing import Process\n",
    "\n",
    "\n",
    "def print_func(continent=\"Европа\"):\n",
    "    print(f\"Название континента: {continent}\\n\")\n",
    "\n",
    "\n",
    "if __name__ == \"__main__\":\n",
    "    names = [\"Америка\", \"Европа\", \"Африка\"]\n",
    "    \n",
    "    procs = []\n",
    "    proc = Process(target=print_func)  #  Создаем объект процесса без аргументов.\n",
    "    procs.append(proc)\n",
    "    proc.start()\n",
    "\n",
    "    # Создаем объекты процессов с аргументами.\n",
    "    for name in names:\n",
    "        # print(name)\n",
    "        proc = Process(target=print_func, args=(name,))\n",
    "        procs.append(proc)\n",
    "        proc.start()\n",
    "\n",
    "    # Как и с потоками ждем, когда все процессы завершатся.\n",
    "    for proc in procs:\n",
    "        proc.join()"
   ]
  },
  {
   "cell_type": "markdown",
   "metadata": {},
   "source": [
    "Очереди работают также, как и с потоками"
   ]
  },
  {
   "cell_type": "code",
   "execution_count": 212,
   "metadata": {},
   "outputs": [
    {
     "name": "stdout",
     "output_type": "stream",
     "text": [
      "Помещаем объекты в очередь...\n",
      "Номер объекта: 1, цвет красный\n",
      "Номер объекта: 1, цвет зеленый\n",
      "Номер объекта: 1, цвет синий\n",
      "Номер объекта: 1, цвет черный\n",
      "\n",
      "Забираем объекты из очереди:\n"
     ]
    }
   ],
   "source": [
    "from multiprocessing import Queue\n",
    "\n",
    "\n",
    "colors = [\"красный\", \"зеленый\", \"синий\", \"черный\"]\n",
    "\n",
    "queue = Queue()\n",
    "print(\"Помещаем объекты в очередь...\")\n",
    "\n",
    "counter = 0\n",
    "for color in colors:\n",
    "    print(f\"Номер объекта: {counter + 1}, цвет {color}\")\n",
    "    queue.put(color)\n",
    "\n",
    "print(\"\\nЗабираем объекты из очереди:\")\n",
    "\n",
    "counter = 0\n",
    "while not queue.empty():\n",
    "    print(f\"Номер объекта: {counter + 1}, цвет {queue.get()}\")\n",
    "    counter += 1"
   ]
  },
  {
   "cell_type": "markdown",
   "metadata": {},
   "source": [
    "Класс Pool может использоваться для параллельного выполнения функции на нескольких входных значениях, распределяя входные данные по процессам (параллелизм данных)"
   ]
  },
  {
   "cell_type": "code",
   "execution_count": 215,
   "metadata": {},
   "outputs": [
    {
     "name": "stdout",
     "output_type": "stream",
     "text": [
      "Обрабатываем D, ждем 3 секунд.\n",
      "Обрабатываем B, ждем 2 секунд.\n",
      "Обрабатываем C, ждем 1 секунд.\n",
      "Обрабатываем A, ждем 5 секунд.\n",
      "\n",
      "\n",
      "\n",
      "\n",
      "Процесс C завершен.\n",
      "Процесс B завершен.\n",
      "Процесс D завершен.\n",
      "Процесс A завершен.\n"
     ]
    }
   ],
   "source": [
    "from multiprocessing import Pool\n",
    "\n",
    "import time\n",
    "\n",
    "\n",
    "tasks = [\n",
    "    {\"name\": \"A\", \"time\": 5}, \n",
    "    {\"name\": \"B\", \"time\": 2}, \n",
    "    {\"name\": \"C\", \"time\": 1}, \n",
    "    {\"name\": \"D\", \"time\": 3}\n",
    "]\n",
    "\n",
    "\n",
    "def log(task):\n",
    "    print(f\"Обрабатываем {task['name']}, ждем {task['time']} секунд.\\n\")\n",
    "    time.sleep(int(task[\"time\"]))\n",
    "    print(f\"Процесс {task['name']} завершен.\")\n",
    "\n",
    "\n",
    "def pool_handler():\n",
    "    p = Pool(40)\n",
    "    p.map(log, tasks)\n",
    "\n",
    "\n",
    "if __name__ == '__main__':\n",
    "    pool_handler()"
   ]
  },
  {
   "cell_type": "markdown",
   "metadata": {},
   "source": [
    "## Модуль asyncio"
   ]
  },
  {
   "cell_type": "code",
   "execution_count": 217,
   "metadata": {
    "colab": {
     "base_uri": "https://localhost:8080/"
    },
    "id": "mflW6MIptExq",
    "outputId": "3b79169e-6305-483a-bc14-6bff7e0e8977"
   },
   "outputs": [
    {
     "name": "stdout",
     "output_type": "stream",
     "text": [
      "One\n",
      "One\n",
      "One\n",
      "Two\n",
      "Two\n",
      "Two\n",
      "Executed in 1.00185284 seconds.\n"
     ]
    }
   ],
   "source": [
    "# !pip install nest_asyncio > /dev/null 2>&1\n",
    "\n",
    "import time\n",
    "import asyncio\n",
    "# import nest_asyncio  # Эта библиотека нужна только для google colab.\n",
    "\n",
    "\n",
    "# nest_asyncio.apply()  # Этот вызов тоже.\n",
    "\n",
    "\n",
    "async def count():\n",
    "    print('One')\n",
    "    await asyncio.sleep(1)\n",
    "    print('Two')\n",
    "\n",
    "\n",
    "async def main():\n",
    "    await asyncio.gather(count(), count(), count())\n",
    "\n",
    "\n",
    "if __name__ == '__main__':\n",
    "\n",
    "    s = time.perf_counter()\n",
    "    asyncio.run(main())\n",
    "    elapsed = time.perf_counter() - s\n",
    "\n",
    "    print(f'Executed in {elapsed:0.8f} seconds.')"
   ]
  },
  {
   "cell_type": "markdown",
   "metadata": {
    "id": "xljMh9f9vDZL"
   },
   "source": [
    "Сравним это с синхронной версией:"
   ]
  },
  {
   "cell_type": "code",
   "execution_count": 219,
   "metadata": {
    "colab": {
     "base_uri": "https://localhost:8080/"
    },
    "id": "51mE3ZPcvDEe",
    "outputId": "35c55ed6-2083-4313-ddfc-a0ca7e96897f"
   },
   "outputs": [
    {
     "name": "stdout",
     "output_type": "stream",
     "text": [
      "One\n",
      "Two\n",
      "One\n",
      "Two\n",
      "One\n",
      "Two\n",
      "Executed in 3.00370409 seconds.\n"
     ]
    }
   ],
   "source": [
    "import time\n",
    "\n",
    "\n",
    "def count():\n",
    "    print('One')\n",
    "    time.sleep(1)\n",
    "    print('Two')\n",
    "\n",
    "\n",
    "def main():\n",
    "    for _ in range(3):\n",
    "        count()\n",
    "\n",
    "\n",
    "if __name__ == '__main__':\n",
    "    s = time.perf_counter()\n",
    "    main()\n",
    "    elapsed = time.perf_counter() - s\n",
    "    print(f'Executed in {elapsed:0.8f} seconds.')"
   ]
  },
  {
   "cell_type": "markdown",
   "metadata": {
    "id": "ihhltGqW5luL"
   },
   "source": [
    "**Правила асинхронного ввода-вывода**\n",
    "\n",
    "*  Синтаксис `async def` вводит либо собственную сопрограмму, либо асинхронный генератор. Выражения `async with` и `async for` также допустимы.\n",
    "\n",
    "*  Ключевое слово `await` передает управление функцией обратно в цикл обработки событий (event loop). Если Python встречает выражение `await f()` в области видимости `g(`), то ключевое слово `await` сообщает циклу обработки событий (event loop): «Приостановить выполнение `g()` до тех пор, пока не произойдет то, чего я жду (возврат результата `f()`), а пока пусть работает что-то еще, чтобы ресурсы зря не простаивали».\n",
    "\n",
    "В коде этот второй пункт выглядит примерно так:"
   ]
  },
  {
   "cell_type": "code",
   "execution_count": null,
   "metadata": {
    "id": "nEzzEtis_ruj"
   },
   "outputs": [],
   "source": [
    "async def g():\n",
    "    # Сделать паузу здесь и вернуться к g(), когда будет готов результат f()\n",
    "    r = await f()\n",
    "    return r"
   ]
  },
  {
   "cell_type": "markdown",
   "metadata": {
    "id": "2YZHWJxL_3Ng"
   },
   "source": [
    "Примеры правильного и неправильного синтаксиса"
   ]
  },
  {
   "cell_type": "code",
   "execution_count": null,
   "metadata": {
    "id": "hlbRGF1t__a1"
   },
   "outputs": [],
   "source": [
    "async def f(x):\n",
    "    y = await z(x)  # Правильно, `await` и `return` можно использовать в\n",
    "                    # в корутинах (сопрограммах), как `yield`\n",
    "    return y\n",
    "\n",
    "\n",
    "async def g(x):\n",
    "    yield x  # Правильно, здесь просто асинхронный генератор\n",
    "\n",
    "\n",
    "async def m(x):\n",
    "    yield from gen(x)  # Ошибка SyntaxError\n",
    "\n",
    "\n",
    "def m(x):\n",
    "    y = await z(x)  # Ошибка SyntaxError (нет указания `async def`)\n",
    "    return y"
   ]
  },
  {
   "cell_type": "code",
   "execution_count": 221,
   "metadata": {
    "colab": {
     "base_uri": "https://localhost:8080/"
    },
    "id": "L_74Qb-1vnbr",
    "outputId": "0b491c56-dfe4-4aa8-fd4b-c5f8cf9511e4"
   },
   "outputs": [
    {
     "name": "stdout",
     "output_type": "stream",
     "text": [
      "\u001b[36mЗапускаем генератор случайных чисел (0).\n",
      "\u001b[36mРезультат makerandom(0) == 3 меньше порогового значения 9; повтор.\n",
      "\u001b[91mЗапускаем генератор случайных чисел (1).\n",
      "\u001b[91mРезультат makerandom(1) == 4 меньше порогового значения 8; повтор.\n",
      "\u001b[32mЗапускаем генератор случайных чисел (2).\n",
      "\u001b[32mРезультат makerandom(2) == 2 меньше порогового значения 7; повтор.\n",
      "\u001b[36mРезультат makerandom(0) == 2 меньше порогового значения 9; повтор.\n",
      "\u001b[91m---> Завершено выполнение makerandom(1) == 8.\u001b[0m\n",
      "\u001b[36mРезультат makerandom(0) == 1 меньше порогового значения 9; повтор.\n",
      "\u001b[32mРезультат makerandom(2) == 2 меньше порогового значения 7; повтор.\n",
      "\u001b[36mРезультат makerandom(0) == 4 меньше порогового значения 9; повтор.\n",
      "\u001b[36mРезультат makerandom(0) == 6 меньше порогового значения 9; повтор.\n",
      "\u001b[36mРезультат makerandom(0) == 3 меньше порогового значения 9; повтор.\n",
      "\u001b[32m---> Завершено выполнение makerandom(2) == 8.\u001b[0m\n",
      "\u001b[36mРезультат makerandom(0) == 4 меньше порогового значения 9; повтор.\n",
      "\u001b[36m---> Завершено выполнение makerandom(0) == 9.\u001b[0m\n",
      "\n",
      "r1: 9, r2: 8, r3: 8\n"
     ]
    }
   ],
   "source": [
    "import asyncio\n",
    "import random\n",
    "# import nest_asyncio  # Эта библиотека нужна только для google colab.\n",
    "\n",
    "\n",
    "# nest_asyncio.apply()  # Этот вызов тоже.\n",
    "\n",
    "# ANSI цвета для раскраски терминала\n",
    "COLORS = (\n",
    "    '\\033[36m',  # голубой\n",
    "    '\\033[91m',  # красный\n",
    "    '\\033[32m',  # зеленый\n",
    ")\n",
    "ENDC = '\\033[0m' # escape последовательность \"сборосить цвет\"\n",
    "\n",
    "async def makerandom(idx: int, threshold: int = 6) -> int:\n",
    "    color = COLORS[idx]\n",
    "    print(f'{color}Запускаем генератор случайных чисел ({idx}).')\n",
    "\n",
    "    i = random.randint(0, 10)\n",
    "    while i < threshold:\n",
    "        print(\n",
    "            f'{color}Результат makerandom({idx}) == {i} '\n",
    "            f'меньше порогового значения {threshold}; повтор.'\n",
    "        )\n",
    "        await asyncio.sleep(idx + 1)\n",
    "        i = random.randint(0, 10)\n",
    "\n",
    "    print(f'{color}---> Завершено выполнение makerandom({idx}) == {i}.{ENDC}')\n",
    "    return i\n",
    "\n",
    "async def main():\n",
    "    res = await asyncio.gather(*(makerandom(i, 10 - i - 1) for i in range(3)))\n",
    "    return res\n",
    "\n",
    "if __name__ == '__main__':\n",
    "    random.seed(555)\n",
    "    r1, r2, r3 = asyncio.run(main())\n",
    "    print(f'\\nr1: {r1}, r2: {r2}, r3: {r3}')"
   ]
  },
  {
   "cell_type": "markdown",
   "metadata": {},
   "source": [
    "__Пример с очередью__"
   ]
  },
  {
   "cell_type": "code",
   "execution_count": 222,
   "metadata": {},
   "outputs": [
    {
     "name": "stdout",
     "output_type": "stream",
     "text": [
      "Производитель 0 ждет 4 секунд.\n",
      "Производитель 2 ждет 7 секунд.\n",
      "Производитель 3 ждет 4 секунд.\n",
      "Производитель 4 ждет 10 секунд.\n",
      "Потребитель 0 ждет 7 секунд.\n",
      "Потребитель 1 ждет 8 секунд.\n",
      "Потребитель 2 ждет 4 секунд.\n",
      "Потребитель 3 ждет 7 секунд.\n",
      "Потребитель 4 ждет 1 секунд.\n",
      "Потребитель 5 ждет 6 секунд.\n",
      "Потребитель 6 ждет 9 секунд.\n",
      "Потребитель 7 ждет 3 секунд.\n",
      "Потребитель 8 ждет 9 секунд.\n",
      "Потребитель 9 ждет 7 секунд.\n",
      "Производитель 0 добавил <1e6e1aedc9> в очередь.\n",
      "Производитель 0 ждет 10 секунд.\n",
      "Производитель 3 добавил <b0fc64a543> в очередь.\n",
      "Производитель 3 ждет 0 секунд.\n",
      "Потребитель 2 взял элемент <1e6e1aedc9> за 0.00045 секунд.\n",
      "Потребитель 2 ждет 1 секунд.\n",
      "Потребитель 4 взял элемент <b0fc64a543> за 0.00010 секунд.\n",
      "Потребитель 4 ждет 0 секунд.\n",
      "Производитель 3 добавил <89a63c0215> в очередь.\n",
      "Производитель 3 ждет 1 секунд.\n",
      "Потребитель 4 взял элемент <89a63c0215> за 0.00006 секунд.\n",
      "Потребитель 4 ждет 9 секунд.\n",
      "Производитель 3 добавил <a2cebae6ff> в очередь.\n",
      "Производитель 3 ждет 0 секунд.\n",
      "Потребитель 7 взял элемент <a2cebae6ff> за 0.00032 секунд.\n",
      "Потребитель 7 ждет 5 секунд.\n",
      "Производитель 3 добавил <ea421c5684> в очередь.\n",
      "Потребитель 2 взял элемент <ea421c5684> за 0.00004 секунд.\n",
      "Потребитель 2 ждет 10 секунд.\n",
      "Производитель 2 добавил <d2a1412ad2> в очередь.\n",
      "Производитель 2 ждет 5 секунд.\n",
      "Потребитель 0 взял элемент <d2a1412ad2> за 0.00018 секунд.\n",
      "Потребитель 0 ждет 8 секунд.\n",
      "Производитель 4 добавил <ac7bec6303> в очередь.\n",
      "Производитель 4 ждет 2 секунд.\n",
      "Потребитель 3 взял элемент <ac7bec6303> за 0.00016 секунд.\n",
      "Потребитель 3 ждет 5 секунд.\n",
      "Производитель 2 добавил <5b6f33bc30> в очередь.\n",
      "Производитель 2 ждет 5 секунд.\n",
      "Производитель 4 добавил <fd1a917025> в очередь.\n",
      "Производитель 4 ждет 0 секунд.\n",
      "Потребитель 9 взял элемент <5b6f33bc30> за 0.00053 секунд.\n",
      "Потребитель 9 ждет 3 секунд.\n",
      "Потребитель 5 взял элемент <fd1a917025> за 0.00040 секунд.\n",
      "Потребитель 5 ждет 1 секунд.\n",
      "Производитель 4 добавил <21bd26ca64> в очередь.\n",
      "Производитель 4 ждет 5 секунд.\n",
      "Потребитель 1 взял элемент <21bd26ca64> за 0.00005 секунд.\n",
      "Потребитель 1 ждет 6 секунд.\n",
      "Производитель 0 добавил <91ce997ec4> в очередь.\n",
      "Производитель 0 ждет 10 секунд.\n",
      "Потребитель 6 взял элемент <91ce997ec4> за 0.00018 секунд.\n",
      "Потребитель 6 ждет 5 секунд.\n",
      "Производитель 2 добавил <f2800bb871> в очередь.\n",
      "Производитель 2 ждет 6 секунд.\n",
      "Производитель 4 добавил <9762e53cdc> в очередь.\n",
      "Производитель 4 ждет 4 секунд.\n",
      "Потребитель 8 взял элемент <f2800bb871> за 0.00025 секунд.\n",
      "Потребитель 8 ждет 10 секунд.\n",
      "Потребитель 7 взял элемент <9762e53cdc> за 0.00011 секунд.\n",
      "Потребитель 7 ждет 8 секунд.\n",
      "Производитель 4 добавил <374732baa2> в очередь.\n",
      "Производитель 4 ждет 10 секунд.\n",
      "Потребитель 4 взял элемент <374732baa2> за 0.00018 секунд.\n",
      "Потребитель 4 ждет 10 секунд.\n",
      "Производитель 2 добавил <97f68613c4> в очередь.\n",
      "Потребитель 5 взял элемент <97f68613c4> за 0.00011 секунд.\n",
      "Потребитель 5 ждет 7 секунд.\n",
      "Производитель 0 добавил <2b001010e3> в очередь.\n",
      "Производитель 0 ждет 6 секунд.\n",
      "Потребитель 0 взял элемент <2b001010e3> за 0.00037 секунд.\n",
      "Потребитель 0 ждет 8 секунд.\n",
      "Производитель 0 добавил <c3c05b6945> в очередь.\n",
      "Потребитель 3 взял элемент <c3c05b6945> за 0.00014 секунд.\n",
      "Потребитель 3 ждет 3 секунд.\n",
      "Производитель 4 добавил <d3be213a07> в очередь.\n",
      "Производитель 4 ждет 6 секунд.\n",
      "Потребитель 4 взял элемент <d3be213a07> за 0.00020 секунд.\n",
      "Потребитель 4 ждет 9 секунд.\n",
      "Производитель 4 добавил <f5b87b9af0> в очередь.\n",
      "Производитель 4 ждет 3 секунд.\n",
      "Потребитель 9 взял элемент <f5b87b9af0> за 0.00019 секунд.\n",
      "Потребитель 9 ждет 2 секунд.\n",
      "Производитель 4 добавил <70b0755300> в очередь.\n",
      "Потребитель 1 взял элемент <70b0755300> за 0.00016 секунд.\n",
      "Потребитель 1 ждет 10 секунд.\n",
      "Программа завершена за 40.03490 секунд.\n"
     ]
    }
   ],
   "source": [
    "import asyncio\n",
    "import itertools as it\n",
    "import os\n",
    "import random\n",
    "import time\n",
    "# import nest_asyncio  # Эта библиотека нужна только для google colab.\n",
    "\n",
    "# nest_asyncio.apply()  # Этот вызов тоже.\n",
    "\n",
    "\n",
    "async def makeitem(size: int = 5) -> str:\n",
    "    return os.urandom(size).hex()  # Более быстрый системны вызов, когда псевдослучайное число\n",
    "                                   # нужно не для криптографии.\n",
    "\n",
    "\n",
    "async def randsleep(caller=None) -> None:\n",
    "    i = random.randint(0, 10)\n",
    "    if caller:\n",
    "        print(f\"{caller} ждет {i} секунд.\")\n",
    "    await asyncio.sleep(i)\n",
    "\n",
    "\n",
    "async def produce(name: int, q: asyncio.Queue) -> None:\n",
    "    n = random.randint(0, 10)\n",
    "    # for _ in it.repeat(None, n): # Хак по созданию пустого цикла for\n",
    "    for _ in range(n): #  Синхронный цикл для каждого производителя\n",
    "        await randsleep(caller=f\"Производитель {name}\")\n",
    "        \n",
    "        i = await makeitem()\n",
    "        t = time.perf_counter()\n",
    "        \n",
    "        await q.put((i, t))\n",
    "        print(f\"Производитель {name} добавил <{i}> в очередь.\")\n",
    "\n",
    "\n",
    "async def consume(name: int, q: asyncio.Queue) -> None:\n",
    "    while True:\n",
    "        await randsleep(caller=f\"Потребитель {name}\")\n",
    "        i, t = await q.get()\n",
    "        \n",
    "        now = time.perf_counter()\n",
    "        print(f\"Потребитель {name} взял элемент <{i}> за {now-t:0.5f} секунд.\")\n",
    "        \n",
    "        q.task_done()\n",
    "\n",
    "\n",
    "async def main(nprod: int, ncon: int):\n",
    "    q = asyncio.Queue()\n",
    "    \n",
    "    producers = [asyncio.create_task(produce(n, q)) for n in range(nprod)]\n",
    "    consumers = [asyncio.create_task(consume(n, q)) for n in range(ncon)]\n",
    "    \n",
    "    await asyncio.gather(*producers) # Это наша коллекция корутин.\n",
    "    await q.join()  # \"Как бы\" ждем потребителей.\n",
    "    \n",
    "    for c in consumers:\n",
    "        c.cancel()\n",
    "\n",
    "if __name__ == \"__main__\":\n",
    "    random.seed(444)\n",
    "    \n",
    "    start = time.perf_counter()\n",
    "    asyncio.run(main(nprod=5, ncon=10))\n",
    "    elapsed = time.perf_counter() - start\n",
    "    \n",
    "    print(f\"Программа завершена за {elapsed:0.5f} секунд.\")"
   ]
  },
  {
   "cell_type": "markdown",
   "metadata": {},
   "source": [
    "Корутины основаны на генераторах"
   ]
  },
  {
   "cell_type": "code",
   "execution_count": 223,
   "metadata": {},
   "outputs": [
    {
     "ename": "AttributeError",
     "evalue": "module 'asyncio' has no attribute 'coroutine'",
     "output_type": "error",
     "traceback": [
      "\u001b[0;31m---------------------------------------------------------------------------\u001b[0m",
      "\u001b[0;31mAttributeError\u001b[0m                            Traceback (most recent call last)",
      "Cell \u001b[0;32mIn[223], line 4\u001b[0m\n\u001b[1;32m      1\u001b[0m \u001b[38;5;28;01mimport\u001b[39;00m \u001b[38;5;21;01masyncio\u001b[39;00m\n\u001b[0;32m----> 4\u001b[0m \u001b[38;5;129m@asyncio\u001b[39m\u001b[38;5;241;43m.\u001b[39;49m\u001b[43mcoroutine\u001b[49m\n\u001b[1;32m      5\u001b[0m \u001b[38;5;28;01mdef\u001b[39;00m \u001b[38;5;21mpy34_coro\u001b[39m():\n\u001b[1;32m      6\u001b[0m \u001b[38;5;250m    \u001b[39m\u001b[38;5;124;03m\"\"\"Корутина-генератор из версии 3.4\"\"\"\u001b[39;00m\n\u001b[1;32m      7\u001b[0m     \u001b[38;5;66;03m# Не нужно создавать их самостоятельно,\u001b[39;00m\n\u001b[1;32m      8\u001b[0m     \u001b[38;5;66;03m# но важно знать, что они собой представляют.\u001b[39;00m\n",
      "\u001b[0;31mAttributeError\u001b[0m: module 'asyncio' has no attribute 'coroutine'"
     ]
    }
   ],
   "source": [
    "import asyncio\n",
    "\n",
    "\n",
    "@asyncio.coroutine\n",
    "def py34_coro():\n",
    "    \"\"\"Корутина-генератор из версии 3.4\"\"\"\n",
    "    # Не нужно создавать их самостоятельно,\n",
    "    # но важно знать, что они собой представляют.\n",
    "    s = yield from stuff()\n",
    "    return s\n",
    "\n",
    "\n",
    "async def py35_coro():\n",
    "    \"\"\"Современный синтаксис, часть языка с версии 3.5\"\"\"\n",
    "    s = await stuff()\n",
    "    return s\n",
    "\n",
    "\n",
    "async def stuff():\n",
    "    return 0x10, 0x20, 0x30"
   ]
  },
  {
   "cell_type": "markdown",
   "metadata": {},
   "source": [
    "`async for`, асинхронные генераторы и включения (comprehensions)"
   ]
  },
  {
   "cell_type": "code",
   "execution_count": 224,
   "metadata": {},
   "outputs": [
    {
     "name": "stdout",
     "output_type": "stream",
     "text": [
      "[1, 2, 4, 8, 16, 32, 64, 128, 256, 512]\n",
      "[1, 2, 16, 32, 256, 512]\n"
     ]
    }
   ],
   "source": [
    "async def mygen(u: int = 10):\n",
    "     \"\"\"Генерируем степени двойки.\"\"\"\n",
    "     i = 0\n",
    "     while i < u:\n",
    "         yield 2 ** i\n",
    "         i += 1\n",
    "         await asyncio.sleep(0.1)\n",
    "\n",
    "\n",
    "async def main():\n",
    "    # Это не кооперативная многозадачность.\n",
    "    # Просто демонстрация синтаксиса.\n",
    "    g = [i async for i in mygen()]\n",
    "    f = [j async for j in mygen() if not (j // 3 % 5)]\n",
    "    return g, f\n",
    "\n",
    "\n",
    "g, f = asyncio.run(main())\n",
    "print(g)\n",
    "print(f)"
   ]
  },
  {
   "cell_type": "markdown",
   "metadata": {},
   "source": [
    "Это важное отличие: ни асинхронные генераторы, ни асинхронные выражения не делают итерацию конкурентной. Все, что они делают, это предоставляют синтаксис их синхронных аналогов, но с возможностью для цикла отказаться от контроля в пользу цикла событий (event loop) для выполнения какой-либо другой сопрограммы.\r\n",
    "\r\n",
    "Другими словами, асинхронные итераторы и асинхронные генераторы не предназначены для одновременного применения какой-либо функции к последовательности или итератору. и нужныны для того, чтобы позволить окружающей сопрограмме дать возможность другим задачаполучить управлениедь. Операторы async for и async with необходимы только в той мере, в которой использование обычных for или with нарушило бы природу await в сопрограмме. Понимание этого различия между асинхронностью и конкурентностью является ключевым."
   ]
  },
  {
   "cell_type": "code",
   "execution_count": 225,
   "metadata": {},
   "outputs": [
    {
     "data": {
      "text/plain": [
       "22"
      ]
     },
     "execution_count": 225,
     "metadata": {},
     "output_type": "execute_result"
    },
    {
     "name": "stderr",
     "output_type": "stream",
     "text": [
      "15:04:49: Ошибка aiohttp https://www.politico.com/tipsheets/morning-money [None]: None\n",
      "15:04:49: Получен ответ [200] от URL: https://www.ietf.org/rfc/rfc2616.txt\n",
      "15:04:49: Найдено 0 ссылок для https://www.ietf.org/rfc/rfc2616.txt\n",
      "15:04:49: Ошибка aiohttp https://docs.python.org/3/this-url-will-404.html [None]: None\n",
      "15:04:49: Получен ответ [200] от URL: https://regex101.com/\n",
      "15:04:49: Найдено 66 ссылок для https://regex101.com/\n",
      "15:04:49: Получен ответ [200] от URL: https://1.1.1.1/\n",
      "15:04:49: Найдено 36 ссылок для https://1.1.1.1/\n",
      "15:04:49: Записаны результаты поиска для URL: https://1.1.1.1/\n",
      "15:04:49: Записаны результаты поиска для URL: https://regex101.com/\n",
      "15:04:49: Получен ответ [200] от URL: https://www.bloomberg.com/markets/economics\n",
      "15:04:49: Найдено 2 ссылок для https://www.bloomberg.com/markets/economics\n",
      "15:04:49: Получен ответ [200] от URL: https://www.mediamatters.org/\n",
      "15:04:49: Записаны результаты поиска для URL: https://www.bloomberg.com/markets/economics\n",
      "15:04:49: Найдено 86 ссылок для https://www.mediamatters.org/\n",
      "15:04:49: Записаны результаты поиска для URL: https://www.mediamatters.org/\n",
      "15:04:50: Ошибка aiohttp https://www.nytimes.com/guides/ [None]: None\n"
     ]
    }
   ],
   "source": [
    "!pip install aiohttp aiofiles > /dev/null 2>&1\n",
    "\n",
    "import re\n",
    "import sys\n",
    "import asyncio\n",
    "import logging\n",
    "import pathlib\n",
    "\n",
    "from typing import IO\n",
    "\n",
    "import aiofiles\n",
    "import aiohttp\n",
    "import urllib.error\n",
    "import urllib.parse\n",
    "\n",
    "from aiohttp import ClientSession\n",
    "\n",
    "\n",
    "logging.basicConfig(\n",
    "    format=\"%(asctime)s %(levelname)s:%(name)s: %(message)s\",\n",
    "    level=logging.DEBUG,\n",
    "    datefmt=\"%H:%M:%S\",\n",
    "    stream=sys.stderr,\n",
    ")\n",
    "logger = logging.getLogger(\"areq\")\n",
    "logging.getLogger(\"chardet.charsetprober\").disabled = True\n",
    "\n",
    "HREF_RE = re.compile(r'href=\"(.*?)\"')\n",
    "\n",
    "\n",
    "async def fetch_html(url: str, session: ClientSession, **kwargs) -> str:\n",
    "    resp = await session.request(method=\"GET\", url=url, **kwargs)\n",
    "    resp.raise_for_status()\n",
    "    logger.info(\"Получен ответ [%s] от URL: %s\", resp.status, url)\n",
    "    html = await resp.text()\n",
    "    \n",
    "    return html\n",
    "\n",
    "\n",
    "async def parse(url: str, session: ClientSession, **kwargs) -> set:\n",
    "    found = set()\n",
    "    try:\n",
    "        html = await fetch_html(url=url, session=session, **kwargs)\n",
    "    except (\n",
    "        aiohttp.ClientError,\n",
    "        aiohttp.http_exceptions.HttpProcessingError,\n",
    "    ) as e:\n",
    "        logger.error(\n",
    "            \"Ошибка aiohttp %s [%s]: %s\",\n",
    "            url,\n",
    "            getattr(e, \"статус\", None),\n",
    "            getattr(e, \"сообщение\", None),\n",
    "        )\n",
    "    except Exception as e:\n",
    "        logger.exception(\n",
    "            \"Произвошла ошибка, не относящаяся к библиотеке aiohttp:  %s\", \n",
    "            getattr(e, \"__dict__\", {})\n",
    "        )\n",
    "    else:\n",
    "        for link in HREF_RE.findall(html):\n",
    "            try:\n",
    "                abslink = urllib.parse.urljoin(url, link)\n",
    "            except (urllib.error.URLError, ValueError):\n",
    "                logger.exception(\"Ошибка при парсинге URL: %s\", link)\n",
    "                pass\n",
    "            else:\n",
    "                found.add(abslink)\n",
    "        logger.info(\"Найдено %d ссылок для %s\", len(found), url)\n",
    "    finally:\n",
    "        return found\n",
    "\n",
    "\n",
    "async def write_one(file: IO, url: str, **kwargs) -> None:\n",
    "    \"\"\"Записать найденные атрибуты HREF из `url` в `file`.\"\"\"\n",
    "    res = await parse(url=url, **kwargs)\n",
    "    if not res:\n",
    "        return None\n",
    "    async with aiofiles.open(file, \"a\") as f:\n",
    "        for p in res:\n",
    "            await f.write(f\"{url}\\t{p}\\n\")\n",
    "        logger.info(\"Записаны результаты поиска для URL: %s\", url)\n",
    "\n",
    "\n",
    "async def bulk_crawl_and_write(file: IO, urls: set, **kwargs) -> None:\n",
    "    \"\"\"Просмотр и запись кооперативно в один `file` для множества `url`.\"\"\"\n",
    "    async with ClientSession() as session:\n",
    "        tasks = []\n",
    "        for url in urls:\n",
    "            tasks.append(\n",
    "                write_one(file=file, url=url, session=session, **kwargs)\n",
    "            )\n",
    "        await asyncio.gather(*tasks)\n",
    "\n",
    "\n",
    "if __name__ == \"__main__\":\n",
    "    assert sys.version_info >= (3, 7), \"Для запуска скрипта нужен Python 3.7+.\"\n",
    "    \n",
    "    here = pathlib.Path()\n",
    "    with open(here.joinpath(\"urls.txt\")) as infile:\n",
    "        urls = set(map(str.strip, infile))\n",
    "\n",
    "    outpath = here.joinpath(\"foundurls.txt\")\n",
    "    with open(outpath, \"w\") as outfile:\n",
    "        outfile.write(\"source_url\\tparsed_url\\n\")\n",
    "\n",
    "    asyncio.run(bulk_crawl_and_write(file=outpath, urls=urls))"
   ]
  },
  {
   "cell_type": "markdown",
   "metadata": {
    "id": "n7tQufEHA3lt"
   },
   "source": [
    "Продолжение здесь: https://realpython.com/async-io-python/"
   ]
  },
  {
   "cell_type": "markdown",
   "metadata": {
    "id": "YaWU7agbA60m"
   },
   "source": [
    "# Литература и дополнительные материалы\n",
    "\n",
    "Итернет-ресурсы:\n",
    "\n",
    "1.   [`github.com/vinta/awesome-python`](https://github.com/vinta/awesome-python)\n",
    "2.   [`pythoncheatsheet.org`](https://pythoncheatsheet.org)\n",
    "3.   [`realpython.com`](https://realpython.com)\n",
    "4.   [`github.com/huangsam/ultimate-python` (примеры кода) ](https://github.com/huangsam/ultimate-python)\n",
    "5.   [`geeksforgeeks.org/python-programming-language/`](https://geeksforgeeks.org/python-programming-language/)\n",
    "\n",
    "Книги:\n",
    "\n",
    "1.   [Марк Лутц. Изучаем Python, том 1. 5-е издание](https://disk.yandex.ru/i/sFJob6dKSLtINQ)\n",
    "2.   [Марк Лутц. Изучаем Python, том 2. 5-е издание](https://disk.yandex.ru/i/wtmWm2W4uHHJOw)\n",
    "3.   [Inside The Python Virtual Machine](https://disk.yandex.ru/i/SgodzyOGqhlT3Q)\n",
    "4.   [Начинаем программировать на Python. 5-е издание](https://disk.yandex.ru/i/UEKyTqFJdSTpaw)\n",
    "5.   [The Python 3 Standard Library by Example](https://disk.yandex.ru/i/-IlorRzgkjq18g)\n",
    "6.   [MATH ADVENTURES WITH PYTHON](https://disk.yandex.ru/i/bv0D5cx_YW6AGA)\n",
    "7.   [Python Tricks: The Book](https://disk.yandex.ru/i/sY9nHNOz6Gaypg)\n",
    "8.   [Applying Math with Python](https://disk.yandex.ru/i/-I0eAZ3ciQOfpQ)\n",
    "9.   [Глубокое обучение на Python](https://disk.yandex.ru/i/WDSgon8j87huOw)\n",
    "10.  [Advanced Guide to Python 3 Programming](https://disk.yandex.ru/i/Gsj4sY6TQ3Li4A)\n",
    "11.  [Practical Discrete Mathematics](https://disk.yandex.ru/i/3SESeK_My7PPng)"
   ]
  },
  {
   "cell_type": "markdown",
   "metadata": {
    "id": "w5b2ZoZ5UoXP"
   },
   "source": [
    "# Пример решения задачи 3"
   ]
  },
  {
   "cell_type": "markdown",
   "metadata": {
    "id": "HUcMlIk2dM-U"
   },
   "source": [
    "## Пример 1"
   ]
  },
  {
   "cell_type": "code",
   "execution_count": null,
   "metadata": {
    "id": "aTB3HeEvdmIm"
   },
   "outputs": [],
   "source": [
    "!pip install bitarray > /dev/null 2>&1\n",
    "\n",
    "from math import sin, cos, pi\n",
    "import bitarray as bitarray\n",
    "\n",
    "IMG_WIDTH = 200\n",
    "IMG_HEIGHT = 200\n",
    "\n",
    "DELTA = 0.001  # In radians.\n",
    "PERIOD = 2  # Times pi.\n",
    "MARGIN = 8  # Pixels.\n",
    "\n",
    "# Find next multiple of 32 that follows given IMG_WIDTH.\n",
    "rounded_img_width = (IMG_WIDTH | 31) + 1\n",
    "\n",
    "BITMAPFILEHEADER = (\n",
    "    b'\\x42\\x4D'\n",
    "    b'\\x00\\x00\\x00\\x00'\n",
    "    b'\\x00\\x00'\n",
    "    b'\\x00\\x00'\n",
    "    b'\\x3E\\x00\\x00\\x00'\n",
    ")\n",
    "\n",
    "BITMAPINFOHEADER = (\n",
    "    b'\\x28\\x00\\x00\\x00' +\n",
    "    rounded_img_width.to_bytes(4, byteorder='little') +\n",
    "    IMG_HEIGHT.to_bytes(4, byteorder='little') +\n",
    "    b'\\x01\\x00'\n",
    "    b'\\x01\\x00'\n",
    "    b'\\x00\\x00\\x00\\x00'\n",
    "    b'\\x00\\x00\\x00\\x00'\n",
    "    b'\\x00\\x00\\x00\\x00'\n",
    "    b'\\x00\\x00\\x00\\x00'\n",
    "    b'\\x00\\x00\\x00\\x00'\n",
    "    b'\\x00\\x00\\x00\\x00'\n",
    ")\n",
    "\n",
    "COLORTABLE = (\n",
    "    b'\\xFF\\xFF\\xFF\\x00'\n",
    "    b'\\x00\\x00\\x00\\x00'\n",
    ")\n",
    "\n",
    "calc_x = []\n",
    "calc_y = []\n",
    "\n",
    "t = 0\n",
    "while t <= PERIOD * pi:\n",
    "    calc_x += [-(16 * sin(t)**3)]\n",
    "    calc_y += [-(13 * cos(t) - 5*cos(2*t) - 2*cos(3*t) - cos(4*t))]\n",
    "\n",
    "    t += DELTA\n",
    "\n",
    "# Fitting image to width and move it to the first quadrant.\n",
    "min_x, max_x = min(calc_x), max(calc_x)\n",
    "min_y, max_y = min(calc_y), max(calc_y)\n",
    "\n",
    "scale_x = (rounded_img_width - 2*MARGIN) / (max_x - min_x)\n",
    "scale_y = (IMG_HEIGHT - 2*MARGIN) / (max_y - min_y)\n",
    "\n",
    "shift_x = round(scale_x * abs(min_x)) + MARGIN\n",
    "shift_y = round(scale_y * abs(min_y)) + MARGIN\n",
    "\n",
    "coords_x = [round(scale_x * x) + shift_x for x in calc_x]\n",
    "coords_y = [round(scale_y * y) + shift_y for y in calc_y]\n",
    "\n",
    "pixel_coords = list(zip(coords_x, coords_y))\n",
    "\n",
    "# Create a flat array and fill it with pixel color data.\n",
    "pixel_data = bitarray.bitarray(rounded_img_width * IMG_HEIGHT)\n",
    "pixel_data.setall(0)\n",
    "\n",
    "for (x, y) in pixel_coords:\n",
    "    pixel_data[((y - 1) * rounded_img_width) + x] = 1\n",
    "\n",
    "bmp = bitarray.bitarray()\n",
    "bmp.frombytes(BITMAPFILEHEADER + BITMAPINFOHEADER + COLORTABLE)\n",
    "bmp += pixel_data\n",
    "\n",
    "with open('picture.bmp', 'wb') as fh:\n",
    "    bmp.tofile(fh)\n"
   ]
  },
  {
   "cell_type": "markdown",
   "metadata": {
    "id": "IUA08tZudI9y"
   },
   "source": [
    "## Пример 2"
   ]
  },
  {
   "cell_type": "markdown",
   "metadata": {
    "id": "3OsqhkNEctZg"
   },
   "source": [
    "`bmp.py`"
   ]
  },
  {
   "cell_type": "code",
   "execution_count": null,
   "metadata": {
    "id": "oBcxFr1vXmOc"
   },
   "outputs": [],
   "source": [
    "\"\"\"A module for dealing with BMP bitmap image files.\"\"\"\n",
    "\n",
    "\n",
    "def write_grayscale(filename, pixels):\n",
    "    \"\"\"Creates and writes a grayscale BMP file\n",
    "    Args:\n",
    "        filename: The name of the BMP file to be crated.\n",
    "        pixels: A rectangular image stored as a sequence of rows.\n",
    "            Each row must be an iterable series of integers in the range 0-255.\n",
    "    Raises:\n",
    "        OSError: If the file couldn't be written.\n",
    "    \"\"\"\n",
    "    height = len(pixels)\n",
    "    width = len(pixels[0])\n",
    "\n",
    "    with open(filename, 'wb') as bmp:\n",
    "        # BMP Header\n",
    "        bmp.write(b'BM')\n",
    "\n",
    "        size_bookmark = bmp.tell()  # The next four bytes hold the filesize as a 32-bit\n",
    "        bmp.write(b'\\x00\\x00\\x00\\x00')  # little-endian integer. Zero placeholder for now.\n",
    "\n",
    "        bmp.write(b'\\x00\\x00')  # Unused 16-bit integer - should be zero\n",
    "        bmp.write(b'\\x00\\x00')  # Unused 16-bit integer - should be zero\n",
    "\n",
    "        pixel_offset_bookmark = bmp.tell()  # The next four bytes hold the integer offset\n",
    "        bmp.write(b'\\x00\\x00\\x00\\x00')  # to the pixel data. Zero placeholder for now.\n",
    "\n",
    "        # Image header\n",
    "        bmp.write(b'\\x28\\x00\\x00\\x00')  # Image header size in bytes - 40 decimal\n",
    "        bmp.write(_int32_to_bytes(width))  # Image width in pixels\n",
    "        bmp.write(_int32_to_bytes(height))  # Image height in pixels\n",
    "        bmp.write(b'\\x01\\x00')  # Number of image planes\n",
    "        bmp.write(b'\\x08\\x00')  # Bits per pixel 8 for grayscale\n",
    "        bmp.write(b'\\x00\\x00\\x00\\x00')  # No compression\n",
    "        bmp.write(b'\\x00\\x00\\x00\\x00')  # Zero for uncompressed images\n",
    "        bmp.write(b'\\x00\\x00\\x00\\x00')  # Unused pixels per meter\n",
    "        bmp.write(b'\\x00\\x00\\x00\\x00')  # Unused pixels per meter\n",
    "        bmp.write(b'\\x00\\x00\\x00\\x00')  # Use whole color table\n",
    "        bmp.write(b'\\x00\\x00\\x00\\x00')  # All colors are important\n",
    "\n",
    "        # Color palette - a linear grayscale\n",
    "        for c in range(256):\n",
    "            bmp.write(bytes((c, c, c, 0)))\n",
    "\n",
    "        # Pixel data\n",
    "        pixel_data_bookmark = bmp.tell()\n",
    "        for row in reversed(pixels):  # BMP files are bottom to top\n",
    "            row_data = bytes(row)\n",
    "            bmp.write(row_data)\n",
    "            padding = b'\\x00' * ((4 - (len(row) % 4)) % 4)  # Pad row to multiple of four bytes\n",
    "            bmp.write(padding)\n",
    "\n",
    "        # End of file\n",
    "        eof_bookmark = bmp.tell()\n",
    "\n",
    "        # Fill in file size placeholder\n",
    "        bmp.seek(size_bookmark)\n",
    "        bmp.write(_int32_to_bytes(eof_bookmark))\n",
    "\n",
    "        # Fill in pixel\n",
    "        bmp.seek(pixel_offset_bookmark)\n",
    "        bmp.write(_int32_to_bytes(pixel_data_bookmark))\n",
    "\n",
    "\n",
    "def _int32_to_bytes(i):\n",
    "    \"\"\"Convert an integer to four bytes in little-endian format.\"\"\"\n",
    "    return bytes((i & 0xff,\n",
    "                  i >> 8 & 0xff,\n",
    "                  i >> 16 & 0xff,\n",
    "                  i >> 24 & 0xff))\n",
    "\n",
    "\n",
    "def dimensions(filename):\n",
    "    \"\"\"Determine the dimensions in pixels of a BMP image.\n",
    "    Args:\n",
    "        filename: The filename of a BMP file.\n",
    "    Returns:\n",
    "        A tuple containing two integer with the width\n",
    "        and height in pixels.\n",
    "    Raises:\n",
    "        ValueError: If the file was not aBMP file.\n",
    "        OSError: If there was a problem reading the file.\n",
    "    \"\"\"\n",
    "    with open(filename, 'rb') as f:\n",
    "        magic = f.read(2)\n",
    "        if magic != b'BM':\n",
    "            raise ValueError(\"{} is not a BMP file\".format(filename))\n",
    "\n",
    "        f.seek(18)\n",
    "        width_bytes = f.read(4)\n",
    "        height_bytes = f.read(4)\n",
    "\n",
    "        return (_bytes_to_int32(width_bytes),\n",
    "                _bytes_to_int32(height_bytes))\n",
    "\n",
    "\n",
    "def _bytes_to_int32(b):\n",
    "    return b[0] | (b[1] << 8) | (b[2] << 16 | (b[3] << 24))"
   ]
  },
  {
   "cell_type": "markdown",
   "metadata": {
    "id": "lfy4AJA_dDGw"
   },
   "source": [
    "`my_func.py`"
   ]
  },
  {
   "cell_type": "code",
   "execution_count": null,
   "metadata": {
    "id": "m50nvYOVdHPL"
   },
   "outputs": [],
   "source": [
    "\"\"\"Compouting Mandelbrot sets.\"\"\"\n",
    "import math\n",
    "\n",
    "\n",
    "def drawing_my_func(size_y, size_x):\n",
    "    \"\"\"Создает монохромную матрицу для картинки.\n",
    "    Параметры:\n",
    "        size_x: Высота bmp картинки в пикселях\n",
    "        size_y: ширина bmp картинки в пикселях\n",
    "    Return:\n",
    "        Список списков int в диапазоне 0-255 (0 - черный, 255 - белый).\n",
    "    \"\"\"\n",
    "    data_matrix = [[0] * size_y for i in range(size_x)]\n",
    "    minimum_size = min(size_y, size_x) - 1\n",
    "    k = 10000   # коэффициент периода от 0 до 2*pi\n",
    "    for i in range(int(2*math.pi * k)):\n",
    "        data_matrix[int(int(minimum_size/2)*math.pow(math.sin(i/k), 3)) + int(size_x / 2)][int(int(minimum_size / 2) * math.pow(math.cos(i / k), 3)) + int(size_y / 2)] = 255\n",
    "    return"
   ]
  },
  {
   "cell_type": "markdown",
   "metadata": {
    "id": "22tboghKc4R1"
   },
   "source": [
    "`main.py`"
   ]
  },
  {
   "cell_type": "code",
   "execution_count": null,
   "metadata": {
    "id": "NTFd3-jJY3VF"
   },
   "outputs": [],
   "source": [
    "import bmp\n",
    "import my_func\n",
    "import sys\n",
    "\n",
    "\n",
    "def main(width=1200, height=1200, name='draw.bmp'):\n",
    "    \"\"\"Создает bmp-рисунок функции x = 2*(sin(t))^3, y = 2*(cos(t))^3 при t [0, 2*pi]\n",
    "    Параметры:\n",
    "        width: Ширина bmp картинки в пикселях\n",
    "        height: Высота bmp картинки в пикселях\n",
    "    \"\"\"\n",
    "    pixels = my_func.drawing_my_func(width, height)\n",
    "    bmp.write_grayscale(name, pixels)\n",
    "\n",
    "\n",
    "if __name__ == \"__main__\":\n",
    "    main(int(sys.argv[1]), int(sys.argv[2]), sys.argv[3])"
   ]
  },
  {
   "cell_type": "code",
   "execution_count": null,
   "metadata": {
    "colab": {
     "base_uri": "https://localhost:8080/",
     "height": 259
    },
    "id": "3J6LsjfuEZl1",
    "outputId": "063b92a3-8a7e-47da-8ca7-d9816ee0fcbd"
   },
   "outputs": [],
   "source": [
    "\n",
    "import requests\n",
    "import matplotlib.pyplot as plt\n",
    "\n",
    "# API-ключ для доступа к данным OpenWeatherMap\n",
    "api_key = '94210884db92ab52ce306f0466046ebc'\n",
    "\n",
    "# URL-адрес запроса на получение исторических данных о погоде в Приозерске\n",
    "url = f'http://api.openweathermap.org/data/2.5/onecall/timemachine?lat=61.036&lon=30.1496&units=metric&appid={api_key}'\n",
    "\n",
    "# Отправка GET-запроса к API и получение данных в формате JSON\n",
    "response = requests.get(url)\n",
    "if response.status_code == 200:\n",
    "    data = response.json()\n",
    "    print(data)\n",
    "else:\n",
    "    print('Ошибка при получении данных: ', response.status_code)\n",
    "    exit()\n",
    "\n",
    "# Вычисление средней температуры за каждый месяц\n",
    "monthly_data = {}\n",
    "\n",
    "for item in data['list']:\n",
    "    timestamp = item['dt']\n",
    "    date = pd.to_datetime(timestamp, unit='s')\n",
    "    month = date.month\n",
    "\n",
    "    if month not in monthly_data:\n",
    "        monthly_data[month] = {'temp': [], 'count': 0}\n",
    "\n",
    "    monthly_data[month]['temp'].append(item['main']['temp'])\n",
    "    monthly_data[month]['count'] += 1\n",
    "\n",
    "for month in monthly_data:\n",
    "    monthly_data[month]['avg_temp'] = sum(monthly_data[month]['temp']) / monthly_data[month]['count']\n",
    "\n",
    "# Построение графика средней температуры за год\n",
    "plt.plot(range(1, 13), [monthly_data[month]['avg_temp'] for month in range(1, 13)])\n",
    "plt.title('Средняя температура за год в Приозерске')\n",
    "plt.xlabel('Месяц')\n",
    "plt.ylabel('Средняя температура, °C')\n",
    "plt.show()"
   ]
  }
 ],
 "metadata": {
  "colab": {
   "provenance": []
  },
  "kernelspec": {
   "display_name": "Python 3 (ipykernel)",
   "language": "python",
   "name": "python3"
  },
  "language_info": {
   "codemirror_mode": {
    "name": "ipython",
    "version": 3
   },
   "file_extension": ".py",
   "mimetype": "text/x-python",
   "name": "python",
   "nbconvert_exporter": "python",
   "pygments_lexer": "ipython3",
   "version": "3.11.4"
  }
 },
 "nbformat": 4,
 "nbformat_minor": 4
}
