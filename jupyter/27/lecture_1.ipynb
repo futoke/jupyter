{
  "nbformat": 4,
  "nbformat_minor": 0,
  "metadata": {
    "colab": {
      "provenance": []
    },
    "kernelspec": {
      "name": "python3",
      "display_name": "Python 3"
    },
    "language_info": {
      "name": "python"
    }
  },
  "cells": [
    {
      "cell_type": "markdown",
      "source": [
        "Самая первая программа на Python"
      ],
      "metadata": {
        "id": "aEBi9M-ABZg9"
      }
    },
    {
      "cell_type": "code",
      "execution_count": null,
      "metadata": {
        "id": "W40-i1jZBF0U"
      },
      "outputs": [],
      "source": [
        "print('Hello world')"
      ]
    },
    {
      "cell_type": "markdown",
      "source": [
        "Операции над целыми числам\n"
      ],
      "metadata": {
        "id": "gAUwBnbDCgr3"
      }
    },
    {
      "cell_type": "code",
      "source": [
        "2 + 2"
      ],
      "metadata": {
        "id": "vYeUakEBDCpi"
      },
      "execution_count": null,
      "outputs": []
    },
    {
      "cell_type": "code",
      "source": [
        "50 - 5*6"
      ],
      "metadata": {
        "id": "zeET5Y1_DWLA"
      },
      "execution_count": null,
      "outputs": []
    },
    {
      "cell_type": "code",
      "source": [
        "(50 - 5*6) / 4 # Здесь результат будет во float."
      ],
      "metadata": {
        "id": "hB23MmmMDYQp"
      },
      "execution_count": null,
      "outputs": []
    },
    {
      "cell_type": "code",
      "source": [
        "abs(-12)"
      ],
      "metadata": {
        "id": "2B5JxO0xFd-a"
      },
      "execution_count": null,
      "outputs": []
    },
    {
      "cell_type": "markdown",
      "source": [
        "Целочисленное деление"
      ],
      "metadata": {
        "id": "RvippCOiDogD"
      }
    },
    {
      "cell_type": "code",
      "source": [
        "34 // 11"
      ],
      "metadata": {
        "id": "W_lFty8NDjJS"
      },
      "execution_count": null,
      "outputs": []
    },
    {
      "cell_type": "markdown",
      "source": [
        "Остаток от деления"
      ],
      "metadata": {
        "id": "QmaLhAiGDxNG"
      }
    },
    {
      "cell_type": "code",
      "source": [
        "34 % 11"
      ],
      "metadata": {
        "id": "HUAF5xyzDzwv"
      },
      "execution_count": null,
      "outputs": []
    },
    {
      "cell_type": "code",
      "source": [
        "divmod(34, 11)"
      ],
      "metadata": {
        "id": "UOiih9-JLNpc"
      },
      "execution_count": null,
      "outputs": []
    },
    {
      "cell_type": "markdown",
      "source": [
        "Возведение в степень"
      ],
      "metadata": {
        "id": "ip5DWSX1EDps"
      }
    },
    {
      "cell_type": "code",
      "source": [
        "2 ** 2457 # Степень может быть любая."
      ],
      "metadata": {
        "id": "ZyhYSWkeEGYg"
      },
      "execution_count": null,
      "outputs": []
    },
    {
      "cell_type": "code",
      "source": [
        "pow(2, 345)"
      ],
      "metadata": {
        "id": "ZYKNXnFzE9pw"
      },
      "execution_count": null,
      "outputs": []
    },
    {
      "cell_type": "code",
      "source": [
        "0 ** 0"
      ],
      "metadata": {
        "id": "V-9kuDJVFHil",
        "colab": {
          "base_uri": "https://localhost:8080/"
        },
        "outputId": "17b14661-224d-4bbd-9342-0cbbe097cc5a"
      },
      "execution_count": null,
      "outputs": [
        {
          "output_type": "execute_result",
          "data": {
            "text/plain": [
              "1"
            ]
          },
          "metadata": {},
          "execution_count": 1
        }
      ]
    },
    {
      "cell_type": "code",
      "source": [
        "pow(0, 0)"
      ],
      "metadata": {
        "id": "qOj-QXMFFBF4"
      },
      "execution_count": null,
      "outputs": []
    },
    {
      "cell_type": "markdown",
      "source": [
        "Битовые операции над целыми числами"
      ],
      "metadata": {
        "id": "G6Enji2EF4mP"
      }
    },
    {
      "cell_type": "code",
      "source": [
        "bin(7)"
      ],
      "metadata": {
        "id": "--Wz5rMMGLng"
      },
      "execution_count": null,
      "outputs": []
    },
    {
      "cell_type": "code",
      "source": [
        "bin(11)"
      ],
      "metadata": {
        "id": "bn9TyTLhGb90"
      },
      "execution_count": null,
      "outputs": []
    },
    {
      "cell_type": "code",
      "source": [
        "7 & 11"
      ],
      "metadata": {
        "id": "7G8U8ZgiF9Em",
        "colab": {
          "base_uri": "https://localhost:8080/"
        },
        "outputId": "82d360f7-d49f-41be-c7b5-0208f52cab62"
      },
      "execution_count": null,
      "outputs": [
        {
          "output_type": "execute_result",
          "data": {
            "text/plain": [
              "3"
            ]
          },
          "metadata": {},
          "execution_count": 2
        }
      ]
    },
    {
      "cell_type": "code",
      "source": [
        "7 | 11"
      ],
      "metadata": {
        "id": "zKiK8ZZVGiv2",
        "colab": {
          "base_uri": "https://localhost:8080/"
        },
        "outputId": "c7221cd2-02e7-41a1-afe4-4a0b992c63e6"
      },
      "execution_count": null,
      "outputs": [
        {
          "output_type": "execute_result",
          "data": {
            "text/plain": [
              "15"
            ]
          },
          "metadata": {},
          "execution_count": 3
        }
      ]
    },
    {
      "cell_type": "code",
      "source": [
        "7 ^ 11"
      ],
      "metadata": {
        "id": "aqto_6zgGqYQ",
        "colab": {
          "base_uri": "https://localhost:8080/"
        },
        "outputId": "9b53f683-5ff2-4920-9c91-595d75c7fa47"
      },
      "execution_count": null,
      "outputs": [
        {
          "output_type": "execute_result",
          "data": {
            "text/plain": [
              "12"
            ]
          },
          "metadata": {},
          "execution_count": 4
        }
      ]
    },
    {
      "cell_type": "code",
      "source": [
        "7 >> 2"
      ],
      "metadata": {
        "id": "i5ltR4BiGznD",
        "colab": {
          "base_uri": "https://localhost:8080/"
        },
        "outputId": "3bf1e8a8-cea3-4f5b-8357-be62dbfc617f"
      },
      "execution_count": null,
      "outputs": [
        {
          "output_type": "execute_result",
          "data": {
            "text/plain": [
              "1"
            ]
          },
          "metadata": {},
          "execution_count": 5
        }
      ]
    },
    {
      "cell_type": "code",
      "source": [
        "7 << 2"
      ],
      "metadata": {
        "id": "1Xpqi404G06E",
        "colab": {
          "base_uri": "https://localhost:8080/"
        },
        "outputId": "b1a7e4a5-f408-4ddd-a5f4-eb9be5d7ba35"
      },
      "execution_count": null,
      "outputs": [
        {
          "output_type": "execute_result",
          "data": {
            "text/plain": [
              "28"
            ]
          },
          "metadata": {},
          "execution_count": 6
        }
      ]
    },
    {
      "cell_type": "code",
      "source": [
        "~7"
      ],
      "metadata": {
        "id": "9QdJu2ivG240",
        "colab": {
          "base_uri": "https://localhost:8080/"
        },
        "outputId": "9e6deb33-6ec9-4682-e16d-686e36f01176"
      },
      "execution_count": null,
      "outputs": [
        {
          "output_type": "execute_result",
          "data": {
            "text/plain": [
              "-8"
            ]
          },
          "metadata": {},
          "execution_count": 7
        }
      ]
    },
    {
      "cell_type": "code",
      "source": [
        "-3 ^ -11"
      ],
      "metadata": {
        "id": "zJosfKQoG6Zo",
        "colab": {
          "base_uri": "https://localhost:8080/"
        },
        "outputId": "4d2944c8-671b-4ff3-dc5e-faed8ca02789"
      },
      "execution_count": null,
      "outputs": [
        {
          "output_type": "execute_result",
          "data": {
            "text/plain": [
              "8"
            ]
          },
          "metadata": {},
          "execution_count": 8
        }
      ]
    },
    {
      "cell_type": "markdown",
      "source": [
        "Битовая магия"
      ],
      "metadata": {
        "id": "HbYidDIBHIdd"
      }
    },
    {
      "cell_type": "code",
      "source": [
        "def test_bit(num, offset):\n",
        "  \"\"\"Проверить бит по позиции.\"\"\"\n",
        "  return num & (1 << offset)\n",
        "\n",
        "print(test_bit(0b10100, 3))"
      ],
      "metadata": {
        "colab": {
          "base_uri": "https://localhost:8080/"
        },
        "id": "ACnz619RHKyh",
        "outputId": "ec8000f6-ba69-45cf-9e2f-ba70423e2673"
      },
      "execution_count": null,
      "outputs": [
        {
          "output_type": "stream",
          "name": "stdout",
          "text": [
            "0\n"
          ]
        }
      ]
    },
    {
      "cell_type": "code",
      "source": [
        "def set_bit(num, offset):\n",
        "  \"\"\"Установить бит в единицу по позиции.\"\"\"\n",
        "  num |= (1 << offset)\n",
        "  return num\n",
        "\n",
        "print(bin(set_bit(0b10000, 3)))"
      ],
      "metadata": {
        "id": "DV8iyPB7JExm"
      },
      "execution_count": null,
      "outputs": []
    },
    {
      "cell_type": "code",
      "source": [
        "def reset_bit(num, offset):\n",
        "  \"\"\"Установить бит в ноль по позиции.\"\"\"\n",
        "  num &= ~(1 << offset)\n",
        "  return num\n",
        "\n",
        "print(bin(reset_bit(0b11000, 3)))"
      ],
      "metadata": {
        "id": "vRV34EGcJzJl"
      },
      "execution_count": null,
      "outputs": []
    },
    {
      "cell_type": "code",
      "source": [
        "def invert_bit(num, offset):\n",
        "  \"\"\"Инвертировать бит по позиции.\"\"\"\n",
        "  num ^= (1 << offset)\n",
        "  return num\n",
        "\n",
        "print(bin(invert_bit(0b10000, 3)))"
      ],
      "metadata": {
        "id": "_qqj-U70K18N"
      },
      "execution_count": null,
      "outputs": []
    },
    {
      "cell_type": "code",
      "source": [
        "# Поменять местами переменные без буфера.\n",
        "x = 5\n",
        "y = 10\n",
        "x ^= y\n",
        "y ^= x\n",
        "x ^= y\n",
        "print(x, y)"
      ],
      "metadata": {
        "id": "O_nb_oilLAUm"
      },
      "execution_count": null,
      "outputs": []
    },
    {
      "cell_type": "markdown",
      "source": [
        "Вещественные числа"
      ],
      "metadata": {
        "id": "ZLrXjUkCRlIe"
      }
    },
    {
      "cell_type": "code",
      "source": [
        "3.45e5"
      ],
      "metadata": {
        "id": "l3yyGwy2Rq0R"
      },
      "execution_count": null,
      "outputs": []
    },
    {
      "cell_type": "code",
      "source": [
        "5.45E-5"
      ],
      "metadata": {
        "id": "utZyQgckR4Na"
      },
      "execution_count": null,
      "outputs": []
    },
    {
      "cell_type": "code",
      "source": [
        "-0.12e-13"
      ],
      "metadata": {
        "id": "YIpEDfsKR9CZ"
      },
      "execution_count": null,
      "outputs": []
    },
    {
      "cell_type": "code",
      "source": [
        "float('+Inf')"
      ],
      "metadata": {
        "id": "Kc1S4WjMSLoa"
      },
      "execution_count": null,
      "outputs": []
    },
    {
      "cell_type": "code",
      "source": [
        "float('-Inf')"
      ],
      "metadata": {
        "id": "MQEYxHyQSUfJ"
      },
      "execution_count": null,
      "outputs": []
    },
    {
      "cell_type": "code",
      "source": [
        "float('NaN')"
      ],
      "metadata": {
        "id": "EwuG-TieSYOS"
      },
      "execution_count": null,
      "outputs": []
    },
    {
      "cell_type": "code",
      "source": [
        "a = 10\n",
        "print(0 < a < float('+Inf'))"
      ],
      "metadata": {
        "id": "b5ZB2y_kScJa"
      },
      "execution_count": null,
      "outputs": []
    },
    {
      "cell_type": "code",
      "source": [
        "0.1 + 0.1 + 0.1 - 0.3"
      ],
      "metadata": {
        "id": "Q5zl69x_So8g"
      },
      "execution_count": null,
      "outputs": []
    },
    {
      "cell_type": "markdown",
      "source": [
        "Округление для float"
      ],
      "metadata": {
        "id": "4Lbwupg0P-Km"
      }
    },
    {
      "cell_type": "code",
      "source": [
        "round(3.7654)"
      ],
      "metadata": {
        "id": "qWN-4ABAg0Rk"
      },
      "execution_count": null,
      "outputs": []
    },
    {
      "cell_type": "code",
      "source": [
        "round(3.7654, 2)"
      ],
      "metadata": {
        "id": "GgWRSvhAhBDT"
      },
      "execution_count": null,
      "outputs": []
    },
    {
      "cell_type": "code",
      "source": [
        "from math import ceil, floor"
      ],
      "metadata": {
        "id": "txztfzqIhFyf"
      },
      "execution_count": null,
      "outputs": []
    },
    {
      "cell_type": "code",
      "source": [
        "floor(3.6578)"
      ],
      "metadata": {
        "id": "qs7WyuROhKsf"
      },
      "execution_count": null,
      "outputs": []
    },
    {
      "cell_type": "code",
      "source": [
        "ceil(3.6578)"
      ],
      "metadata": {
        "id": "y5k-pv1UhmXk"
      },
      "execution_count": null,
      "outputs": []
    },
    {
      "cell_type": "markdown",
      "source": [
        "Математические функции\n"
      ],
      "metadata": {
        "id": "0APEknWRiJAx"
      }
    },
    {
      "cell_type": "code",
      "source": [
        "import math\n",
        "dir(math)"
      ],
      "metadata": {
        "id": "GbGlpdi_im41"
      },
      "execution_count": null,
      "outputs": []
    },
    {
      "cell_type": "code",
      "source": [
        "from math import sqrt, sin, log, pi, e"
      ],
      "metadata": {
        "id": "gJxa4r5oiOJn"
      },
      "execution_count": null,
      "outputs": []
    },
    {
      "cell_type": "code",
      "source": [
        "sin(pi/4)"
      ],
      "metadata": {
        "id": "bPsJ9ujPqatR"
      },
      "execution_count": null,
      "outputs": []
    },
    {
      "cell_type": "code",
      "source": [
        "log(e/2)"
      ],
      "metadata": {
        "id": "Q0tFMQeDqhtw"
      },
      "execution_count": null,
      "outputs": []
    },
    {
      "cell_type": "code",
      "source": [
        "sqrt(35)"
      ],
      "metadata": {
        "id": "Cs0-lgODqoU3"
      },
      "execution_count": null,
      "outputs": []
    },
    {
      "cell_type": "code",
      "source": [
        "sqrt(-35)"
      ],
      "metadata": {
        "id": "sbCUcU3iq3J7"
      },
      "execution_count": null,
      "outputs": []
    },
    {
      "cell_type": "markdown",
      "source": [
        "Точные вещесвенные числа: модуль Decimal"
      ],
      "metadata": {
        "id": "w9l4NkMXSu3I"
      }
    },
    {
      "cell_type": "code",
      "source": [
        "from decimal import Decimal, getcontext\n",
        "\n",
        "getcontext().prec = 27       # Точность в знаках после запятой"
      ],
      "metadata": {
        "id": "Jah12ND_TOhD"
      },
      "execution_count": null,
      "outputs": []
    },
    {
      "cell_type": "code",
      "source": [
        "Decimal(10)"
      ],
      "metadata": {
        "id": "EvCn5rIYTm40"
      },
      "execution_count": null,
      "outputs": []
    },
    {
      "cell_type": "code",
      "source": [
        "Decimal('3.14')"
      ],
      "metadata": {
        "id": "B5tovW9aVFJW"
      },
      "execution_count": null,
      "outputs": []
    },
    {
      "cell_type": "code",
      "source": [
        "Decimal(3.14)"
      ],
      "metadata": {
        "id": "SdonUrZuVJI4"
      },
      "execution_count": null,
      "outputs": []
    },
    {
      "cell_type": "code",
      "source": [
        "Decimal((0, (3, 1, 4), -2))"
      ],
      "metadata": {
        "id": "VAo9yrinVLRR"
      },
      "execution_count": null,
      "outputs": []
    },
    {
      "cell_type": "code",
      "source": [
        "Decimal(str(2.0 ** 0.5))"
      ],
      "metadata": {
        "id": "5IOBYxIFVM7c"
      },
      "execution_count": null,
      "outputs": []
    },
    {
      "cell_type": "code",
      "source": [
        "Decimal(2) ** Decimal('0.5')"
      ],
      "metadata": {
        "id": "ATdkfEaHVO8u"
      },
      "execution_count": null,
      "outputs": []
    },
    {
      "cell_type": "code",
      "source": [
        "Decimal('NaN')"
      ],
      "metadata": {
        "id": "HNiaCeVtVATe"
      },
      "execution_count": null,
      "outputs": []
    },
    {
      "cell_type": "code",
      "source": [
        "Decimal('-Infinity')"
      ],
      "metadata": {
        "id": "rOXo4Bu_VQhu"
      },
      "execution_count": null,
      "outputs": []
    },
    {
      "cell_type": "markdown",
      "source": [
        "Комплексные числа"
      ],
      "metadata": {
        "id": "vjS70PPQEZLg"
      }
    },
    {
      "cell_type": "code",
      "source": [
        "4j + (3j + 3)"
      ],
      "metadata": {
        "id": "aMCkfacGEb-c"
      },
      "execution_count": null,
      "outputs": []
    }
  ]
}